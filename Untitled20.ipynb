{
 "cells": [
  {
   "cell_type": "code",
   "execution_count": 55,
   "id": "5f105045",
   "metadata": {
    "scrolled": true
   },
   "outputs": [
    {
     "name": "stdout",
     "output_type": "stream",
     "text": [
      "Requirement already satisfied: skranger in c:\\users\\dear user\\anaconda3\\lib\\site-packages (0.8.0)\n",
      "Requirement already satisfied: scikit-learn>=1.0 in c:\\users\\dear user\\anaconda3\\lib\\site-packages (from skranger) (1.2.1)\n",
      "Requirement already satisfied: numpy>=1.17.3 in c:\\users\\dear user\\anaconda3\\lib\\site-packages (from scikit-learn>=1.0->skranger) (1.22.4)\n",
      "Requirement already satisfied: scipy>=1.3.2 in c:\\users\\dear user\\anaconda3\\lib\\site-packages (from scikit-learn>=1.0->skranger) (1.6.2)\n",
      "Requirement already satisfied: threadpoolctl>=2.0.0 in c:\\users\\dear user\\anaconda3\\lib\\site-packages (from scikit-learn>=1.0->skranger) (2.1.0)\n",
      "Requirement already satisfied: joblib>=1.1.1 in c:\\users\\dear user\\anaconda3\\lib\\site-packages (from scikit-learn>=1.0->skranger) (1.2.0)\n"
     ]
    }
   ],
   "source": [
    "!pip install skranger"
   ]
  },
  {
   "cell_type": "code",
   "execution_count": 56,
   "id": "31073c53",
   "metadata": {
    "scrolled": true
   },
   "outputs": [
    {
     "name": "stdout",
     "output_type": "stream",
     "text": [
      "Requirement already satisfied: scikit-learn in c:\\users\\dear user\\anaconda3\\lib\\site-packages (1.2.1)\n",
      "Requirement already satisfied: joblib>=1.1.1 in c:\\users\\dear user\\anaconda3\\lib\\site-packages (from scikit-learn) (1.2.0)\n",
      "Requirement already satisfied: numpy>=1.17.3 in c:\\users\\dear user\\anaconda3\\lib\\site-packages (from scikit-learn) (1.22.4)\n",
      "Requirement already satisfied: scipy>=1.3.2 in c:\\users\\dear user\\anaconda3\\lib\\site-packages (from scikit-learn) (1.6.2)\n",
      "Requirement already satisfied: threadpoolctl>=2.0.0 in c:\\users\\dear user\\anaconda3\\lib\\site-packages (from scikit-learn) (2.1.0)\n"
     ]
    }
   ],
   "source": [
    "!pip install --upgrade scikit-learn"
   ]
  },
  {
   "cell_type": "code",
   "execution_count": 57,
   "id": "0ee0b0f4",
   "metadata": {
    "scrolled": true
   },
   "outputs": [
    {
     "name": "stdout",
     "output_type": "stream",
     "text": [
      "Requirement already satisfied: panda in c:\\users\\dear user\\anaconda3\\lib\\site-packages (0.3.1)\n",
      "Requirement already satisfied: setuptools in c:\\users\\dear user\\anaconda3\\lib\\site-packages (from panda) (52.0.0.post20210125)\n",
      "Requirement already satisfied: requests in c:\\users\\dear user\\anaconda3\\lib\\site-packages (from panda) (2.25.1)\n",
      "Requirement already satisfied: idna<3,>=2.5 in c:\\users\\dear user\\anaconda3\\lib\\site-packages (from requests->panda) (2.10)\n",
      "Requirement already satisfied: certifi>=2017.4.17 in c:\\users\\dear user\\anaconda3\\lib\\site-packages (from requests->panda) (2020.12.5)\n",
      "Requirement already satisfied: urllib3<1.27,>=1.21.1 in c:\\users\\dear user\\anaconda3\\lib\\site-packages (from requests->panda) (1.26.4)\n",
      "Requirement already satisfied: chardet<5,>=3.0.2 in c:\\users\\dear user\\anaconda3\\lib\\site-packages (from requests->panda) (4.0.0)\n"
     ]
    }
   ],
   "source": [
    "!pip install panda"
   ]
  },
  {
   "cell_type": "code",
   "execution_count": 58,
   "id": "d056615e",
   "metadata": {},
   "outputs": [
    {
     "name": "stdout",
     "output_type": "stream",
     "text": [
      "Requirement already satisfied: requests in c:\\users\\dear user\\anaconda3\\lib\\site-packages (2.25.1)\n",
      "Requirement already satisfied: idna<3,>=2.5 in c:\\users\\dear user\\anaconda3\\lib\\site-packages (from requests) (2.10)\n",
      "Requirement already satisfied: urllib3<1.27,>=1.21.1 in c:\\users\\dear user\\anaconda3\\lib\\site-packages (from requests) (1.26.4)\n",
      "Requirement already satisfied: certifi>=2017.4.17 in c:\\users\\dear user\\anaconda3\\lib\\site-packages (from requests) (2020.12.5)\n",
      "Requirement already satisfied: chardet<5,>=3.0.2 in c:\\users\\dear user\\anaconda3\\lib\\site-packages (from requests) (4.0.0)\n"
     ]
    }
   ],
   "source": [
    "!pip install requests\n"
   ]
  },
  {
   "cell_type": "code",
   "execution_count": 59,
   "id": "a843fc22",
   "metadata": {},
   "outputs": [
    {
     "ename": "ModuleNotFoundError",
     "evalue": "No module named 'request'",
     "output_type": "error",
     "traceback": [
      "\u001b[1;31m---------------------------------------------------------------------------\u001b[0m",
      "\u001b[1;31mModuleNotFoundError\u001b[0m                       Traceback (most recent call last)",
      "\u001b[1;32m<ipython-input-59-65ab0412ff03>\u001b[0m in \u001b[0;36m<module>\u001b[1;34m\u001b[0m\n\u001b[0;32m      1\u001b[0m \u001b[1;31m#Analysing data set\u001b[0m\u001b[1;33m\u001b[0m\u001b[1;33m\u001b[0m\u001b[1;33m\u001b[0m\u001b[0m\n\u001b[0;32m      2\u001b[0m \u001b[1;32mimport\u001b[0m \u001b[0mnumpy\u001b[0m \u001b[1;32mas\u001b[0m \u001b[0mnp\u001b[0m\u001b[1;33m\u001b[0m\u001b[1;33m\u001b[0m\u001b[0m\n\u001b[1;32m----> 3\u001b[1;33m \u001b[1;32mimport\u001b[0m \u001b[0mpanda\u001b[0m \u001b[1;32mas\u001b[0m \u001b[0mpd\u001b[0m\u001b[1;33m\u001b[0m\u001b[1;33m\u001b[0m\u001b[0m\n\u001b[0m\u001b[0;32m      4\u001b[0m \u001b[1;32mfrom\u001b[0m \u001b[0mplotnine\u001b[0m \u001b[1;32mimport\u001b[0m \u001b[1;33m*\u001b[0m\u001b[1;33m\u001b[0m\u001b[1;33m\u001b[0m\u001b[0m\n\u001b[0;32m      5\u001b[0m \u001b[1;32mfrom\u001b[0m \u001b[0mmizani\u001b[0m\u001b[1;33m.\u001b[0m\u001b[0mformatters\u001b[0m \u001b[1;32mimport\u001b[0m \u001b[0mpercent_format\u001b[0m\u001b[1;33m\u001b[0m\u001b[1;33m\u001b[0m\u001b[0m\n",
      "\u001b[1;32m~\\anaconda3\\lib\\site-packages\\panda\\__init__.py\u001b[0m in \u001b[0;36m<module>\u001b[1;34m\u001b[0m\n\u001b[1;32m----> 1\u001b[1;33m \u001b[1;32mfrom\u001b[0m \u001b[0mrequest\u001b[0m \u001b[1;32mimport\u001b[0m \u001b[0mPandaRequest\u001b[0m\u001b[1;33m\u001b[0m\u001b[1;33m\u001b[0m\u001b[0m\n\u001b[0m\u001b[0;32m      2\u001b[0m \u001b[1;32mfrom\u001b[0m \u001b[0mmodels\u001b[0m \u001b[1;32mimport\u001b[0m \u001b[0mVideo\u001b[0m\u001b[1;33m,\u001b[0m \u001b[0mCloud\u001b[0m\u001b[1;33m,\u001b[0m \u001b[0mEncoding\u001b[0m\u001b[1;33m,\u001b[0m \u001b[0mProfile\u001b[0m\u001b[1;33m,\u001b[0m \u001b[0mNotifications\u001b[0m\u001b[1;33m,\u001b[0m \u001b[0mPandaDict\u001b[0m\u001b[1;33m\u001b[0m\u001b[1;33m\u001b[0m\u001b[0m\n\u001b[0;32m      3\u001b[0m \u001b[1;32mfrom\u001b[0m \u001b[0mmodels\u001b[0m \u001b[1;32mimport\u001b[0m \u001b[0mGroupRetriever\u001b[0m\u001b[1;33m,\u001b[0m \u001b[0mSingleRetriever\u001b[0m\u001b[1;33m\u001b[0m\u001b[1;33m\u001b[0m\u001b[0m\n\u001b[0;32m      4\u001b[0m \u001b[1;32mfrom\u001b[0m \u001b[0mmodels\u001b[0m \u001b[1;32mimport\u001b[0m \u001b[0mPandaError\u001b[0m\u001b[1;33m\u001b[0m\u001b[1;33m\u001b[0m\u001b[0m\n\u001b[0;32m      5\u001b[0m \u001b[1;32mfrom\u001b[0m \u001b[0mupload_session\u001b[0m \u001b[1;32mimport\u001b[0m \u001b[0mUploadSession\u001b[0m\u001b[1;33m\u001b[0m\u001b[1;33m\u001b[0m\u001b[0m\n",
      "\u001b[1;31mModuleNotFoundError\u001b[0m: No module named 'request'"
     ]
    }
   ],
   "source": [
    "#Analysing data set\n",
    "import numpy as np\n",
    "import panda as pd\n",
    "from plotnine import *\n",
    "from mizani.formatters import percent_format\n",
    "import matplotlib.pyplot as plt\n",
    "import warnings\n",
    "\n",
    "warnings.filterwarnings(\"ignore\")\n",
    "\n",
    "from patsy import dmatrices\n",
    "from sklearn.model_selection import train_test_split\n",
    "from skranger.ensemble import RangerForestRegressor\n",
    "from xgboost import XGBRegressor\n",
    "from sklearn.linear_model import LinearRegression\n",
    "from sklearn.compose import TransformedTargetRegressor\n",
    "from sklearn.preprocessing import StandardScaler\n",
    "from sklearn.ensemble import RandomForestRegressor\n",
    "from sklearn.linear_model import ElasticNet\n",
    "from sklearn.metrics import mean_squared_error\n",
    "from sklearn.model_selection import GridSearchCV\n",
    "from sklearn.inspection import permutation_importance\n",
    "from sklearn.inspection import plot_partial_dependence\n",
    "from sklearn.inspection import partial_dependence\n",
    "from sklearn.utils import resample\n",
    "from sklearn.compose import ColumnTransformer\n",
    "from sklearn.pipeline import Pipeline\n",
    "from sklearn.preprocessing import OneHotEncoder"
   ]
  },
  {
   "cell_type": "code",
   "execution_count": 60,
   "id": "1b4b18bc",
   "metadata": {},
   "outputs": [],
   "source": [
    "def plot_pred_true_scatter(true_price,predicted_price,title=\"asd\"):\n",
    "    fig, ax = plt.subplots(figsize=(5,5))\n",
    "    plt.scatter(true_price, predicted_price)\n",
    "    lims = [\n",
    "        np.min([ax.get_xlim(), ax.get_ylim()]),  # min of both axes\n",
    "        np.max([ax.get_xlim(), ax.get_ylim()]),  # max of both axes\n",
    "    ]\n",
    "    \n",
    "    # now plot both limits against eachother\n",
    "    ax.plot(lims, lims, 'k-', alpha=0.75, zorder=0)\n",
    "    ax.set_aspect('equal')\n",
    "    ax.set_xlim(lims)\n",
    "    ax.set_ylim(lims)\n",
    "    plt.xlabel(\"True price\")\n",
    "    plt.ylabel(\"Predicted price\")\n",
    "    plt.title(title)\n",
    "    plt.show()\n",
    "    \n",
    "def corr_pred(array):\n",
    "    return np.exp(array)*np.exp(residual_std)"
   ]
  },
  {
   "cell_type": "code",
   "execution_count": 61,
   "id": "12d51b26",
   "metadata": {},
   "outputs": [],
   "source": [
    "#Loading and preparing data"
   ]
  },
  {
   "cell_type": "code",
   "execution_count": 62,
   "id": "c80d43c6",
   "metadata": {},
   "outputs": [
    {
     "ename": "NameError",
     "evalue": "name 'pd' is not defined",
     "output_type": "error",
     "traceback": [
      "\u001b[1;31m---------------------------------------------------------------------------\u001b[0m",
      "\u001b[1;31mNameError\u001b[0m                                 Traceback (most recent call last)",
      "\u001b[1;32m<ipython-input-62-30c402d2b9a7>\u001b[0m in \u001b[0;36m<module>\u001b[1;34m\u001b[0m\n\u001b[0;32m      1\u001b[0m \u001b[0marea\u001b[0m \u001b[1;33m=\u001b[0m \u001b[1;34m\"bangkok\"\u001b[0m\u001b[1;33m\u001b[0m\u001b[1;33m\u001b[0m\u001b[0m\n\u001b[1;32m----> 2\u001b[1;33m \u001b[0mdata\u001b[0m \u001b[1;33m=\u001b[0m \u001b[0mpd\u001b[0m\u001b[1;33m.\u001b[0m\u001b[0mread_csv\u001b[0m\u001b[1;33m(\u001b[0m\u001b[1;34m\"../data/airbnb_\"\u001b[0m \u001b[1;33m+\u001b[0m \u001b[0marea\u001b[0m \u001b[1;33m+\u001b[0m \u001b[1;34m\"bangkok_workfile.csv\"\u001b[0m\u001b[1;33m)\u001b[0m\u001b[1;33m\u001b[0m\u001b[1;33m\u001b[0m\u001b[0m\n\u001b[0m\u001b[0;32m      3\u001b[0m \u001b[0mdata\u001b[0m \u001b[1;33m=\u001b[0m \u001b[0mdata\u001b[0m\u001b[1;33m.\u001b[0m\u001b[0mloc\u001b[0m\u001b[1;33m[\u001b[0m\u001b[0mdata\u001b[0m\u001b[1;33m.\u001b[0m\u001b[0mprice\u001b[0m\u001b[1;33m.\u001b[0m\u001b[0mnotna\u001b[0m\u001b[1;33m(\u001b[0m\u001b[1;33m)\u001b[0m\u001b[1;33m,\u001b[0m \u001b[1;33m:\u001b[0m\u001b[1;33m]\u001b[0m\u001b[1;33m\u001b[0m\u001b[1;33m\u001b[0m\u001b[0m\n",
      "\u001b[1;31mNameError\u001b[0m: name 'pd' is not defined"
     ]
    }
   ],
   "source": [
    "area = \"bangkok\"\n",
    "data = pd.read_csv(\"../data/airbnb_\" + area + \"bangkok_workfile.csv\")\n",
    "data = data.loc[data.price.notna(), :]"
   ]
  },
  {
   "cell_type": "code",
   "execution_count": 63,
   "id": "c3e65c9f",
   "metadata": {},
   "outputs": [
    {
     "ename": "NameError",
     "evalue": "name 'data' is not defined",
     "output_type": "error",
     "traceback": [
      "\u001b[1;31m---------------------------------------------------------------------------\u001b[0m",
      "\u001b[1;31mNameError\u001b[0m                                 Traceback (most recent call last)",
      "\u001b[1;32m<ipython-input-63-5ae4e689266f>\u001b[0m in \u001b[0;36m<module>\u001b[1;34m\u001b[0m\n\u001b[1;32m----> 1\u001b[1;33m \u001b[0mdata\u001b[0m\u001b[1;33m.\u001b[0m\u001b[0misnull\u001b[0m\u001b[1;33m(\u001b[0m\u001b[1;33m)\u001b[0m\u001b[1;33m.\u001b[0m\u001b[0msum\u001b[0m\u001b[1;33m(\u001b[0m\u001b[1;33m)\u001b[0m\u001b[1;33m.\u001b[0m\u001b[0msum\u001b[0m\u001b[1;33m(\u001b[0m\u001b[1;33m)\u001b[0m\u001b[1;33m\u001b[0m\u001b[1;33m\u001b[0m\u001b[0m\n\u001b[0m",
      "\u001b[1;31mNameError\u001b[0m: name 'data' is not defined"
     ]
    }
   ],
   "source": [
    "data.isnull().sum().sum()"
   ]
  },
  {
   "cell_type": "code",
   "execution_count": 64,
   "id": "5bf7466b",
   "metadata": {},
   "outputs": [
    {
     "ename": "NameError",
     "evalue": "name 'data' is not defined",
     "output_type": "error",
     "traceback": [
      "\u001b[1;31m---------------------------------------------------------------------------\u001b[0m",
      "\u001b[1;31mNameError\u001b[0m                                 Traceback (most recent call last)",
      "\u001b[1;32m<ipython-input-64-ace8667e5a91>\u001b[0m in \u001b[0;36m<module>\u001b[1;34m\u001b[0m\n\u001b[0;32m      1\u001b[0m \u001b[1;31m# Sample definition\u001b[0m\u001b[1;33m\u001b[0m\u001b[1;33m\u001b[0m\u001b[1;33m\u001b[0m\u001b[0m\n\u001b[1;32m----> 2\u001b[1;33m \u001b[0mdata\u001b[0m \u001b[1;33m=\u001b[0m \u001b[0mdata\u001b[0m\u001b[1;33m.\u001b[0m\u001b[0mquery\u001b[0m\u001b[1;33m(\u001b[0m\u001b[1;34m'2 <= n_accommodates <= 6'\u001b[0m\u001b[1;33m)\u001b[0m\u001b[1;33m\u001b[0m\u001b[1;33m\u001b[0m\u001b[0m\n\u001b[0m",
      "\u001b[1;31mNameError\u001b[0m: name 'data' is not defined"
     ]
    }
   ],
   "source": [
    "# Sample definition \n",
    "data = data.query('2 <= n_accommodates <= 6')"
   ]
  },
  {
   "cell_type": "code",
   "execution_count": 65,
   "id": "d2f98591",
   "metadata": {},
   "outputs": [
    {
     "ename": "NameError",
     "evalue": "name 'data' is not defined",
     "output_type": "error",
     "traceback": [
      "\u001b[1;31m---------------------------------------------------------------------------\u001b[0m",
      "\u001b[1;31mNameError\u001b[0m                                 Traceback (most recent call last)",
      "\u001b[1;32m<ipython-input-65-047ed65ff157>\u001b[0m in \u001b[0;36m<module>\u001b[1;34m\u001b[0m\n\u001b[1;32m----> 1\u001b[1;33m \u001b[0mdata\u001b[0m\u001b[1;33m.\u001b[0m\u001b[0mshape\u001b[0m\u001b[1;33m\u001b[0m\u001b[1;33m\u001b[0m\u001b[0m\n\u001b[0m",
      "\u001b[1;31mNameError\u001b[0m: name 'data' is not defined"
     ]
    }
   ],
   "source": [
    "data.shape"
   ]
  },
  {
   "cell_type": "code",
   "execution_count": 66,
   "id": "655742e5",
   "metadata": {},
   "outputs": [
    {
     "ename": "NameError",
     "evalue": "name 'data' is not defined",
     "output_type": "error",
     "traceback": [
      "\u001b[1;31m---------------------------------------------------------------------------\u001b[0m",
      "\u001b[1;31mNameError\u001b[0m                                 Traceback (most recent call last)",
      "\u001b[1;32m<ipython-input-66-dd4cae8e253d>\u001b[0m in \u001b[0;36m<module>\u001b[1;34m\u001b[0m\n\u001b[1;32m----> 1\u001b[1;33m \u001b[0mdata\u001b[0m\u001b[1;33m[\u001b[0m\u001b[1;34m\"price\"\u001b[0m\u001b[1;33m]\u001b[0m \u001b[1;33m=\u001b[0m \u001b[0mdata\u001b[0m\u001b[1;33m[\u001b[0m\u001b[1;34m\"price\"\u001b[0m\u001b[1;33m]\u001b[0m \u001b[1;33m/\u001b[0m \u001b[1;36m38.89\u001b[0m\u001b[1;33m\u001b[0m\u001b[1;33m\u001b[0m\u001b[0m\n\u001b[0m",
      "\u001b[1;31mNameError\u001b[0m: name 'data' is not defined"
     ]
    }
   ],
   "source": [
    "data[\"price\"] = data[\"price\"] / 38.89"
   ]
  },
  {
   "cell_type": "code",
   "execution_count": null,
   "id": "e5a17c68",
   "metadata": {},
   "outputs": [],
   "source": [
    "data.price.describe(percentiles=[0.5,0.9,0.95,0.98])"
   ]
  },
  {
   "cell_type": "code",
   "execution_count": null,
   "id": "a5e3bb71",
   "metadata": {},
   "outputs": [],
   "source": [
    "data.describe().T.head(30)"
   ]
  },
  {
   "cell_type": "code",
   "execution_count": null,
   "id": "b8ad53d9",
   "metadata": {},
   "outputs": [],
   "source": [
    "data.price.hist(bins=30)"
   ]
  },
  {
   "cell_type": "code",
   "execution_count": null,
   "id": "c1e71a42",
   "metadata": {},
   "outputs": [],
   "source": [
    "np.log(data.price).hist(bins=30)"
   ]
  },
  {
   "cell_type": "code",
   "execution_count": null,
   "id": "aa42336c",
   "metadata": {},
   "outputs": [],
   "source": [
    "data[\"lnprice\"] = np.log(data.price)"
   ]
  },
  {
   "cell_type": "code",
   "execution_count": null,
   "id": "6684c440",
   "metadata": {},
   "outputs": [],
   "source": [
    "data.f_property_type.value_counts()"
   ]
  },
  {
   "cell_type": "code",
   "execution_count": null,
   "id": "b696f5bc",
   "metadata": {},
   "outputs": [],
   "source": [
    "data.f_number_of_reviews.value_counts()"
   ]
  },
  {
   "cell_type": "code",
   "execution_count": null,
   "id": "f03accd7",
   "metadata": {},
   "outputs": [],
   "source": [
    "data.f_neighbourhood_cleansed.value_counts()"
   ]
  },
  {
   "cell_type": "code",
   "execution_count": null,
   "id": "c496cad9",
   "metadata": {},
   "outputs": [],
   "source": [
    "data[\"lnprice\"] = np.log(data.price)"
   ]
  },
  {
   "cell_type": "code",
   "execution_count": null,
   "id": "ef776e3a",
   "metadata": {},
   "outputs": [],
   "source": [
    "data.f_property_type.value_counts()"
   ]
  },
  {
   "cell_type": "code",
   "execution_count": null,
   "id": "cb48e16f",
   "metadata": {},
   "outputs": [],
   "source": [
    "data.f_number_of_reviews.value_counts()"
   ]
  },
  {
   "cell_type": "code",
   "execution_count": null,
   "id": "65fd5c66",
   "metadata": {},
   "outputs": [],
   "source": [
    "data.f_neighbourhood_cleansed.value_counts()"
   ]
  },
  {
   "cell_type": "code",
   "execution_count": null,
   "id": "826daadd",
   "metadata": {},
   "outputs": [],
   "source": [
    "data.f_number_of_reviews.value_counts()"
   ]
  },
  {
   "cell_type": "code",
   "execution_count": null,
   "id": "1bc913b0",
   "metadata": {},
   "outputs": [],
   "source": [
    "data.columns = [\n",
    "    item.replace(\"\\\\\", \"\").replace(\":\", \"\") for item in data.columns.tolist()\n",
    "]"
   ]
  },
  {
   "cell_type": "code",
   "execution_count": null,
   "id": "0090cdc9",
   "metadata": {},
   "outputs": [],
   "source": [
    "data.drop([\"id\",\"price_clean\"],axis=1,inplace=True)"
   ]
  },
  {
   "cell_type": "code",
   "execution_count": null,
   "id": "4b15ec55",
   "metadata": {},
   "outputs": [],
   "source": [
    "data_train, data_holdout = train_test_split(data, train_size=0.7, random_state=52)\n",
    "\n",
    "print(data_train.shape, data_holdout.shape)\n",
    "\n",
    "# Yay! same number of variables in train and holdout"
   ]
  },
  {
   "cell_type": "code",
   "execution_count": null,
   "id": "4afe9c9c",
   "metadata": {},
   "outputs": [],
   "source": [
    "data_train = data_train.loc[lambda x: x[\"price\"] < x[\"price\"].describe(percentiles=[0.98])[\"98%\"]]"
   ]
  },
  {
   "cell_type": "code",
   "execution_count": null,
   "id": "fad2a5eb",
   "metadata": {},
   "outputs": [],
   "source": [
    "all_variables = [item.replace(\"\\\\\",\"\").replace(\":\",\"\") for item in data.columns.tolist()[1:-19]]\n",
    "\n",
    "target_variable = \"price\"\n",
    "\n",
    "# interactions for the LASSO\n",
    "\n",
    "X1 = [\n",
    "    \"n_accommodates:f_property_type\",\n",
    "    \"f_property_type:n_dist_to_grand_palace\",\n",
    "    \"n_accommodates:d_longtermstaysallowed\",\n",
    "    \"d_breakfast:f_property_type\",\n",
    "    \"d_kitchen:f_property_type\",\n",
    "    \"d_elevator:f_property_type\",\n",
    "    \"d_essentials:f_property_type\"\n",
    "]\n",
    "# with boroughs\n",
    "X2 = [\n",
    "    \"f_property_type:f_neighbourhood_cleansed\",\n",
    "    \"n_accommodates:f_neighbourhood_cleansed\",\n",
    "]\n",
    "\n",
    "predictors_tree = all_variables\n",
    "predictors_lasso = all_variables + X1 + X2"
   ]
  },
  {
   "cell_type": "code",
   "execution_count": null,
   "id": "e8ea5636",
   "metadata": {},
   "outputs": [],
   "source": [
    "len(predictors_lasso)"
   ]
  },
  {
   "cell_type": "code",
   "execution_count": null,
   "id": "9a97d9c2",
   "metadata": {},
   "outputs": [],
   "source": [
    "#ols \n",
    "\n",
    "y, X = dmatrices(target_variable + \" ~ \" + \" + \".join(predictors_tree), data_train)\n",
    "y_hold, X_test = dmatrices(\n",
    "    target_variable + \" ~ \" + \" + \".join(predictors_tree), data_holdout\n",
    ")\n",
    "y_hold_t, X_test_t = dmatrices(\n",
    "    target_variable + \" ~ \" + \" + \".join(predictors_tree),\n",
    "    data_holdout.loc[lambda x: x[\"price\"] < 190],\n",
    ")\n",
    "\n",
    "ols_model = LinearRegression().fit(X, y)\n",
    "\n",
    "y_hat = ols_model.predict(X)\n",
    "\n",
    "ols_rmse = mean_squared_error(y, y_hat, squared=False)\n",
    "print(ols_rmse)\n",
    "\n",
    "y_hat_test = ols_model.predict(X_test)\n",
    "ols_rmse_test = mean_squared_error(y_hold, y_hat_test, squared=False)\n",
    "print(ols_rmse_test)\n",
    "\n",
    "y_hat_t = ols_model.predict(X_test_t)\n",
    "ols_rmse_test_t = mean_squared_error(y_hold_t, y_hat_t, squared=False)\n",
    "print(ols_rmse_test_t)"
   ]
  },
  {
   "cell_type": "code",
   "execution_count": null,
   "id": "20389bdd",
   "metadata": {},
   "outputs": [],
   "source": [
    "plot_pred_true_scatter(y, y_hat,title='OLS test set')"
   ]
  },
  {
   "cell_type": "code",
   "execution_count": null,
   "id": "8ea14c4c",
   "metadata": {},
   "outputs": [],
   "source": [
    "plot_pred_true_scatter(y_hold,y_hat_test,title='OLS test set')"
   ]
  },
  {
   "cell_type": "code",
   "execution_count": null,
   "id": "960f5b86",
   "metadata": {},
   "outputs": [],
   "source": [
    "plot_pred_true_scatter(y_hold_t, y_hat_t,title='OLS truncated test set')"
   ]
  },
  {
   "cell_type": "code",
   "execution_count": null,
   "id": "d7b87ac9",
   "metadata": {},
   "outputs": [],
   "source": [
    "# lasso\n",
    "lasso_model = ElasticNet(l1_ratio=1, fit_intercept=True)\n",
    "\n",
    "lasso_pipeline = Pipeline([(\"scale\", StandardScaler()), (\"regressor\", lasso_model)])\n",
    "\n",
    "lasso_model_cv = GridSearchCV(\n",
    "    lasso_model,\n",
    "    {\"alpha\": [i / 100 for i in range(10, 50, 3)]},\n",
    "    cv=5,\n",
    "    scoring=\"neg_root_mean_squared_error\",\n",
    "    verbose=3,\n",
    ")\n",
    "\n",
    "\n",
    "\n",
    "y, X = dmatrices(target_variable + \" ~ \" + \" + \".join(predictors_lasso), data_train)\n",
    "\n",
    "lasso_model_cv.fit(X, y.ravel())"
   ]
  },
  {
   "cell_type": "code",
   "execution_count": null,
   "id": "7cc0fb8d",
   "metadata": {},
   "outputs": [],
   "source": [
    "lasso_rmse = pd.DataFrame(lasso_model_cv.cv_results_).loc[\n",
    "    lambda x: x.param_alpha == lasso_model_cv.best_estimator_.alpha\n",
    "].mean_test_score.values[0] * -1\n",
    "lasso_rmse"
   ]
  },
  {
   "cell_type": "code",
   "execution_count": null,
   "id": "f7f40fa2",
   "metadata": {},
   "outputs": [],
   "source": [
    "rfr = RangerForestRegressor(importance=\"impurity\",seed = 42)\n",
    "\n",
    "tune_grid = {\"mtry\": [8, 10, 12], \"min_node_size\": [5, 10, 15]}\n",
    "\n",
    "rf_random = GridSearchCV(\n",
    "    rfr,\n",
    "    tune_grid,\n",
    "    cv=5,\n",
    "    scoring=\"neg_root_mean_squared_error\",\n",
    "    verbose=3,\n",
    ")\n",
    "\n",
    "y, X = dmatrices(target_variable + \" ~ \" + \" + \".join(predictors_tree), data_train)\n",
    "\n",
    "rf_model = rf_random.fit(X,y.ravel())"
   ]
  },
  {
   "cell_type": "code",
   "execution_count": null,
   "id": "f4e8dc85",
   "metadata": {},
   "outputs": [],
   "source": [
    "pd.DataFrame(rf_model.cv_results_)[\n",
    "    [\"param_mtry\", \"param_min_node_size\", \"mean_test_score\"]\n",
    "].assign(\n",
    "    mean_test_score=lambda x: x[\"mean_test_score\"] * -1,\n",
    "    Variables=lambda x: x[\"param_mtry\"],\n",
    "    Min_nodes=lambda x: x[\"param_min_node_size\"],\n",
    ").pivot(\n",
    "    index=\"Min_nodes\", columns=\"Variables\", values=\"mean_test_score\"\n",
    ").round(\n",
    "    4\n",
    ")"
   ]
  },
  {
   "cell_type": "code",
   "execution_count": null,
   "id": "0216c070",
   "metadata": {},
   "outputs": [],
   "source": [
    "#XGBoost\n",
    "xgb_cv = XGBRegressor(seed = 42)\n",
    "\n",
    "tune_grid = {\"max_depth\": [6, 8, 10],\"eta\":[0.1,0.2,0.3]}\n",
    "\n",
    "xrb_cv = GridSearchCV(\n",
    "    xgb_cv,\n",
    "    tune_grid,\n",
    "    cv=5,\n",
    "    scoring=\"neg_root_mean_squared_error\",\n",
    "    verbose=3,\n",
    ")\n",
    "\n",
    "y, X = dmatrices(target_variable + \" ~ \" + \" + \".join(predictors_tree), data_train)\n",
    "\n",
    "xgb_model = xrb_cv.fit(X, y.ravel())"
   ]
  },
  {
   "cell_type": "code",
   "execution_count": null,
   "id": "9698dc9d",
   "metadata": {},
   "outputs": [],
   "source": [
    "pd.DataFrame(xgb_model.cv_results_)[\n",
    "    [\"param_max_depth\",\"param_eta\", \"mean_test_score\"]\n",
    "].assign(\n",
    "    mean_test_score=lambda x: x[\"mean_test_score\"] * -1,\n",
    "    Max_Depth=lambda x: x[\"param_max_depth\"],\n",
    "    Learning_rate=lambda x: x[\"param_eta\"],\n",
    ").pivot(\n",
    "    index=\"Max_Depth\", columns=\"Learning_rate\", values=\"mean_test_score\"\n",
    ").round(\n",
    "    4\n",
    ")"
   ]
  },
  {
   "cell_type": "code",
   "execution_count": null,
   "id": "e50901b3",
   "metadata": {},
   "outputs": [],
   "source": [
    "# Get best models from every model type\n",
    "pd.DataFrame(\n",
    "    {\n",
    "        \"RMSE\": [\n",
    "            ols_rmse,\n",
    "            lasso_rmse,\n",
    "            rf_model.cv_results_[\"mean_test_score\"].max() *-1,\n",
    "            xgb_model.cv_results_[\"mean_test_score\"].max()*-1,\n",
    "        ]\n",
    "    },\n",
    "    [\"Reference OLS\", \"Lasso CV\", \"Random Forest CV\", \"XGBoost CV\"],\n",
    ").round(2)"
   ]
  },
  {
   "cell_type": "code",
   "execution_count": null,
   "id": "51f6359e",
   "metadata": {},
   "outputs": [],
   "source": [
    "#Part III fit final model\n",
    "#final_model = Pipeline([(\"scale\", StandardScaler()), (\"regressor\", xgb_model.best_estimator_)])\n",
    "final_model = Pipeline([(\"scale\", StandardScaler()), (\"regressor\", XGBRegressor(max_depth = 8, eta = 0.1))])"
   ]
  },
  {
   "cell_type": "code",
   "execution_count": null,
   "id": "71757188",
   "metadata": {},
   "outputs": [],
   "source": [
    "y, X = dmatrices(target_variable + \" ~ \" + \" + \".join(predictors_tree), data_train)\n",
    "\n",
    "xgb_final_fit = final_model.fit(X,y.ravel())\n",
    "\n",
    "\n",
    "y_hat = xgb_final_fit.predict(X)\n",
    "\n",
    "rf_rmse_train = mean_squared_error(y,y_hat,squared=False)\n",
    "residual_std = np.std(y-y_hat)\n",
    "\n",
    "print(\"Final model train rmse: \"+str(rf_rmse_train))\n",
    "\n",
    "y_hold, X_hold = dmatrices(target_variable + \" ~ \" + \" + \".join(predictors_tree), data_holdout)\n",
    "\n",
    "y_hat_test = xgb_final_fit.predict(X_hold)\n",
    "\n",
    "rf_rmse_test = mean_squared_error(y_hold,y_hat_test,squared=False)\n",
    "print(\"Final model test rmse: \"+ str(rf_rmse_test))"
   ]
  },
  {
   "cell_type": "code",
   "execution_count": null,
   "id": "654be091",
   "metadata": {},
   "outputs": [],
   "source": [
    "plot_pred_true_scatter(y,y_hat,title='XGBoost CV on train set')"
   ]
  },
  {
   "cell_type": "code",
   "execution_count": null,
   "id": "52f4d7fc",
   "metadata": {},
   "outputs": [],
   "source": [
    "plot_pred_true_scatter(y_hold,y_hat_test,title='XGBoost CV on test set')"
   ]
  },
  {
   "cell_type": "code",
   "execution_count": null,
   "id": "4629b211",
   "metadata": {},
   "outputs": [],
   "source": [
    "y_hold, X_hold = dmatrices(\n",
    "    target_variable + \" ~ \" + \" + \".join(predictors_tree),\n",
    "    data_holdout.loc[lambda x: x[\"price\"] < 190],\n",
    ")\n",
    "\n",
    "y_hat_test = xgb_final_fit.predict(X_hold)\n",
    "\n",
    "rf_rmse_test = mean_squared_error(y_hold, y_hat_test, squared=False)\n",
    "print(\"Final model truncated test rmse: \" + str(rf_rmse_test))\n",
    "plot_pred_true_scatter(\n",
    "    y_hold, y_hat_test, title=\"XGBoost CV on truncated test set\"\n",
    ")"
   ]
  },
  {
   "cell_type": "code",
   "execution_count": null,
   "id": "b1a3bcd4",
   "metadata": {},
   "outputs": [],
   "source": [
    "\n",
    "#MODEL DIAGNOSTICS"
   ]
  },
  {
   "cell_type": "code",
   "execution_count": null,
   "id": "debffcb5",
   "metadata": {},
   "outputs": [],
   "source": [
    "final_model_var_imp_df = (\n",
    "    pd.DataFrame(final_model.steps[1][1].feature_importances_, X.design_info.column_names)\n",
    "    .reset_index()\n",
    "    .rename({\"index\": \"varname\", 0: \"imp\"}, axis=1)\n",
    "    .assign(imp_percentage=lambda x: x[\"imp\"] / x[\"imp\"].sum())\n",
    "    .sort_values(by=[\"imp\"], ascending=False)\n",
    ")"
   ]
  },
  {
   "cell_type": "code",
   "execution_count": null,
   "id": "3984d1d3",
   "metadata": {},
   "outputs": [],
   "source": [
    "#full varimp plot, above a cutoff\n",
    "ggplot(\n",
    "    final_model_var_imp_df.loc[lambda x: x[\"imp_percentage\"]>0.01],\n",
    "    aes(x=\"reorder(varname, imp)\", y=\"imp_percentage\"),\n",
    ") + geom_point(size=1.5) + geom_segment(\n",
    "    aes(x=\"varname\", xend=\"varname\", y=0, yend=\"imp_percentage\"), size=1\n",
    ") + ylab(\n",
    "    \"Importance (Percent)\"\n",
    ") + xlab(\n",
    "    \"Variable Name\"\n",
    ") + coord_flip() + scale_y_continuous(\n",
    "    labels=percent_format()\n",
    ") + theme_bw()"
   ]
  },
  {
   "cell_type": "code",
   "execution_count": null,
   "id": "e2fad5b4",
   "metadata": {},
   "outputs": [],
   "source": [
    "#full varimp plot, top 10 only\n",
    "\n",
    "ggplot(\n",
    "    final_model_var_imp_df.iloc[:10, :],\n",
    "    aes(x=\"reorder(varname, imp)\", y=\"imp_percentage\"),\n",
    ") + geom_point(size=1.5) + geom_segment(\n",
    "    aes(x=\"varname\", xend=\"varname\", y=0, yend=\"imp_percentage\"), size=1\n",
    ") + ylab(\n",
    "    \"Importance (Percent)\"\n",
    ") + xlab(\n",
    "    \"Variable Name\"\n",
    ") + coord_flip() + scale_y_continuous(\n",
    "    labels=percent_format()\n",
    ") + theme_bw()"
   ]
  },
  {
   "cell_type": "code",
   "execution_count": null,
   "id": "46a24b4e",
   "metadata": {},
   "outputs": [],
   "source": [
    "#grouped variable importance - keep binaries created off factors together\n",
    "categorical_columns = [col for col in predictors_tree if col.startswith(\"f_\")]\n",
    "numerical_columns = [col for col in predictors_tree if col not in categorical_columns]\n",
    "\n",
    "categorical_encoder = OneHotEncoder(handle_unknown=\"ignore\")\n",
    "\n",
    "preprocessing = ColumnTransformer(\n",
    "    [\n",
    "        (\"cat\", categorical_encoder, categorical_columns),\n",
    "        (\"num\", \"passthrough\", numerical_columns),\n",
    "    ]\n",
    ")\n",
    "\n",
    "final_pipeline = Pipeline(\n",
    "    [(\"preprocess\", preprocessing), (\"regressor\", xgb_final_fit)]\n",
    ")\n",
    "\n",
    "final_pipeline.fit(data_train[predictors_tree],data_train[target_variable])"
   ]
  },
  {
   "cell_type": "code",
   "execution_count": null,
   "id": "d17639b7",
   "metadata": {},
   "outputs": [],
   "source": [
    "# this takes a while to run\n",
    "result = permutation_importance(\n",
    "    final_pipeline,\n",
    "    data_holdout[predictors_tree],\n",
    "    data_holdout[target_variable],\n",
    "    n_repeats=10,\n",
    "    random_state=45,\n",
    ")"
   ]
  },
  {
   "cell_type": "code",
   "execution_count": null,
   "id": "97ebfbba",
   "metadata": {},
   "outputs": [],
   "source": [
    "categorical_columns"
   ]
  },
  {
   "cell_type": "code",
   "execution_count": null,
   "id": "6a6d68cf",
   "metadata": {},
   "outputs": [],
   "source": [
    "grouped_imp = (\n",
    "    pd.DataFrame(\n",
    "        result.importances_mean,\n",
    "        data_train[predictors_tree].columns,\n",
    "    )\n",
    "    .reset_index()\n",
    "    .rename({\"index\": \"varname\", 0: \"imp\"}, axis=1)\n",
    "    .assign(imp_percentage=lambda x: x[\"imp\"] / x[\"imp\"].sum())\n",
    "    .sort_values(by=[\"imp\"], ascending=False)\n",
    "    .head(10)\n",
    ")"
   ]
  },
  {
   "cell_type": "code",
   "execution_count": null,
   "id": "837949ea",
   "metadata": {},
   "outputs": [],
   "source": [
    "varimp_p = ggplot(grouped_imp, aes(x=\"reorder(varname, imp)\", y=\"imp_percentage\")\n",
    ") + geom_point(size=1.5, color = \"#1f77b4\"\n",
    ") + geom_segment(\n",
    "    aes(x=\"varname\", xend=\"varname\", y=0, yend=\"imp_percentage\"), size=1, color = \"#1f77b4\"\n",
    ") + ggtitle(\"Variable importance \\n calculated from permutation importance on the holdout set\"\n",
    ") + ylab(\n",
    "    \"Importance (Percent)\"\n",
    ") + xlab(\n",
    "    \"Variable Name\"\n",
    ") + coord_flip() + scale_y_continuous(\n",
    "    labels=percent_format()\n",
    ") + theme_bw(\n",
    ")\n",
    "ggsave(varimp_p,filename='../figures/varimp.eps', dpi=1000)\n",
    "varimp_p"
   ]
  },
  {
   "cell_type": "code",
   "execution_count": null,
   "id": "3fdf9958",
   "metadata": {},
   "outputs": [],
   "source": []
  },
  {
   "cell_type": "code",
   "execution_count": null,
   "id": "c36607ab",
   "metadata": {},
   "outputs": [],
   "source": []
  },
  {
   "cell_type": "code",
   "execution_count": null,
   "id": "772ba69b",
   "metadata": {},
   "outputs": [],
   "source": []
  },
  {
   "cell_type": "code",
   "execution_count": null,
   "id": "76c3e42d",
   "metadata": {},
   "outputs": [],
   "source": []
  },
  {
   "cell_type": "code",
   "execution_count": null,
   "id": "68dd2ea5",
   "metadata": {},
   "outputs": [],
   "source": []
  }
 ],
 "metadata": {
  "kernelspec": {
   "display_name": "Python 3",
   "language": "python",
   "name": "python3"
  },
  "language_info": {
   "codemirror_mode": {
    "name": "ipython",
    "version": 3
   },
   "file_extension": ".py",
   "mimetype": "text/x-python",
   "name": "python",
   "nbconvert_exporter": "python",
   "pygments_lexer": "ipython3",
   "version": "3.8.8"
  }
 },
 "nbformat": 4,
 "nbformat_minor": 5
}

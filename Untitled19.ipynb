{
 "cells": [
  {
   "cell_type": "code",
   "execution_count": 5,
   "id": "426fd833",
   "metadata": {},
   "outputs": [
    {
     "name": "stdout",
     "output_type": "stream",
     "text": [
      "Requirement already satisfied: geopy in c:\\users\\dear user\\anaconda3\\lib\\site-packages (2.3.0)\n",
      "Requirement already satisfied: geographiclib<3,>=1.52 in c:\\users\\dear user\\anaconda3\\lib\\site-packages (from geopy) (2.0)\n"
     ]
    }
   ],
   "source": [
    "!pip install geopy\n"
   ]
  },
  {
   "cell_type": "code",
   "execution_count": 9,
   "id": "bbb8febb",
   "metadata": {},
   "outputs": [],
   "source": [
    "import pandas as pd\n",
    "import numpy as np\n",
    "import os\n",
    "from pathlib import Path\n",
    "import sys\n",
    "import re\n",
    "import geopy.distance\n",
    "from datetime import datetime\n",
    "import warnings\n",
    "warnings.filterwarnings(\"ignore\")\n",
    "os.chdir('C:\\second year winter')"
   ]
  },
  {
   "cell_type": "code",
   "execution_count": 10,
   "id": "ce9cb44c",
   "metadata": {},
   "outputs": [],
   "source": [
    "df= pd.read_csv(\"listings.csv\" , header = 0, sep =',')"
   ]
  },
  {
   "cell_type": "code",
   "execution_count": 12,
   "id": "4d987220",
   "metadata": {},
   "outputs": [
    {
     "data": {
      "text/html": [
       "<div>\n",
       "<style scoped>\n",
       "    .dataframe tbody tr th:only-of-type {\n",
       "        vertical-align: middle;\n",
       "    }\n",
       "\n",
       "    .dataframe tbody tr th {\n",
       "        vertical-align: top;\n",
       "    }\n",
       "\n",
       "    .dataframe thead th {\n",
       "        text-align: right;\n",
       "    }\n",
       "</style>\n",
       "<table border=\"1\" class=\"dataframe\">\n",
       "  <thead>\n",
       "    <tr style=\"text-align: right;\">\n",
       "      <th></th>\n",
       "      <th>0</th>\n",
       "      <th>1</th>\n",
       "    </tr>\n",
       "  </thead>\n",
       "  <tbody>\n",
       "    <tr>\n",
       "      <th>id</th>\n",
       "      <td>27934</td>\n",
       "      <td>941865</td>\n",
       "    </tr>\n",
       "    <tr>\n",
       "      <th>listing_url</th>\n",
       "      <td>https://www.airbnb.com/rooms/27934</td>\n",
       "      <td>https://www.airbnb.com/rooms/941865</td>\n",
       "    </tr>\n",
       "    <tr>\n",
       "      <th>scrape_id</th>\n",
       "      <td>20221228025833</td>\n",
       "      <td>20221228025833</td>\n",
       "    </tr>\n",
       "    <tr>\n",
       "      <th>last_scraped</th>\n",
       "      <td>2022-12-28</td>\n",
       "      <td>2022-12-28</td>\n",
       "    </tr>\n",
       "    <tr>\n",
       "      <th>source</th>\n",
       "      <td>city scrape</td>\n",
       "      <td>city scrape</td>\n",
       "    </tr>\n",
       "    <tr>\n",
       "      <th>...</th>\n",
       "      <td>...</td>\n",
       "      <td>...</td>\n",
       "    </tr>\n",
       "    <tr>\n",
       "      <th>[Window guards</th>\n",
       "      <td>0</td>\n",
       "      <td>0</td>\n",
       "    </tr>\n",
       "    <tr>\n",
       "      <th>[Xx conditioner</th>\n",
       "      <td>0</td>\n",
       "      <td>0</td>\n",
       "    </tr>\n",
       "    <tr>\n",
       "      <th>[\\u4e09\\u661f stainless steel oven</th>\n",
       "      <td>0</td>\n",
       "      <td>0</td>\n",
       "    </tr>\n",
       "    <tr>\n",
       "      <th>[\\u4e2d\\u56fd\\u7f8e\\u7684 induction stove</th>\n",
       "      <td>0</td>\n",
       "      <td>0</td>\n",
       "    </tr>\n",
       "    <tr>\n",
       "      <th>[]</th>\n",
       "      <td>0</td>\n",
       "      <td>0</td>\n",
       "    </tr>\n",
       "  </tbody>\n",
       "</table>\n",
       "<p>1825 rows × 2 columns</p>\n",
       "</div>"
      ],
      "text/plain": [
       "                                                                            0  \\\n",
       "id                                                                      27934   \n",
       "listing_url                                https://www.airbnb.com/rooms/27934   \n",
       "scrape_id                                                      20221228025833   \n",
       "last_scraped                                                       2022-12-28   \n",
       "source                                                            city scrape   \n",
       "...                                                                       ...   \n",
       "[Window guards                                                              0   \n",
       "[Xx conditioner                                                             0   \n",
       "[\\u4e09\\u661f stainless steel oven                                          0   \n",
       "[\\u4e2d\\u56fd\\u7f8e\\u7684 induction stove                                   0   \n",
       "[]                                                                          0   \n",
       "\n",
       "                                                                             1  \n",
       "id                                                                      941865  \n",
       "listing_url                                https://www.airbnb.com/rooms/941865  \n",
       "scrape_id                                                       20221228025833  \n",
       "last_scraped                                                        2022-12-28  \n",
       "source                                                             city scrape  \n",
       "...                                                                        ...  \n",
       "[Window guards                                                               0  \n",
       "[Xx conditioner                                                              0  \n",
       "[\\u4e09\\u661f stainless steel oven                                           0  \n",
       "[\\u4e2d\\u56fd\\u7f8e\\u7684 induction stove                                    0  \n",
       "[]                                                                           0  \n",
       "\n",
       "[1825 rows x 2 columns]"
      ]
     },
     "execution_count": 12,
     "metadata": {},
     "output_type": "execute_result"
    }
   ],
   "source": [
    "df.head(2).transpose()"
   ]
  },
  {
   "cell_type": "code",
   "execution_count": 15,
   "id": "fa759c68",
   "metadata": {},
   "outputs": [],
   "source": [
    "# instant drops\n",
    "drops = [\n",
    "    \"host_thumbnail_url\",\n",
    "    \"host_picture_url\",\n",
    "    \"listing_url\",\n",
    "    \"picture_url\",\n",
    "    \"host_url\",\n",
    "    \"last_scraped\",\n",
    "    \"description\",\n",
    "    \"neighborhood_overview\",\n",
    "    \"host_response_time\",\n",
    "    \"name\",\n",
    "    \"host_location\",\n",
    "]\n",
    "df.drop(columns=drops, inplace=True)"
   ]
  },
  {
   "cell_type": "code",
   "execution_count": 16,
   "id": "98156f54",
   "metadata": {},
   "outputs": [],
   "source": [
    "# drop broken lines - where id is not a character of numbers\n",
    "df.id = pd.to_numeric(df.id, errors=\"coerce\")\n",
    "df = df[df.id.notna()]"
   ]
  },
  {
   "cell_type": "code",
   "execution_count": 17,
   "id": "2fd86b3a",
   "metadata": {},
   "outputs": [],
   "source": [
    "# formatting columns\n",
    "for perc in [\"host_response_rate\", \"host_acceptance_rate\"]:\n",
    "    df[perc] = pd.to_numeric(df[perc].str.replace(\"%\",\"\"), errors=\"coerce\")"
   ]
  },
  {
   "cell_type": "code",
   "execution_count": 18,
   "id": "79c8ee48",
   "metadata": {},
   "outputs": [],
   "source": [
    "# remove percentage signs and ,\n",
    "df[\"price_clean\"] = df.price.str.replace(\"\\\\$\", \"\").str.replace(\",\",\"\").astype(float)\n",
    "df[\"price\"] = df.price.str.replace(\"\\\\$\", \"\").str.replace(\",\",\"\").astype(float)"
   ]
  },
  {
   "cell_type": "code",
   "execution_count": 19,
   "id": "2384d133",
   "metadata": {},
   "outputs": [
    {
     "data": {
      "text/plain": [
       "Index(['id', 'scrape_id', 'source', 'host_id', 'host_name', 'host_since',\n",
       "       'host_response_rate', 'host_acceptance_rate', 'host_is_superhost',\n",
       "       'host_neighbourhood',\n",
       "       ...\n",
       "       '[Wifi \\u2013 47 Mbps', '[Wifi \\u2013 8 Mbps', '[Wifi]',\n",
       "       '[Window AC unit', '[Window guards', '[Xx conditioner',\n",
       "       '[\\u4e09\\u661f stainless steel oven',\n",
       "       '[\\u4e2d\\u56fd\\u7f8e\\u7684 induction stove', '[]', 'price_clean'],\n",
       "      dtype='object', length=1815)"
      ]
     },
     "execution_count": 19,
     "metadata": {},
     "output_type": "execute_result"
    }
   ],
   "source": [
    "#extreme value investigation\n",
    "df.loc[lambda x: x[\"price_clean\"]>10000].columns"
   ]
  },
  {
   "cell_type": "code",
   "execution_count": 20,
   "id": "3a38f8ed",
   "metadata": {},
   "outputs": [
    {
     "data": {
      "text/plain": [
       "Entire rental unit             3727\n",
       "Entire condo                   3706\n",
       "Private room in rental unit    1572\n",
       "Private room in condo           837\n",
       "Room in hotel                   633\n",
       "                               ... \n",
       "Shared room in cave               1\n",
       "Private room in tipi              1\n",
       "Floor                             1\n",
       "Entire chalet                     1\n",
       "Shipping container                1\n",
       "Name: property_type, Length: 83, dtype: int64"
      ]
     },
     "execution_count": 20,
     "metadata": {},
     "output_type": "execute_result"
    }
   ],
   "source": [
    "df.loc[lambda x: x[\"price_clean\"]<10000].property_type.value_counts()"
   ]
  },
  {
   "cell_type": "code",
   "execution_count": 21,
   "id": "f5ceba02",
   "metadata": {},
   "outputs": [
    {
     "data": {
      "text/plain": [
       "Entire condo                          54\n",
       "Entire home                           45\n",
       "Room in hotel                         45\n",
       "Entire rental unit                    36\n",
       "Private room in condo                 31\n",
       "Private room in rental unit           25\n",
       "Entire serviced apartment             25\n",
       "Room in boutique hotel                23\n",
       "Entire townhouse                      19\n",
       "Private room in serviced apartment    14\n",
       "Entire villa                          12\n",
       "Private room in home                   9\n",
       "Room in aparthotel                     5\n",
       "Private room in hostel                 5\n",
       "Private room in villa                  4\n",
       "Private room in guest suite            3\n",
       "Entire loft                            3\n",
       "Room in serviced apartment             2\n",
       "Private room in bed and breakfast      2\n",
       "Private room                           2\n",
       "Shared room in serviced apartment      1\n",
       "Private room in townhouse              1\n",
       "Shared room in casa particular         1\n",
       "Shared room in hostel                  1\n",
       "Shared room in rental unit             1\n",
       "Shared room in home                    1\n",
       "Private room in nature lodge           1\n",
       "Room in hostel                         1\n",
       "Shared room in condo                   1\n",
       "Private room in boat                   1\n",
       "Entire guest suite                     1\n",
       "Name: property_type, dtype: int64"
      ]
     },
     "execution_count": 21,
     "metadata": {},
     "output_type": "execute_result"
    }
   ],
   "source": [
    "df.loc[lambda x: x[\"price_clean\"]>10000].property_type.value_counts()"
   ]
  },
  {
   "cell_type": "code",
   "execution_count": 23,
   "id": "f0d10258",
   "metadata": {},
   "outputs": [],
   "source": [
    "# format binary variables\n",
    "for binary in [\n",
    "    \"host_is_superhost\",\n",
    "    \"host_has_profile_pic\",\n",
    "    \"host_identity_verified\",\n",
    "    \"instant_bookable\",\n",
    "]:\n",
    "    df[binary] = df[binary].map({\"t\": True, \"f\": False})"
   ]
  },
  {
   "cell_type": "code",
   "execution_count": 24,
   "id": "c5dfca70",
   "metadata": {},
   "outputs": [],
   "source": [
    "# amenities\n",
    "df[\"amenities\"] = (\n",
    "    df[\"amenities\"]\n",
    "    .str.strip(\"{}\")\n",
    "    .str.replace('\"', \"\")\n",
    "    .str.replace(\"[\", \"\")\n",
    "    .str.replace(\"]\", \"\")\n",
    "    .str.replace(\"–\", \"\")\n",
    "    .str.replace(\"-\", \"\")\n",
    "    .str.replace(\"\\\\u\", \"'\", regex=False)\n",
    "    .str.replace(\"\\d\", \"\", regex=True)\n",
    "    .str.replace(\"'\", \"\")\n",
    "    .str.lower()\n",
    "    .str.replace(\"mbps\", \"\",regex=False)\n",
    "    .str.strip()\n",
    "    .str.split(\",\")\n",
    ")"
   ]
  },
  {
   "cell_type": "code",
   "execution_count": 25,
   "id": "faec3dfe",
   "metadata": {},
   "outputs": [
    {
     "data": {
      "text/plain": [
       "long term stays allowed                    15074\n",
       "wifi                                       13319\n",
       "air conditioning                           13284\n",
       "essentials                                 13217\n",
       "hangers                                    11943\n",
       "                                           ...  \n",
       "limited housekeeping \\ on request              1\n",
       "bottled water                                  1\n",
       "local brand  body soap                         1\n",
       "marshall bluetooth sound system                1\n",
       "jbl sound system with bluetooth and aux        1\n",
       "Name: amenities, Length: 980, dtype: int64"
      ]
     },
     "execution_count": 25,
     "metadata": {},
     "output_type": "execute_result"
    }
   ],
   "source": [
    "# generate dummies by amenities\n",
    "df[\"amenities\"].explode().str.strip().value_counts()"
   ]
  },
  {
   "cell_type": "code",
   "execution_count": 26,
   "id": "2c74d1dd",
   "metadata": {},
   "outputs": [],
   "source": [
    "# maybe get those, that has 10 or more count\n",
    "amenities_keep = df[\"amenities\"].explode().str.strip().value_counts().loc[lambda x: x>10]\n",
    "\n",
    "amenities_keep.to_pickle(\"amenities_to_keep.pkl\")"
   ]
  },
  {
   "cell_type": "code",
   "execution_count": 27,
   "id": "adebd9c9",
   "metadata": {},
   "outputs": [
    {
     "data": {
      "text/html": [
       "<div>\n",
       "<style scoped>\n",
       "    .dataframe tbody tr th:only-of-type {\n",
       "        vertical-align: middle;\n",
       "    }\n",
       "\n",
       "    .dataframe tbody tr th {\n",
       "        vertical-align: top;\n",
       "    }\n",
       "\n",
       "    .dataframe thead th {\n",
       "        text-align: right;\n",
       "    }\n",
       "</style>\n",
       "<table border=\"1\" class=\"dataframe\">\n",
       "  <thead>\n",
       "    <tr style=\"text-align: right;\">\n",
       "      <th></th>\n",
       "      <th></th>\n",
       "      <th></th>\n",
       "      <th>. body soap</th>\n",
       "      <th>. conditioner</th>\n",
       "      <th>. q refrigerator</th>\n",
       "      <th>. shampoo</th>\n",
       "      <th>.q refrigerator</th>\n",
       "      <th>\\\\ hdtv</th>\n",
       "      <th>\\\\ hdtv with amazon prime video</th>\n",
       "      <th>\\\\ hdtv with apple tv</th>\n",
       "      <th>\\\\ hdtv with chromecast</th>\n",
       "      <th>...</th>\n",
       "      <th>xiaomi induction stove</th>\n",
       "      <th>xiaomi sound system with bluetooth and aux</th>\n",
       "      <th>xiaomi soundbar sound system with bluetooth and aux</th>\n",
       "      <th>xmen body soap</th>\n",
       "      <th>xmen or some thing good shampoo</th>\n",
       "      <th>xx conditioner</th>\n",
       "      <th>yamaha home theater  sound system</th>\n",
       "      <th>years old</th>\n",
       "      <th>yoga mat</th>\n",
       "      <th>zhenxiu shampoo</th>\n",
       "    </tr>\n",
       "  </thead>\n",
       "  <tbody>\n",
       "    <tr>\n",
       "      <th rowspan=\"5\" valign=\"top\">0</th>\n",
       "      <th>0</th>\n",
       "      <td>0</td>\n",
       "      <td>0</td>\n",
       "      <td>0</td>\n",
       "      <td>0</td>\n",
       "      <td>0</td>\n",
       "      <td>0</td>\n",
       "      <td>0</td>\n",
       "      <td>0</td>\n",
       "      <td>0</td>\n",
       "      <td>0</td>\n",
       "      <td>...</td>\n",
       "      <td>0</td>\n",
       "      <td>0</td>\n",
       "      <td>0</td>\n",
       "      <td>0</td>\n",
       "      <td>0</td>\n",
       "      <td>0</td>\n",
       "      <td>0</td>\n",
       "      <td>0</td>\n",
       "      <td>0</td>\n",
       "      <td>0</td>\n",
       "    </tr>\n",
       "    <tr>\n",
       "      <th>1</th>\n",
       "      <td>0</td>\n",
       "      <td>0</td>\n",
       "      <td>0</td>\n",
       "      <td>0</td>\n",
       "      <td>0</td>\n",
       "      <td>0</td>\n",
       "      <td>0</td>\n",
       "      <td>0</td>\n",
       "      <td>0</td>\n",
       "      <td>0</td>\n",
       "      <td>...</td>\n",
       "      <td>0</td>\n",
       "      <td>0</td>\n",
       "      <td>0</td>\n",
       "      <td>0</td>\n",
       "      <td>0</td>\n",
       "      <td>0</td>\n",
       "      <td>0</td>\n",
       "      <td>0</td>\n",
       "      <td>0</td>\n",
       "      <td>0</td>\n",
       "    </tr>\n",
       "    <tr>\n",
       "      <th>2</th>\n",
       "      <td>0</td>\n",
       "      <td>0</td>\n",
       "      <td>0</td>\n",
       "      <td>0</td>\n",
       "      <td>0</td>\n",
       "      <td>0</td>\n",
       "      <td>0</td>\n",
       "      <td>0</td>\n",
       "      <td>0</td>\n",
       "      <td>0</td>\n",
       "      <td>...</td>\n",
       "      <td>0</td>\n",
       "      <td>0</td>\n",
       "      <td>0</td>\n",
       "      <td>0</td>\n",
       "      <td>0</td>\n",
       "      <td>0</td>\n",
       "      <td>0</td>\n",
       "      <td>0</td>\n",
       "      <td>0</td>\n",
       "      <td>0</td>\n",
       "    </tr>\n",
       "    <tr>\n",
       "      <th>3</th>\n",
       "      <td>0</td>\n",
       "      <td>0</td>\n",
       "      <td>0</td>\n",
       "      <td>0</td>\n",
       "      <td>0</td>\n",
       "      <td>0</td>\n",
       "      <td>0</td>\n",
       "      <td>0</td>\n",
       "      <td>0</td>\n",
       "      <td>0</td>\n",
       "      <td>...</td>\n",
       "      <td>0</td>\n",
       "      <td>0</td>\n",
       "      <td>0</td>\n",
       "      <td>0</td>\n",
       "      <td>0</td>\n",
       "      <td>0</td>\n",
       "      <td>0</td>\n",
       "      <td>0</td>\n",
       "      <td>0</td>\n",
       "      <td>0</td>\n",
       "    </tr>\n",
       "    <tr>\n",
       "      <th>4</th>\n",
       "      <td>0</td>\n",
       "      <td>0</td>\n",
       "      <td>0</td>\n",
       "      <td>0</td>\n",
       "      <td>0</td>\n",
       "      <td>0</td>\n",
       "      <td>0</td>\n",
       "      <td>0</td>\n",
       "      <td>0</td>\n",
       "      <td>0</td>\n",
       "      <td>...</td>\n",
       "      <td>0</td>\n",
       "      <td>0</td>\n",
       "      <td>0</td>\n",
       "      <td>0</td>\n",
       "      <td>0</td>\n",
       "      <td>0</td>\n",
       "      <td>0</td>\n",
       "      <td>0</td>\n",
       "      <td>0</td>\n",
       "      <td>0</td>\n",
       "    </tr>\n",
       "    <tr>\n",
       "      <th>...</th>\n",
       "      <th>...</th>\n",
       "      <td>...</td>\n",
       "      <td>...</td>\n",
       "      <td>...</td>\n",
       "      <td>...</td>\n",
       "      <td>...</td>\n",
       "      <td>...</td>\n",
       "      <td>...</td>\n",
       "      <td>...</td>\n",
       "      <td>...</td>\n",
       "      <td>...</td>\n",
       "      <td>...</td>\n",
       "      <td>...</td>\n",
       "      <td>...</td>\n",
       "      <td>...</td>\n",
       "      <td>...</td>\n",
       "      <td>...</td>\n",
       "      <td>...</td>\n",
       "      <td>...</td>\n",
       "      <td>...</td>\n",
       "      <td>...</td>\n",
       "      <td>...</td>\n",
       "    </tr>\n",
       "    <tr>\n",
       "      <th rowspan=\"5\" valign=\"top\">15853</th>\n",
       "      <th>22</th>\n",
       "      <td>0</td>\n",
       "      <td>0</td>\n",
       "      <td>0</td>\n",
       "      <td>0</td>\n",
       "      <td>0</td>\n",
       "      <td>0</td>\n",
       "      <td>0</td>\n",
       "      <td>0</td>\n",
       "      <td>0</td>\n",
       "      <td>0</td>\n",
       "      <td>...</td>\n",
       "      <td>0</td>\n",
       "      <td>0</td>\n",
       "      <td>0</td>\n",
       "      <td>0</td>\n",
       "      <td>0</td>\n",
       "      <td>0</td>\n",
       "      <td>0</td>\n",
       "      <td>0</td>\n",
       "      <td>0</td>\n",
       "      <td>0</td>\n",
       "    </tr>\n",
       "    <tr>\n",
       "      <th>23</th>\n",
       "      <td>0</td>\n",
       "      <td>0</td>\n",
       "      <td>0</td>\n",
       "      <td>0</td>\n",
       "      <td>0</td>\n",
       "      <td>0</td>\n",
       "      <td>0</td>\n",
       "      <td>0</td>\n",
       "      <td>0</td>\n",
       "      <td>0</td>\n",
       "      <td>...</td>\n",
       "      <td>0</td>\n",
       "      <td>0</td>\n",
       "      <td>0</td>\n",
       "      <td>0</td>\n",
       "      <td>0</td>\n",
       "      <td>0</td>\n",
       "      <td>0</td>\n",
       "      <td>0</td>\n",
       "      <td>0</td>\n",
       "      <td>0</td>\n",
       "    </tr>\n",
       "    <tr>\n",
       "      <th>24</th>\n",
       "      <td>0</td>\n",
       "      <td>0</td>\n",
       "      <td>0</td>\n",
       "      <td>0</td>\n",
       "      <td>0</td>\n",
       "      <td>0</td>\n",
       "      <td>0</td>\n",
       "      <td>0</td>\n",
       "      <td>0</td>\n",
       "      <td>0</td>\n",
       "      <td>...</td>\n",
       "      <td>0</td>\n",
       "      <td>0</td>\n",
       "      <td>0</td>\n",
       "      <td>0</td>\n",
       "      <td>0</td>\n",
       "      <td>0</td>\n",
       "      <td>0</td>\n",
       "      <td>0</td>\n",
       "      <td>0</td>\n",
       "      <td>0</td>\n",
       "    </tr>\n",
       "    <tr>\n",
       "      <th>25</th>\n",
       "      <td>0</td>\n",
       "      <td>0</td>\n",
       "      <td>0</td>\n",
       "      <td>0</td>\n",
       "      <td>0</td>\n",
       "      <td>0</td>\n",
       "      <td>0</td>\n",
       "      <td>0</td>\n",
       "      <td>0</td>\n",
       "      <td>0</td>\n",
       "      <td>...</td>\n",
       "      <td>0</td>\n",
       "      <td>0</td>\n",
       "      <td>0</td>\n",
       "      <td>0</td>\n",
       "      <td>0</td>\n",
       "      <td>0</td>\n",
       "      <td>0</td>\n",
       "      <td>0</td>\n",
       "      <td>0</td>\n",
       "      <td>0</td>\n",
       "    </tr>\n",
       "    <tr>\n",
       "      <th>26</th>\n",
       "      <td>0</td>\n",
       "      <td>0</td>\n",
       "      <td>0</td>\n",
       "      <td>0</td>\n",
       "      <td>0</td>\n",
       "      <td>0</td>\n",
       "      <td>0</td>\n",
       "      <td>0</td>\n",
       "      <td>0</td>\n",
       "      <td>0</td>\n",
       "      <td>...</td>\n",
       "      <td>0</td>\n",
       "      <td>0</td>\n",
       "      <td>0</td>\n",
       "      <td>0</td>\n",
       "      <td>0</td>\n",
       "      <td>0</td>\n",
       "      <td>0</td>\n",
       "      <td>0</td>\n",
       "      <td>0</td>\n",
       "      <td>0</td>\n",
       "    </tr>\n",
       "  </tbody>\n",
       "</table>\n",
       "<p>367435 rows × 980 columns</p>\n",
       "</div>"
      ],
      "text/plain": [
       "             . body soap  . conditioner  . q refrigerator  . shampoo  \\\n",
       "0     0   0            0              0                 0          0   \n",
       "      1   0            0              0                 0          0   \n",
       "      2   0            0              0                 0          0   \n",
       "      3   0            0              0                 0          0   \n",
       "      4   0            0              0                 0          0   \n",
       "...      ..          ...            ...               ...        ...   \n",
       "15853 22  0            0              0                 0          0   \n",
       "      23  0            0              0                 0          0   \n",
       "      24  0            0              0                 0          0   \n",
       "      25  0            0              0                 0          0   \n",
       "      26  0            0              0                 0          0   \n",
       "\n",
       "          .q refrigerator  \\\\ hdtv  \\\\ hdtv with amazon prime video  \\\n",
       "0     0                 0        0                                0   \n",
       "      1                 0        0                                0   \n",
       "      2                 0        0                                0   \n",
       "      3                 0        0                                0   \n",
       "      4                 0        0                                0   \n",
       "...                   ...      ...                              ...   \n",
       "15853 22                0        0                                0   \n",
       "      23                0        0                                0   \n",
       "      24                0        0                                0   \n",
       "      25                0        0                                0   \n",
       "      26                0        0                                0   \n",
       "\n",
       "          \\\\ hdtv with apple tv  \\\\ hdtv with chromecast  ...  \\\n",
       "0     0                       0                        0  ...   \n",
       "      1                       0                        0  ...   \n",
       "      2                       0                        0  ...   \n",
       "      3                       0                        0  ...   \n",
       "      4                       0                        0  ...   \n",
       "...                         ...                      ...  ...   \n",
       "15853 22                      0                        0  ...   \n",
       "      23                      0                        0  ...   \n",
       "      24                      0                        0  ...   \n",
       "      25                      0                        0  ...   \n",
       "      26                      0                        0  ...   \n",
       "\n",
       "          xiaomi induction stove  xiaomi sound system with bluetooth and aux  \\\n",
       "0     0                        0                                           0   \n",
       "      1                        0                                           0   \n",
       "      2                        0                                           0   \n",
       "      3                        0                                           0   \n",
       "      4                        0                                           0   \n",
       "...                          ...                                         ...   \n",
       "15853 22                       0                                           0   \n",
       "      23                       0                                           0   \n",
       "      24                       0                                           0   \n",
       "      25                       0                                           0   \n",
       "      26                       0                                           0   \n",
       "\n",
       "          xiaomi soundbar sound system with bluetooth and aux  xmen body soap  \\\n",
       "0     0                                                   0                 0   \n",
       "      1                                                   0                 0   \n",
       "      2                                                   0                 0   \n",
       "      3                                                   0                 0   \n",
       "      4                                                   0                 0   \n",
       "...                                                     ...               ...   \n",
       "15853 22                                                  0                 0   \n",
       "      23                                                  0                 0   \n",
       "      24                                                  0                 0   \n",
       "      25                                                  0                 0   \n",
       "      26                                                  0                 0   \n",
       "\n",
       "          xmen or some thing good shampoo  xx conditioner  \\\n",
       "0     0                                 0               0   \n",
       "      1                                 0               0   \n",
       "      2                                 0               0   \n",
       "      3                                 0               0   \n",
       "      4                                 0               0   \n",
       "...                                   ...             ...   \n",
       "15853 22                                0               0   \n",
       "      23                                0               0   \n",
       "      24                                0               0   \n",
       "      25                                0               0   \n",
       "      26                                0               0   \n",
       "\n",
       "          yamaha home theater  sound system  years old  yoga mat  \\\n",
       "0     0                                   0          0         0   \n",
       "      1                                   0          0         0   \n",
       "      2                                   0          0         0   \n",
       "      3                                   0          0         0   \n",
       "      4                                   0          0         0   \n",
       "...                                     ...        ...       ...   \n",
       "15853 22                                  0          0         0   \n",
       "      23                                  0          0         0   \n",
       "      24                                  0          0         0   \n",
       "      25                                  0          0         0   \n",
       "      26                                  0          0         0   \n",
       "\n",
       "          zhenxiu shampoo  \n",
       "0     0                 0  \n",
       "      1                 0  \n",
       "      2                 0  \n",
       "      3                 0  \n",
       "      4                 0  \n",
       "...                   ...  \n",
       "15853 22                0  \n",
       "      23                0  \n",
       "      24                0  \n",
       "      25                0  \n",
       "      26                0  \n",
       "\n",
       "[367435 rows x 980 columns]"
      ]
     },
     "execution_count": 27,
     "metadata": {},
     "output_type": "execute_result"
    }
   ],
   "source": [
    "pd.get_dummies(df.amenities.apply(pd.Series).stack().str.strip())"
   ]
  },
  {
   "cell_type": "code",
   "execution_count": 29,
   "id": "62af2c18",
   "metadata": {},
   "outputs": [],
   "source": [
    "dummies = pd.get_dummies(df.amenities.apply(pd.Series).stack().str.strip()).sum(level=0)\n",
    "df = pd.concat([df, dummies], axis=1)"
   ]
  },
  {
   "cell_type": "code",
   "execution_count": 30,
   "id": "19787a80",
   "metadata": {},
   "outputs": [],
   "source": [
    "drops = [\"amenities\"]\n",
    "df.drop(columns=drops, inplace=True)"
   ]
  },
  {
   "cell_type": "code",
   "execution_count": 31,
   "id": "89fdeee2",
   "metadata": {},
   "outputs": [
    {
     "data": {
      "text/plain": [
       "Entire condo                   3771\n",
       "Entire rental unit             3769\n",
       "Private room in rental unit    1601\n",
       "Private room in condo           876\n",
       "Room in hotel                   695\n",
       "Room in boutique hotel          534\n",
       "Private room in home            531\n",
       "Entire home                     420\n",
       "Private room in hostel          382\n",
       "Private room in townhouse       373\n",
       "Name: property_type, dtype: int64"
      ]
     },
     "execution_count": 31,
     "metadata": {},
     "output_type": "execute_result"
    }
   ],
   "source": [
    "df[\"property_type\"].value_counts().head(10)"
   ]
  },
  {
   "cell_type": "code",
   "execution_count": 32,
   "id": "a5111dc4",
   "metadata": {},
   "outputs": [
    {
     "data": {
      "text/plain": [
       "(15854, 3774)"
      ]
     },
     "execution_count": 32,
     "metadata": {},
     "output_type": "execute_result"
    }
   ],
   "source": [
    "df.shape\n"
   ]
  },
  {
   "cell_type": "code",
   "execution_count": 33,
   "id": "e1c5acdb",
   "metadata": {},
   "outputs": [],
   "source": [
    "# there is no exact apartment type, I keep those that I suppose are apartments actually\n",
    "\n",
    "df = df.loc[\n",
    "    lambda x: x[\"property_type\"].isin(\n",
    "        [\n",
    "            \"Entire rental unit\",\n",
    "            \"Entire condominium (condo)\",\n",
    "            \"Entire serviced apartment\",\n",
    "        ]\n",
    "    )\n",
    "]"
   ]
  },
  {
   "cell_type": "code",
   "execution_count": 34,
   "id": "320ccdf8",
   "metadata": {},
   "outputs": [
    {
     "data": {
      "text/plain": [
       "(4099, 3774)"
      ]
     },
     "execution_count": 34,
     "metadata": {},
     "output_type": "execute_result"
    }
   ],
   "source": [
    "df.shape"
   ]
  },
  {
   "cell_type": "code",
   "execution_count": 35,
   "id": "c2023377",
   "metadata": {},
   "outputs": [],
   "source": [
    "df[\"f_property_type\"] = df[\"property_type\"].astype(\"category\")\n"
   ]
  },
  {
   "cell_type": "code",
   "execution_count": 36,
   "id": "7f73743a",
   "metadata": {},
   "outputs": [
    {
     "data": {
      "text/plain": [
       "Entire home/apt    4099\n",
       "Name: room_type, dtype: int64"
      ]
     },
     "execution_count": 36,
     "metadata": {},
     "output_type": "execute_result"
    }
   ],
   "source": [
    "df[\"room_type\"].value_counts()"
   ]
  },
  {
   "cell_type": "code",
   "execution_count": 37,
   "id": "7cd6662a",
   "metadata": {},
   "outputs": [
    {
     "data": {
      "text/plain": [
       "Series([], Name: bathrooms, dtype: int64)"
      ]
     },
     "execution_count": 37,
     "metadata": {},
     "output_type": "execute_result"
    }
   ],
   "source": [
    "df[\"bathrooms\"].value_counts()"
   ]
  },
  {
   "cell_type": "code",
   "execution_count": 38,
   "id": "5e04810a",
   "metadata": {},
   "outputs": [],
   "source": [
    "# no variation, drop\n",
    "df.drop([\"room_type\",\"bathrooms\"],axis=1,inplace=True)"
   ]
  },
  {
   "cell_type": "code",
   "execution_count": 39,
   "id": "57f260a2",
   "metadata": {},
   "outputs": [
    {
     "name": "stdout",
     "output_type": "stream",
     "text": [
      "['id', 'scrape_id', 'source', 'host_id', 'host_name', 'host_since', 'host_response_rate', 'host_acceptance_rate', 'host_is_superhost', 'host_neighbourhood', 'host_listings_count', 'host_total_listings_count', 'host_verifications', 'host_has_profile_pic', 'host_identity_verified', 'neighbourhood', 'neighbourhood_cleansed', 'neighbourhood_group_cleansed', 'latitude', 'longitude', 'property_type', 'accommodates', 'bathrooms_text', 'bedrooms', 'beds', 'price', 'minimum_nights', 'maximum_nights', 'minimum_minimum_nights', 'maximum_minimum_nights', 'minimum_maximum_nights', 'maximum_maximum_nights', 'minimum_nights_avg_ntm', 'maximum_nights_avg_ntm', 'calendar_updated', 'has_availability', 'availability_30', 'availability_60', 'availability_90', 'availability_365', 'calendar_last_scraped', 'number_of_reviews', 'number_of_reviews_ltm', 'number_of_reviews_l30d', 'first_review', 'last_review', 'review_scores_rating', 'review_scores_accuracy', 'review_scores_cleanliness', 'review_scores_checkin', 'review_scores_communication', 'review_scores_location', 'review_scores_value', 'license', 'instant_bookable', 'calculated_host_listings_count', 'calculated_host_listings_count_entire_homes', 'calculated_host_listings_count_private_rooms', 'calculated_host_listings_count_shared_rooms', 'reviews_per_month', '  dettol body soap', ' - body soap', ' - conditioner', ' - oven', ' - refrigerator', ' - shampoo', ' - stove', ' . body soap', ' . conditioner', ' . shampoo', ' 100\\\\ HDTV with Amazon Prime Video', ' 100\\\\ HDTV with standard cable', ' 106\\\\ HDTV with standard cable', ' 120\\\\ HDTV with Netflix', ' 120\\\\ HDTV]', ' 168 Shampoo shampoo', ' 16\\\\ TV', ' 18\\\\ HDTV with standard cable]', ' 18\\\\ TV with standard cable', ' 2 doors fridge refrigerator', ' 2-5 years old', ' 2-door Sharp refrigerator', ' 2.9 Q refrigerator', ' 20\\\\ HDTV', ' 20\\\\ HDTV with standard cable', ' 20\\\\ TV', ' 20\\\\ TV with standard cable', ' 21\\\\ HDTV', ' 21\\\\ TV', ' 21\\\\ TV with Netflix', ' 21\\\\ TV with standard cable', ' 22\\\\ HDTV with standard cable', ' 24\\\\ HDTV', ' 24\\\\ HDTV with Netflix', ' 24\\\\ HDTV with standard cable', ' 24\\\\ TV with Netflix', ' 24\\\\ TV with standard cable', ' 25\\\\ HDTV with premium cable]', ' 25\\\\ TV with Disney+', ' 29\\\\ HDTV', ' 29\\\\ HDTV with standard cable', ' 30\\\\ HDTV', ' 30\\\\ HDTV with HBO Max', ' 30\\\\ HDTV with Netflix]', ' 30\\\\ TV', ' 30\\\\ TV with standard cable', ' 32\\\\ HDTV', ' 32\\\\ HDTV with Amazon Prime Video', ' 32\\\\ HDTV with Apple TV', ' 32\\\\ HDTV with Chromecast', ' 32\\\\ HDTV with Netflix', ' 32\\\\ HDTV with Roku', ' 32\\\\ HDTV with premium cable', ' 32\\\\ HDTV with standard cable', ' 32\\\\ TV', ' 32\\\\ TV with Chromecast', ' 32\\\\ TV with Netflix', ' 32\\\\ TV with premium cable', ' 32\\\\ TV with standard cable', ' 32\\\\ TV with standard cable]', ' 32\\\\ TV]', ' 33\\\\ HDTV', ' 34\\\\ HDTV', ' 34\\\\ HDTV with standard cable', ' 35\\\\ HDTV with Netflix', ' 35\\\\ TV with standard cable', ' 36\\\\ HDTV with Disney+', ' 36\\\\ HDTV with Netflix', ' 36\\\\ HDTV with premium cable', ' 36\\\\ HDTV with standard cable', ' 36\\\\ TV with standard cable', ' 37\\\\ HDTV with premium cable', ' 38\\\\ HDTV with Netflix', ' 38\\\\ HDTV with premium cable', ' 39\\\\ TV with standard cable', ' 4 burners stove', ' 40\\\\ HDTV', ' 40\\\\ HDTV with Amazon Prime Video', ' 40\\\\ HDTV with Apple TV', ' 40\\\\ HDTV with Chromecast', ' 40\\\\ HDTV with Disney+', ' 40\\\\ HDTV with Netflix', ' 40\\\\ HDTV with premium cable', ' 40\\\\ HDTV with standard cable', ' 40\\\\ TV', ' 40\\\\ TV with Chromecast', ' 40\\\\ TV with Netflix', ' 40\\\\ TV with premium cable', ' 40\\\\ TV with standard cable', ' 41\\\\ HDTV with Chromecast', ' 41\\\\ HDTV with standard cable', ' 41\\\\ TV with standard cable', ' 42\\\\ HDTV', ' 42\\\\ HDTV with Apple TV', ' 42\\\\ HDTV with Chromecast', ' 42\\\\ HDTV with Disney+', ' 42\\\\ HDTV with Netflix', ' 42\\\\ HDTV with premium cable', ' 42\\\\ HDTV with standard cable', ' 42\\\\ TV', ' 42\\\\ TV with Chromecast', ' 42\\\\ TV with Netflix', ' 42\\\\ TV with standard cable', ' 43\\\\ HDTV', ' 43\\\\ HDTV with Amazon Prime Video', ' 43\\\\ HDTV with Apple TV', ' 43\\\\ HDTV with Chromecast', ' 43\\\\ HDTV with Disney+', ' 43\\\\ HDTV with Fire TV', ' 43\\\\ HDTV with Netflix', ' 43\\\\ HDTV with Netflix]', ' 43\\\\ HDTV with premium cable', ' 43\\\\ HDTV with standard cable', ' 43\\\\ TV', ' 43\\\\ TV with Apple TV', ' 43\\\\ TV with Netflix', ' 43\\\\ TV with standard cable', ' 44\\\\ HDTV with Amazon Prime Video', ' 44\\\\ HDTV with Disney+', ' 44\\\\ HDTV with Netflix', ' 44\\\\ HDTV with standard cable]', ' 45\\\\ HDTV', ' 45\\\\ HDTV with Amazon Prime Video', ' 45\\\\ HDTV with Chromecast', ' 45\\\\ HDTV with Netflix', ' 45\\\\ HDTV with premium cable', ' 45\\\\ HDTV with standard cable', ' 45\\\\ TV', ' 46\\\\ HDTV', ' 46\\\\ HDTV with Chromecast', ' 46\\\\ HDTV with Netflix', ' 46\\\\ HDTV with Netflix]', ' 46\\\\ HDTV with standard cable', ' 46\\\\ TV with Chromecast', ' 47\\\\ TV with premium cable', ' 48\\\\ HDTV', ' 48\\\\ HDTV with Chromecast', ' 48\\\\ HDTV with Netflix', ' 48\\\\ HDTV with Netflix]', ' 48\\\\ HDTV with standard cable', ' 48\\\\ TV with Netflix', ' 49\\\\ HDTV', ' 49\\\\ HDTV with Chromecast', ' 49\\\\ HDTV with HBO Max', ' 49\\\\ HDTV with Netflix', ' 49\\\\ HDTV with premium cable', ' 49\\\\ HDTV with standard cable', ' 49\\\\ TV with Netflix', ' 5-10 years old', ' 50\\\\ HDTV', ' 50\\\\ HDTV with Amazon Prime Video', ' 50\\\\ HDTV with Chromecast', ' 50\\\\ HDTV with Disney+', ' 50\\\\ HDTV with HBO Max', ' 50\\\\ HDTV with Netflix', ' 50\\\\ HDTV with premium cable', ' 50\\\\ HDTV with standard cable', ' 50\\\\ TV', ' 50\\\\ TV with Chromecast', ' 50\\\\ TV with Fire TV', ' 50\\\\ TV with Netflix', ' 50\\\\ TV with standard cable', ' 51\\\\ HDTV with standard cable', ' 52\\\\ HDTV', ' 52\\\\ HDTV with Apple TV', ' 52\\\\ HDTV with Netflix', ' 52\\\\ HDTV with standard cable', ' 53\\\\ HDTV with Netflix', ' 54\\\\ HDTV with Netflix', ' 55\\\\ HDTV', ' 55\\\\ HDTV with Amazon Prime Video', ' 55\\\\ HDTV with Apple TV', ' 55\\\\ HDTV with Chromecast', ' 55\\\\ HDTV with DVD player', ' 55\\\\ HDTV with Disney+', ' 55\\\\ HDTV with HBO Max', ' 55\\\\ HDTV with Hulu', ' 55\\\\ HDTV with Netflix', ' 55\\\\ HDTV with premium cable', ' 55\\\\ HDTV with standard cable', ' 55\\\\ TV', ' 55\\\\ TV with Netflix', ' 55\\\\ TV with standard cable', ' 56\\\\ HDTV', ' 58\\\\ HDTV', ' 5\\\\ HDTV with Netflix', ' 6.4Q refrigerator', ' 60\\\\ HDTV', ' 60\\\\ HDTV with Amazon Prime Video', ' 60\\\\ HDTV with Apple TV', ' 60\\\\ HDTV with Chromecast', ' 60\\\\ HDTV with Netflix', ' 60\\\\ HDTV with premium cable', ' 60\\\\ HDTV with standard cable', ' 60\\\\ TV with Chromecast', ' 60\\\\ TV with standard cable', ' 62\\\\ HDTV with premium cable', ' 63\\\\ HDTV', ' 64\\\\ HDTV with Netflix', ' 65\\\\ HDTV', ' 65\\\\ HDTV with Apple TV', ' 65\\\\ HDTV with Chromecast', ' 65\\\\ HDTV with HBO Max', ' 65\\\\ HDTV with Netflix', ' 65\\\\ HDTV with Netflix]', ' 65\\\\ HDTV with premium cable', ' 65\\\\ HDTV with standard cable', ' 68\\\\ HDTV with Netflix', ' 70\\\\ HDTV with Netflix', ' 75\\\\ HDTV with Netflix', ' 75\\\\ TV with Netflix', ' 85\\\\ HDTV', ' 85\\\\ HDTV with premium cable', ' 87\\\\ HDTV with Apple TV', ' A 20-L oven', ' AC - split type ductless system', ' AEG induction stove', ' AEG stainless steel electric stove', ' ARO body soap', ' ARO conditioner]', ' ARO shampoo', ' Aesop body soap', ' Air conditioning', ' Air conditioning]', ' Air flyer oven', ' Airport shuttle', ' Altro induction stove', ' Amazon Prime Video', ' Amet oven', ' Amzchef stainless steel induction stove', ' Any body soap', ' Apple TV', ' Ariston  oven', ' Ariston stainless steel electric stove', ' Ariston stainless steel oven', ' Aro body soap', ' Aro conditioner', ' Aro shampoo', ' Aromatheraphy body soap', ' Aromatheraphy body soap]', ' Aromatheraphy conditioner', ' Aromatheraphy shampoo', ' Aromatherapy  body soap', ' Aromatherapy  conditioner', ' Aromatherapy  shampoo', ' Aspira body soap', ' Aspira conditioner', ' Aspira shampoo', ' BBQ grill', ' BBQ grill: charcoal', ' BBQ grill: electric', ' BEKO refrigerator', ' BOOTS body soap', ' BOOTS shampoo', ' BOSCH induction stove', ' BOSE Bluetooth sound system', ' Baby bath', ' Baby monitor', ' Baby safety gates', ' Baby soap', ' Babysitter recommendations', ' Backyard', ' Backyard - Not fully fenced', ' Baking sheet', ' Barbecue utensils', ' Bathrobes', ' Bathroom essentials', ' Bathtub', ' Bay view', ' Beach access', ' Beach access \\\\u2013 Beachfront', ' Beach essentials', ' Beach essentials]', ' Bed linens', ' Bed linens]', ' Bed sheets and pillows', ' Bedroom comforts', ' Beko  refrigerator', ' Beko Inverter 10.6Q refrigerator', ' Beko refrigerator', ' Benice body soap', ' Bidet', ' Big Samsung refrigerator refrigerator', ' Bikes', ' Blender', ' Bluetooth sound system]', ' Board games', ' Boat slip', ' Body soap', ' Books and reading material', ' Boost body soap', ' Booster seat high chair - always at the listing', ' Boot body soap', ' Boots  shampoo', ' Boots body soap', ' Boots conditioner', ' Boots or Watson body soap', ' Boots or Watson brand conditioner', ' Boots or Watson house brand conditioner', ' Boots or Watson house brand shampoo', ' Boots or Watson shampoo', ' Boots shampoo', ' Bosch induction stove', ' Bose  sound system', ' Bose Bluetooth sound system', ' Bose google Bluetooth sound system', ' Bose sound system', ' Brand Host body soap', ' Brand Host conditioner', ' Brand Host shampoo', ' Branded  shampoo', ' Branded body soap', ' Branded conditioner]', ' Bread maker', ' Breakfast', ' Breakfast]', ' Building staff', ' Canal view', ' Carbon monoxide alarm', ' Ceiling fan', ' Central air conditioning', ' Central air conditioning]', ' Central heating', ' Ceramic hob top electric stove', ' Changing table', ' Children\\\\u2019s books and toys', ' Children\\\\u2019s books and toys for ages 0-2 years old', ' Children\\\\u2019s books and toys for ages 0-2 years old and 2-5 years old', ' Children\\\\u2019s books and toys for ages 10+ years old', ' Children\\\\u2019s books and toys for ages 2-5 years old', ' Children\\\\u2019s books and toys for ages 2-5 years old and 5-10 years old', ' Children\\\\u2019s books and toys for ages 2-5 years old and 5-10 years old]', ' Children\\\\u2019s books and toys for ages 5-10 years old', ' Children\\\\u2019s books and toys for ages 5-10 years old and 10+ years old', ' Children\\\\u2019s dinnerware', ' Chromecast', ' Chromecast]', ' Chula hospital  body soap', ' Chula hospital  shampoo', ' City skyline view', ' City skyline view]', ' Cleaning available during stay', ' Cleaning products', ' Cleaning products]', ' Clear Men', ' Clothing storage', ' Clothing storage: closet', ' Clothing storage: closet and dresser', ' Clothing storage: closet and walk-in closet', ' Clothing storage: closet and wardrobe', ' Clothing storage: closet and wardrobe]', ' Clothing storage: closet]', ' Clothing storage: dresser', ' Clothing storage: dresser and closet', ' Clothing storage: dresser and walk-in closet', ' Clothing storage: dresser and wardrobe', ' Clothing storage: walk-in closet', ' Clothing storage: walk-in closet and closet', ' Clothing storage: walk-in closet and wardrobe', ' Clothing storage: wardrobe', ' Clothing storage: wardrobe and closet', ' Clothing storage: wardrobe and dresser', ' Clothing storage: wardrobe and walk-in closet', ' Clothing storage: wardrobe]', ' Clothing storage]', ' Coffee', ' Coffee maker', ' Coffee maker: Keurig coffee machine', ' Coffee maker: Nespresso', ' Coffee maker: drip coffee maker', ' Coffee maker: drip coffee maker]', ' Coffee maker: espresso machine', ' Coffee maker: french press', ' Coffee maker: pour-over coffee', ' Coffee maker]', ' Common Ground Organic shampoo]', ' Common ground body soap', ' Common ground conditioner', ' Common ground shampoo', ' Commonground body soap', ' Commonground shampoo', ' Complimentary self parking', ' Concierge', ' Conditioner', ' Continental breakfast available \\\\u2014 \\\\u0e3f270 per person per day', ' Cooking basics', ' Courtesy set shampoo', ' Courtyard view', ' Courtyard view]', ' Crib', ' Crib - always at the listing', ' Crib - available upon request', ' Cusino induction stove', ' Cussons ', ' Custom body soap', ' Custom shampoo', ' DOVE  body soap', ' DOVE conditioner', ' DOVE shampoo', ' DVD player', ' DVD player]', ' Daikin conditioner', ' Dedicated workspace', ' Dedicated workspace]', ' Denon Player & Bose Speakers sound system with aux', ' Depends  body soap', ' Desert view', ' Dettol  body soap', ' Dettol body soap', ' Diana', ' Dining table', ' Dining table]', ' Dishes and silverware', ' Dishwasher', ' Dishwasher]', ' Disney+', ' Done ', ' Double porte avec espace congelation refrigerator', ' Dovd conditioner', ' Dove ', ' Dove  body soap', ' Dove Lux Protex body soap', ' Dove body soap', ' Dove conditioner', ' Dove shampoo', ' Dove.  Xmen shampoo', ' Dryer', ' Dryer \\\\u2013 In building', ' Dryer \\\\u2013\\\\u00a0In unit', ' Drying rack for clothing', ' EV charger', ' EV charger]', ' Electric stove', ' Electric stove]', ' Electrolux  refrigerator', ' Electrolux  stainless steel oven', ' Electrolux electric stove', ' Electrolux gas stove', ' Electrolux induction stove', ' Electrolux refrigerator', ' Electrolux stainless steel electric stove', ' Electrolux stainless steel induction stove', ' Electrolux stainless steel oven', ' Eletrolux refrigerator', ' Elevator', ' Elevator]', ' Elextrolux refrigerator', ' Elextrolux stainless steel electric stove', ' Elextrolux stainless steel oven', ' Erb ( Thai Herbs \\\\ud83c\\\\udf3f) body soap', ' Erb shampoo', ' Essentials', ' Essentials body soap', ' Estee Lauder conditioner', ' Estee Lauder shampoo', ' Ethernet connection', ' Ethernet connection]', ' Eve electric stove', ' Eve stainless steel electric stove', ' Everyday karmakamet body soap', ' Exercise equipment', ' Exercise equipment: elliptical', ' Exercise equipment: free weights', ' Exercise equipment: stationary bike', ' Exercise equipment: treadmill', ' Exercise equipment: yoga mat', ' Exercise equipment]', ' Exlectrolux electric stove', ' Extra pillows and blankets', ' Extra pillows and blankets]', ' FAGOR electric stove', ' FAGOR stainless steel oven', ' FRANK electric stove', ' FRANKE stainless steel oven', ' Fagor stainless steel electric stove', ' Fagor stainless steel oven', ' Fast wifi \\\\u2013 101 Mbps', ' Fast wifi \\\\u2013 102 Mbps', ' Fast wifi \\\\u2013 104 Mbps', ' Fast wifi \\\\u2013 105 Mbps', ' Fast wifi \\\\u2013 107 Mbps', ' Fast wifi \\\\u2013 108 Mbps', ' Fast wifi \\\\u2013 109 Mbps', ' Fast wifi \\\\u2013 110 Mbps', ' Fast wifi \\\\u2013 112 Mbps', ' Fast wifi \\\\u2013 113 Mbps]', ' Fast wifi \\\\u2013 116 Mbps', ' Fast wifi \\\\u2013 118 Mbps', ' Fast wifi \\\\u2013 119 Mbps', ' Fast wifi \\\\u2013 127 Mbps', ' Fast wifi \\\\u2013 132 Mbps', ' Fast wifi \\\\u2013 133 Mbps', ' Fast wifi \\\\u2013 134 Mbps', ' Fast wifi \\\\u2013 140 Mbps', ' Fast wifi \\\\u2013 145 Mbps', ' Fast wifi \\\\u2013 146 Mbps', ' Fast wifi \\\\u2013 147 Mbps', ' Fast wifi \\\\u2013 150 Mbps', ' Fast wifi \\\\u2013 154 Mbps', ' Fast wifi \\\\u2013 162 Mbps', ' Fast wifi \\\\u2013 164 Mbps', ' Fast wifi \\\\u2013 166 Mbps', ' Fast wifi \\\\u2013 169 Mbps', ' Fast wifi \\\\u2013 171 Mbps', ' Fast wifi \\\\u2013 173 Mbps', ' Fast wifi \\\\u2013 176 Mbps', ' Fast wifi \\\\u2013 178 Mbps', ' Fast wifi \\\\u2013 181 Mbps', ' Fast wifi \\\\u2013 184 Mbps', ' Fast wifi \\\\u2013 193 Mbps', ' Fast wifi \\\\u2013 194 Mbps', ' Fast wifi \\\\u2013 198 Mbps', ' Fast wifi \\\\u2013 201 Mbps', ' Fast wifi \\\\u2013 203 Mbps', ' Fast wifi \\\\u2013 205 Mbps', ' Fast wifi \\\\u2013 206 Mbps', ' Fast wifi \\\\u2013 208 Mbps', ' Fast wifi \\\\u2013 210 Mbps', ' Fast wifi \\\\u2013 212 Mbps', ' Fast wifi \\\\u2013 214 Mbps]', ' Fast wifi \\\\u2013 215 Mbps', ' Fast wifi \\\\u2013 216 Mbps', ' Fast wifi \\\\u2013 218 Mbps', ' Fast wifi \\\\u2013 222 Mbps', ' Fast wifi \\\\u2013 223 Mbps', ' Fast wifi \\\\u2013 224 Mbps', ' Fast wifi \\\\u2013 225 Mbps', ' Fast wifi \\\\u2013 226 Mbps', ' Fast wifi \\\\u2013 230 Mbps', ' Fast wifi \\\\u2013 231 Mbps', ' Fast wifi \\\\u2013 234 Mbps', ' Fast wifi \\\\u2013 235 Mbps', ' Fast wifi \\\\u2013 238 Mbps', ' Fast wifi \\\\u2013 240 Mbps', ' Fast wifi \\\\u2013 241 Mbps', ' Fast wifi \\\\u2013 242 Mbps', ' Fast wifi \\\\u2013 245 Mbps', ' Fast wifi \\\\u2013 247 Mbps', ' Fast wifi \\\\u2013 248 Mbps', ' Fast wifi \\\\u2013 251 Mbps', ' Fast wifi \\\\u2013 252 Mbps', ' Fast wifi \\\\u2013 256 Mbps', ' Fast wifi \\\\u2013 257 Mbps', ' Fast wifi \\\\u2013 259 Mbps', ' Fast wifi \\\\u2013 260 Mbps', ' Fast wifi \\\\u2013 261 Mbps', ' Fast wifi \\\\u2013 262 Mbps', ' Fast wifi \\\\u2013 265 Mbps', ' Fast wifi \\\\u2013 268 Mbps', ' Fast wifi \\\\u2013 269 Mbps', ' Fast wifi \\\\u2013 271 Mbps', ' Fast wifi \\\\u2013 277 Mbps', ' Fast wifi \\\\u2013 278 Mbps', ' Fast wifi \\\\u2013 280 Mbps', ' Fast wifi \\\\u2013 281 Mbps', ' Fast wifi \\\\u2013 282 Mbps', ' Fast wifi \\\\u2013 283 Mbps', ' Fast wifi \\\\u2013 285 Mbps]', ' Fast wifi \\\\u2013 286 Mbps', ' Fast wifi \\\\u2013 291 Mbps', ' Fast wifi \\\\u2013 297 Mbps', ' Fast wifi \\\\u2013 300 Mbps', ' Fast wifi \\\\u2013 300 Mbps]', ' Fast wifi \\\\u2013 302 Mbps', ' Fast wifi \\\\u2013 303 Mbps', ' Fast wifi \\\\u2013 304 Mbps', ' Fast wifi \\\\u2013 305 Mbps', ' Fast wifi \\\\u2013 309 Mbps', ' Fast wifi \\\\u2013 310 Mbps', ' Fast wifi \\\\u2013 312 Mbps', ' Fast wifi \\\\u2013 313 Mbps', ' Fast wifi \\\\u2013 315 Mbps', ' Fast wifi \\\\u2013 318 Mbps', ' Fast wifi \\\\u2013 319 Mbps', ' Fast wifi \\\\u2013 320 Mbps', ' Fast wifi \\\\u2013 321 Mbps', ' Fast wifi \\\\u2013 323 Mbps', ' Fast wifi \\\\u2013 325 Mbps', ' Fast wifi \\\\u2013 325 Mbps]', ' Fast wifi \\\\u2013 326 Mbps', ' Fast wifi \\\\u2013 327 Mbps', ' Fast wifi \\\\u2013 328 Mbps', ' Fast wifi \\\\u2013 329 Mbps', ' Fast wifi \\\\u2013 333 Mbps', ' Fast wifi \\\\u2013 335 Mbps', ' Fast wifi \\\\u2013 336 Mbps', ' Fast wifi \\\\u2013 337 Mbps', ' Fast wifi \\\\u2013 338 Mbps', ' Fast wifi \\\\u2013 340 Mbps', ' Fast wifi \\\\u2013 341 Mbps', ' Fast wifi \\\\u2013 342 Mbps', ' Fast wifi \\\\u2013 343 Mbps', ' Fast wifi \\\\u2013 344 Mbps', ' Fast wifi \\\\u2013 345 Mbps', ' Fast wifi \\\\u2013 347 Mbps', ' Fast wifi \\\\u2013 351 Mbps', ' Fast wifi \\\\u2013 353 Mbps', ' Fast wifi \\\\u2013 354 Mbps', ' Fast wifi \\\\u2013 355 Mbps', ' Fast wifi \\\\u2013 356 Mbps', ' Fast wifi \\\\u2013 358 Mbps', ' Fast wifi \\\\u2013 359 Mbps', ' Fast wifi \\\\u2013 360 Mbps', ' Fast wifi \\\\u2013 364 Mbps', ' Fast wifi \\\\u2013 367 Mbps', ' Fast wifi \\\\u2013 369 Mbps', ' Fast wifi \\\\u2013 372 Mbps', ' Fast wifi \\\\u2013 372 Mbps]', ' Fast wifi \\\\u2013 374 Mbps', ' Fast wifi \\\\u2013 375 Mbps', ' Fast wifi \\\\u2013 375 Mbps]', ' Fast wifi \\\\u2013 377 Mbps', ' Fast wifi \\\\u2013 380 Mbps', ' Fast wifi \\\\u2013 382 Mbps', ' Fast wifi \\\\u2013 383 Mbps', ' Fast wifi \\\\u2013 385 Mbps', ' Fast wifi \\\\u2013 386 Mbps]', ' Fast wifi \\\\u2013 387 Mbps', ' Fast wifi \\\\u2013 388 Mbps', ' Fast wifi \\\\u2013 391 Mbps', ' Fast wifi \\\\u2013 393 Mbps', ' Fast wifi \\\\u2013 395 Mbps', ' Fast wifi \\\\u2013 399 Mbps', ' Fast wifi \\\\u2013 401 Mbps', ' Fast wifi \\\\u2013 403 Mbps', ' Fast wifi \\\\u2013 404 Mbps', ' Fast wifi \\\\u2013 406 Mbps', ' Fast wifi \\\\u2013 407 Mbps', ' Fast wifi \\\\u2013 411 Mbps', ' Fast wifi \\\\u2013 412 Mbps', ' Fast wifi \\\\u2013 413 Mbps', ' Fast wifi \\\\u2013 415 Mbps', ' Fast wifi \\\\u2013 416 Mbps', ' Fast wifi \\\\u2013 418 Mbps', ' Fast wifi \\\\u2013 420 Mbps', ' Fast wifi \\\\u2013 422 Mbps', ' Fast wifi \\\\u2013 425 Mbps', ' Fast wifi \\\\u2013 426 Mbps', ' Fast wifi \\\\u2013 427 Mbps', ' Fast wifi \\\\u2013 428 Mbps', ' Fast wifi \\\\u2013 430 Mbps', ' Fast wifi \\\\u2013 434 Mbps', ' Fast wifi \\\\u2013 435 Mbps]', ' Fast wifi \\\\u2013 436 Mbps', ' Fast wifi \\\\u2013 439 Mbps', ' Fast wifi \\\\u2013 441 Mbps', ' Fast wifi \\\\u2013 443 Mbps', ' Fast wifi \\\\u2013 444 Mbps', ' Fast wifi \\\\u2013 446 Mbps', ' Fast wifi \\\\u2013 452 Mbps', ' Fast wifi \\\\u2013 457 Mbps]', ' Fast wifi \\\\u2013 462 Mbps', ' Fast wifi \\\\u2013 463 Mbps', ' Fast wifi \\\\u2013 465 Mbps', ' Fast wifi \\\\u2013 467 Mbps', ' Fast wifi \\\\u2013 468 Mbps', ' Fast wifi \\\\u2013 469 Mbps', ' Fast wifi \\\\u2013 474 Mbps', ' Fast wifi \\\\u2013 475 Mbps', ' Fast wifi \\\\u2013 476 Mbps', ' Fast wifi \\\\u2013 482 Mbps', ' Fast wifi \\\\u2013 488 Mbps', ' Fast wifi \\\\u2013 489 Mbps', ' Fast wifi \\\\u2013 498 Mbps', ' Fast wifi \\\\u2013 50 Mbps', ' Fast wifi \\\\u2013 501 Mbps', ' Fast wifi \\\\u2013 503 Mbps', ' Fast wifi \\\\u2013 505 Mbps', ' Fast wifi \\\\u2013 509 Mbps', ' Fast wifi \\\\u2013 51 Mbps', ' Fast wifi \\\\u2013 52 Mbps', ' Fast wifi \\\\u2013 520 Mbps', ' Fast wifi \\\\u2013 524 Mbps', ' Fast wifi \\\\u2013 525 Mbps', ' Fast wifi \\\\u2013 526 Mbps', ' Fast wifi \\\\u2013 528 Mbps', ' Fast wifi \\\\u2013 53 Mbps', ' Fast wifi \\\\u2013 534 Mbps', ' Fast wifi \\\\u2013 536 Mbps', ' Fast wifi \\\\u2013 54 Mbps', ' Fast wifi \\\\u2013 540 Mbps', ' Fast wifi \\\\u2013 545 Mbps', ' Fast wifi \\\\u2013 547 Mbps', ' Fast wifi \\\\u2013 55 Mbps', ' Fast wifi \\\\u2013 552 Mbps', ' Fast wifi \\\\u2013 555 Mbps', ' Fast wifi \\\\u2013 557 Mbps', ' Fast wifi \\\\u2013 558 Mbps', ' Fast wifi \\\\u2013 559 Mbps', ' Fast wifi \\\\u2013 56 Mbps', ' Fast wifi \\\\u2013 567 Mbps', ' Fast wifi \\\\u2013 568 Mbps', ' Fast wifi \\\\u2013 569 Mbps', ' Fast wifi \\\\u2013 57 Mbps', ' Fast wifi \\\\u2013 576 Mbps', ' Fast wifi \\\\u2013 578 Mbps', ' Fast wifi \\\\u2013 58 Mbps', ' Fast wifi \\\\u2013 589 Mbps', ' Fast wifi \\\\u2013 59 Mbps', ' Fast wifi \\\\u2013 60 Mbps', ' Fast wifi \\\\u2013 607 Mbps', ' Fast wifi \\\\u2013 61 Mbps', ' Fast wifi \\\\u2013 62 Mbps', ' Fast wifi \\\\u2013 627 Mbps', ' Fast wifi \\\\u2013 628 Mbps', ' Fast wifi \\\\u2013 63 Mbps', ' Fast wifi \\\\u2013 64 Mbps', ' Fast wifi \\\\u2013 68 Mbps', ' Fast wifi \\\\u2013 69 Mbps]', ' Fast wifi \\\\u2013 72 Mbps', ' Fast wifi \\\\u2013 73 Mbps', ' Fast wifi \\\\u2013 75 Mbps', ' Fast wifi \\\\u2013 76 Mbps', ' Fast wifi \\\\u2013 77 Mbps', ' Fast wifi \\\\u2013 78 Mbps', ' Fast wifi \\\\u2013 79 Mbps', ' Fast wifi \\\\u2013 80 Mbps', ' Fast wifi \\\\u2013 81 Mbps', ' Fast wifi \\\\u2013 82 Mbps', ' Fast wifi \\\\u2013 83 Mbps', ' Fast wifi \\\\u2013 84 Mbps', ' Fast wifi \\\\u2013 85 Mbps', ' Fast wifi \\\\u2013 86 Mbps', ' Fast wifi \\\\u2013 87 Mbps', ' Fast wifi \\\\u2013 88 Mbps', ' Fast wifi \\\\u2013 89 Mbps', ' Fast wifi \\\\u2013 90 Mbps', ' Fast wifi \\\\u2013 91 Mbps', ' Fast wifi \\\\u2013 91 Mbps]', ' Fast wifi \\\\u2013 92 Mbps', ' Fast wifi \\\\u2013 93 Mbps', ' Fast wifi \\\\u2013 94 Mbps', ' Fast wifi \\\\u2013 96 Mbps', ' Fast wifi \\\\u2013 98 Mbps', ' Filtered  conditioner', ' Fire TV', ' Fire extinguisher', ' Fire extinguisher]', ' Fire pit', ' Fire pit]', ' Fireplace guards', ' First aid kit', ' First aid kit]', ' Fisher & Paykel refrigerator', ' Fitness center', ' Flexible body soap', ' Flexible conditioner', ' Flexible refrigerator', ' Flexible shampoo', ' Folding or convertible high chair - available upon request', ' Franke  stove', ' Franke electric stove', ' Franke stainless steel electric stove', ' Franke stainless steel oven', ' Franke stove', ' Free carport on premises', ' Free carport on premises \\\\u2013 1 space', ' Free carport on premises \\\\u2013 10 spaces', ' Free carport on premises \\\\u2013 13 spaces', ' Free carport on premises \\\\u2013 15 spaces', ' Free carport on premises \\\\u2013 2 spaces', ' Free carport on premises \\\\u2013 20 spaces', ' Free carport on premises \\\\u2013 30 spaces', ' Free driveway parking on premises', ' Free driveway parking on premises \\\\u2013 1 space', ' Free driveway parking on premises \\\\u2013 10 spaces', ' Free driveway parking on premises \\\\u2013 2 spaces', ' Free driveway parking on premises \\\\u2013 3 spaces', ' Free driveway parking on premises \\\\u2013 5 spaces', ' Free dryer', ' Free dryer \\\\u2013 In building', ' Free dryer \\\\u2013 In building]', ' Free dryer \\\\u2013 In unit', ' Free parking garage on premises', ' Free parking garage on premises \\\\u2013 1 space', ' Free parking garage on premises \\\\u2013 100 spaces', ' Free parking garage on premises \\\\u2013 13 spaces', ' Free parking garage on premises \\\\u2013 2 spaces', ' Free parking garage on premises \\\\u2013 3 spaces', ' Free parking garage on premises \\\\u2013 30 spaces', ' Free parking garage on premises \\\\u2013 99 spaces', ' Free parking on premises', ' Free parking on premises \\\\u2013 1 space', ' Free parking on premises \\\\u2013 2 spaces', ' Free parking on premises \\\\u2013 40 spaces', ' Free parking on premises]', ' Free residential garage on premises', ' Free residential garage on premises \\\\u2013 1 space', ' Free residential garage on premises \\\\u2013 2 spaces', ' Free residential garage on premises \\\\u2013 3 spaces', ' Free resort access', ' Free street parking', ' Free washer', ' Free washer \\\\u2013 In building', ' Free washer \\\\u2013 In unit', ' Free wifi', ' Freezer', ' Frigidaire induction stove', ' Full kitchen', ' Game console', ' Game console: PS3 and PS4', ' Game console: PS4', ' Garden view', ' Garden view]', ' Gas stove', ' General body soap', ' General brand body soap', ' General conditioner', ' General shampoo', ' Generic  body soap', ' Generic body soap', ' Generic conditioner', ' Generic shampoo', ' Germany brand  electric stove', ' Gla conditioner', ' Global brands body soap', ' Global brands shampoo', ' Golf course view', ' Good quality local brand in Thailand  body soap', ' Good quality local brand in Thailand  conditioner', ' Good quality local brand in Thailand  shampoo', ' Gorenja stainless steel induction stove', ' Gorenje induction stove', ' Gorenje stainless steel oven', ' Green Tea', ' Gym', ' Gym in building', ' Gym nearby', ' Gym]', ' HBO Max', ' HDTV', ' HDTV with Amazon Prime Video', ' HDTV with Apple TV', ' HDTV with Chromecast', ' HDTV with Chromecast]', ' HDTV with DVD player', ' HDTV with Disney+', ' HDTV with Fire TV', ' HDTV with HBO Max', ' HDTV with Netflix', ' HDTV with premium cable', ' HDTV with standard cable', ' HDTV]', ' HITACHI refrigerator', ' Hafele electric stove', ' Hafele gas stove', ' Hafele stainless steel electric stove', ' Hafele stainless steel oven]', ' Haier refrigerator', ' Hair dryer', ' Hammock', ' Hangers', ' Hangers]', ' Harbor view', ' Harman Kardon Bluetooth sound system', ' Harnn body soap', ' Harnn conditioner', ' Harnn shampoo', ' Head & Shoulder  shampoo', ' Head & Shoulders conditioner', ' Head & Shoulders shampoo', ' Head &Shoulder shampoo', ' Head and shoulder conditioner', ' Head and shoulder shampoo', ' Head&Shoulder', ' Head&Shoulder conditioner', ' Head&Shoulder shampoo', ' Head&shoulder conditioner', ' Head&shoulder shampoo', ' Heating', ' Heating - split type ductless system', ' Heating]', ' Herb shampoo]', ' Hier refrigerator', ' High chair', ' High chair - available upon request', ' High chair]', ' Hisene refrigerator', ' Hitac refrigerator', ' Hitachi  refrigerator', ' Hitachi refrigerator', ' Home made body soap', ' Home made shampoo', ' Home stainless steel electric stove', ' Homemade body soap', ' Host greets you', ' Host greets you]', ' Hostmaker\\\\u200bby\\\\u0e19\\\\u0e49\\\\u0e2d\\\\u0e07\\\\u0e21\\\\u0e31\\\\u0e07\\\\u0e04\\\\u0e38\\\\u0e14 shampoo', ' Hostmakerby\\\\u0e19\\\\u0e49\\\\u0e2d\\\\u0e07\\\\u0e21\\\\u0e31\\\\u0e07\\\\u0e04\\\\u0e38\\\\u0e14 body soap', ' Hot tub', ' Hot tub]', ' Hot water', ' Hot water kettle', ' Hotel Amenities shampoo', ' Hotel Brand body soap', ' Hotel Brand conditioner', ' Hotel Brand shampoo', ' Hotel grade body soap', ' Hotel grade shampoo', ' Hotel specific brand  body soap', ' Hotel supplies body soap', ' Hotel supplies shampoo', ' Hotel type  body soap', ' Hotel type  shampoo', ' House brand shampoo', ' Household brand induction stove', ' Hub Organic shampoo', ' Hulu', ' Indoor fireplace', ' Indoor fireplace: electric', ' Indoor fireplace: gas', ' Induction stove', ' Infinite body soap', ' Infinite shampoo]', ' Iron', ' Iron]', ' JBL Bluetooth sound system', ' JBL bluetooth  sound system with Bluetooth and aux', ' JBL sound system with Bluetooth and aux', ' Japan conditioner', ' Japan shampoo', ' Japanese Brand refrigerator', ' Japanese refrigerator', ' Jasmine Rice soap  body soap', ' Johnson Baby Head to Toe body soap', ' Johnson Baby Head to Toe shampoo', ' Johnson\\\\u2019s & Johnson  body soap', ' Johnson\\\\u2019s & Johnson  shampoo', ' KRK 2 monitor speaker  sound system with aux', ' K\\\\u00fcppersbush oven', ' Karmakamet shampoo', ' Kayak', ' Keurig coffee machine', ' Keypad', ' Keypad]', ' Kitchen', ' Kitchen]', ' Kitchenette', ' Korean', ' Korean or Japanese brand refrigerator', ' LG 6.6 q refrigerator', ' LG 7.4Q refrigerator', ' LG Bluetooth sound system', ' LG Inverter refrigerator', ' LG Inveter refrigerator', ' LG induction stove', ' LG inverter 2 doors No Fros refrigerator', ' LG refrigerator', ' LG refrigerator]', ' LUX body soap', ' L\\\\u2019oreal conditioner', ' L\\\\u2019oreal shampoo', ' Lake access', ' Lake access]', ' Lake view', ' Large Samsung frige will a sperate frezer  refrigerator', ' Large refrigerator', ' Laundromat nearby', ' Laundromat nearby]', ' Lemongrass and Jasmin-Mint Hotel fragrance selected products body soap', ' Lemongrass and Jasmin-Mint Hotel fragrance selected products conditioner', ' Liew body soap', ' Liew shampoo', ' Limited housekeeping \\\\u2014 on request', ' Liquid body soap body soap', ' Liquid soap body soap', ' Local Brand conditioner', ' Local Brand shampoo', ' Local Brands body soap]', ' Local Thai Brand shampoo', ' Local Thai brand body soap', ' Local body soap', ' Local brand', ' Local brand  body soap', ' Local brand  shampoo', ' Local brand body soap', ' Local brand conditioner', ' Local brand refrigerator', ' Local brand shampoo', ' Local brand stainless steel induction stove', ' Local brand stainless steel oven', ' Local brands  body soap', ' Local brands  conditioner', ' Local brands  shampoo', ' Local brands body soap', ' Local brands conditioner', ' Local conditioner', ' Local products body soap', ' Local shampoo', ' Local spa  conditioner', ' Local spa body soap', ' Local spa shampoo', ' Lock on bedroom door', ' Lock on bedroom door]', ' Lockbox', ' Lockbox]', ' Loland shampoo', ' Long term stays allowed', ' Long term stays allowed]', ' Lotus body soap', ' Lotus conditioner', ' Lucky stainless steel gas stove', ' Luggage dropoff allowed', ' Luk body soap', ' Lux  body soap', ' Lux  shampoo', ' Lux body soap', ' Lux conditioner', ' Lux or Dove body soap', ' Lux shampoo', ' MAKRO stainless steel oven', ' MAKRO stainless steel stove', ' MEX electric stove', ' MEX induction stove', ' MEX stainless steel electric stove', ' MEX stainless steel induction stove', ' MITSUBISHI ELECTRIC refrigerator', ' MITSUBISI refrigerator', ' Made in London  body soap', ' Makro body soap', ' Makro conditioner', ' Makro shampoo', ' Marina view', ' Marshall Bluetooth sound system', ' Marshall sound system with Bluetooth and aux', ' Marshalls sound system with Bluetooth and aux', ' Meg stainless steel electric stove', ' Meg stove', ' Mex electric stove', ' Mex stainless steel electric stove', ' Mex stove', ' Mexx electric stove', ' Mi induction stove', ' Microwave', ' Microwave oven oven', ' Mini fridge', ' Minibar fridge refrigerator', ' Misubishi refrigerator', ' Mitsubish refrigerator', ' Mitsubishi  conditioner', ' Mitsubishi  refrigerator', ' Mitsubishi Electric refrigerator', ' Mitsubishi refrigerator', ' Mitzubishi refrigerator]', ' Mosquito net', ' Multi Brand body soap', ' Multi Brand conditioner', ' Multi brands. shampoo', ' N/A body soap', ' N/a body soap', ' N/a conditioner', ' N/a refrigerator', ' N/a shampoo', ' NA electric stove', ' Natural body soap', ' Natural conditioner', ' Natural product  body soap', ' Natural soap body soap', ' Natural soap conditioner', ' Nespresso', ' Netflix', ' Netflix]', ' Nivea  body soap', ' Nivea body soap', ' No brand Bluetooth sound system', ' Non body soap', ' Non conditioner]', ' Not yet specific brand  shampoo', ' Nutricential conditioner', ' Nvpp body soap', ' Nvpp conditioner', ' O refrigerator]', ' OEM brand body soap]', ' OK Google Bluetooth sound system', ' Ocean view', ' Oh  electric stove', ' One fridge on 3F refrigerator', ' One shared fridge on 3rd floor (private items inside) refrigerator', ' One shared fridge on 3rd floor refrigerator', ' Onkyo sound system with Bluetooth and aux', ' Onsite restaurant \\\\u2014 Restaurant', ' Organic Lux body soap', ' Organic conditioner', ' Organics Buddy  conditioner', ' Organics Buddy body soap', ' Organics Buddy shampoo', ' Oriental Princess body soap', ' Oriental Princess shampoo', ' Other body soap', ' Other conditioner', ' Other electric stove', ' Other gas stove', ' Other induction stove', ' Other stainless steel electric stove', ' Other stainless steel gas stove', ' Other stainless steel induction stove', ' Outdoor dining area', ' Outdoor dining area]', ' Outdoor furniture', ' Outdoor kitchen', ' Outdoor pool - available all year', ' Outdoor pool - infinity', ' Outdoor pool - saltwater', ' Outdoor shower', ' Outdoor shower]', ' Outlet covers', ' Oven', ' Oven]', ' Own Brand body soap', ' Own Brand conditioner', ' Own brand body soap', ' Own brand conditioner', ' Own brand shampoo', ' PANPURI body soap', ' PANPURI shampoo', ' PHILIPS  induction stove', ' Pack \\\\u2019n play/Travel crib', ' Pack \\\\u2019n play/Travel crib - always at the listing', ' Pack \\\\u2019n play/Travel crib - available upon request', ' Paid crib - available upon request', ' Paid dryer', ' Paid dryer \\\\u2013 In building', ' Paid dryer \\\\u2013 In unit', ' Paid dryer]', ' Paid pack \\\\u2019n play/travel crib - available upon request', ' Paid parking garage off premises', ' Paid parking garage on premises', ' Paid parking garage on premises \\\\u2013 1 space', ' Paid parking garage on premises \\\\u2013 100 spaces', ' Paid parking garage on premises \\\\u2013 20 spaces', ' Paid parking garage on premises \\\\u2013 3 spaces]', ' Paid parking garage on premises \\\\u2013 50 spaces', ' Paid parking lot off premises', ' Paid parking lot on premises', ' Paid parking lot on premises \\\\u2013 1 space', ' Paid parking lot on premises \\\\u2013 10 spaces', ' Paid parking lot on premises \\\\u2013 100 spaces', ' Paid parking lot on premises \\\\u2013 15 spaces', ' Paid parking lot on premises \\\\u2013 2 spaces', ' Paid parking lot on premises \\\\u2013 3 spaces', ' Paid parking lot on premises \\\\u2013 30 spaces', ' Paid parking off premises', ' Paid parking off premises]', ' Paid parking on premises', ' Paid parking on premises \\\\u2013 1 space', ' Paid parking on premises \\\\u2013 5 spaces', ' Paid resort access', ' Paid street parking off premises', ' Paid valet parking on premises', ' Paid valet parking on premises \\\\u2013 1 space', ' Paid washer', ' Paid washer \\\\u2013 In building', ' Paid washer \\\\u2013 In unit', ' Palm Olive body soap', ' Panasonic  refrigerator', ' Panasonic Microwave conventional  stainless steel oven', ' Panasonic Soundbar + Subwoofer Bluetooth sound system', ' Panasonic conditioner', ' Panasonic refrigerator', ' Panasonic sound system with Bluetooth and aux', ' Pantee conditioner', ' Pantee shampoo', ' Panteen conditioner', ' Panteen shampoo', ' Pantene', ' Pantene  shampoo', ' Pantene conditioner', ' Park view', ' Parrot body soap', ' Patio or balcony', ' Perfum body soap', ' Perfume body soap', ' Pets allowed', ' Pets allowed]', ' Phillip conditioner', ' Piano', ' Ping pong table', ' Pocket wifi', ' Pocket wifi]', ' Pool', ' Pool - available all year', ' Pool - open specific hours', ' Pool table', ' Pool toys', ' Pool view', ' Portable air conditioning', ' Portable fans', ' Portable heater', ' Portable heater]', ' Private backyard', ' Private backyard \\\\u2013 Fully fenced', ' Private backyard \\\\u2013 Not fully fenced', ' Private entrance', ' Private entrance]', ' Private gym', ' Private gym in building', ' Private gym nearby', ' Private hot tub', ' Private hot tub - available all year', ' Private hot tub - open 24 hours', ' Private hot tub]', ' Private indoor pool - available all year', ' Private living room', ' Private living room]', ' Private outdoor kitchen', ' Private outdoor pool - available all year', ' Private outdoor pool - saltwater', ' Private patio or balcony', ' Private pool', ' Private pool - available all year', ' Private pool]', ' Private sauna', ' Public or shared beach access \\\\u2013 Beachfront', ' Radiant heating', ' Random shampoo', ' Razr Bluetooth sound system', ' Record player', ' RedDoorz body soap]', ' RedDoorz conditioner', ' RedDoorz shampoo', ' Refrigerator', ' Refrigerator]', ' Rejoice  conditioner', ' Rejoice  shampoo', ' Rejoice conditioner', ' Resort access', ' Resort view', ' Rice maker', ' River view', ' River view]', ' Roku', ' Rooftop pool \\\\u2014 outdoor', ' Room-darkening shades', ' Room-darkening shades]', ' SAAG sound system with aux', ' SAMSUNG refrigerator', ' SANYO Nano Ferrite System 2 doors No Fros refrigerator', ' SCCT101 refrigerator', ' SG shampoo', ' SHARP refrigerator', ' SIEMENS refrigerator', ' SKG sound system', ' SMEG  oven', ' SMEG  stainless steel oven', ' SMEG stainless steel oven', ' Safe', ' Samsung  2-Door 9 Cu.ft refrigerator  refrigerator', ' Samsung  refrigerator', ' Samsung  sound system]', ' Samsung 10 sqft refrigerator', ' Samsung Bluetooth sound system', ' Samsung electric stove', ' Samsung inverter  refrigerator', ' Samsung oven', ' Samsung refrigerator', ' Samsung stainless steel oven', ' Samsung stove', ' Sasung refrigerator', ' Sauna', ' Schon stainless steel induction stove', ' Sea view', ' Security cameras on property', ' Security cameras on property]', ' Self check-in', ' Self check-in]', ' Shampoo', ' Shampoo body soap', ' Shampoo]', ' Shared backyard', ' Shared backyard \\\\u2013 Fully fenced', ' Shared backyard \\\\u2013 Not fully fenced', ' Shared gym', ' Shared gym in building', ' Shared gym in building]', ' Shared gym nearby', ' Shared hot tub', ' Shared hot tub - available all year', ' Shared hot tub - available seasonally', ' Shared in common area refrigerator', ' Shared in common areas  gas stove', ' Shared indoor pool', ' Shared indoor pool - available all year', ' Shared indoor pool - open specific hours', ' Shared indoor pool - rooftop', ' Shared outdoor kitchen', ' Shared outdoor kitchen]', ' Shared outdoor pool', ' Shared outdoor pool - ', ' Shared outdoor pool - available all year', ' Shared outdoor pool - available seasonally', ' Shared outdoor pool - infinity', ' Shared outdoor pool - lap pool', ' Shared outdoor pool - olympic-sized', ' Shared outdoor pool - open specific hours', ' Shared outdoor pool - rooftop', ' Shared outdoor pool - saltwater', ' Shared patio or balcony', ' Shared patio or balcony]', ' Shared pool', ' Shared pool - ', ' Shared pool - available all year', ' Shared pool - open specific hours', ' Shared pool - rooftop', ' Shared refrigerator', ' Shared sauna', ' Sharing with other  refrigerator', ' Sharp electric stove', ' Sharp refrigerator', ' Sharp refrigerator]', ' Sharp stainless steel oven', ' Sherman sound system', ' Shokobushi body soap', ' Shokubushi shampoo', ' Shokubutsu', ' Shokubutsu  body soap', ' Shokubutsu body soap', ' Shower cream body soap', ' Shower gel', ' Shukubutsu body soap', ' Siemen induction stove', ' Siemen refrigerator', ' Siemens  refrigerator', ' Siemens refrigerator', ' Siemens stainless steel oven', ' Signature body soap', ' Signature conditioner', ' Single level home', ' Ski-in/Ski-out', ' Ski-in/ski-out \\\\u2013 Near ski lifts', ' Ski-in/ski-out \\\\u2013 On a ski run', ' Slippers', ' Smart lock', ' Smart lock]', ' Smeg electric stove', ' Smeg induction stove', ' Smeg oven', ' Smeg stainless steel electric stove', ' Smeg stainless steel induction stove', ' Smeg stainless steel oven', ' Smeg stove]', ' Smile Club Cuctom sound system', ' Smoke alarm', ' Smoke alarm]', ' Smoking allowed', ' Smoking allowed]', ' Sonos Bluetooth sound system', ' Sonos sound system', ' Sonstiges stainless steel electric stove', ' Sony  sound system with Bluetooth and aux', ' Sony sound system with Bluetooth and aux', ' Sony sound system]', ' Sony soundbar sound system', ' Sound system', ' Sound system with Bluetooth and aux', ' Sound system with aux', ' St Ives body soap', ' Stainless steel electric stove', ' Stainless steel gas stove', ' Stainless steel induction stove', ' Stainless steel oven', ' Stainless steel stove', ' Standalone high chair', ' Standalone high chair - always at the listing', ' Standalone high chair - available upon request', ' Standard  body soap', ' Standard conditioner', ' Standard shampoo', ' Stove', ' Sumsung refrigerator', ' Sun loungers', ' Sun silk shampoo', ' Sunday Bluetooth sound system', ' Sunday sound system with Bluetooth and aux', ' Sunsilk', ' Sunsilk body soap', ' Sunsilk conditioner', ' Sunsilk shampoo', ' Sunzilk shampoo', ' THESS body soap', ' TOSHIBA refrigerator', ' TV', ' TV with Amazon Prime Video', ' TV with Apple TV', ' TV with Apple TV]', ' TV with Chromecast', ' TV with Disney+', ' TV with Fire TV', ' TV with Netflix', ' TV with Roku', ' TV with premium cable', ' TV with standard cable', ' TV with standard cable]', ' TV]', ' Table corner guards', ' Targa stainless steel electric stove', ' Tcl refrigerator]', ' Teka 60 cm gas stove', ' Teka electric stove', ' Teka halogen electric stove', ' Teka induction stove', ' Teka oven', ' Teka stainless steel electric stove]', ' Teka stainless steel gas stove', ' Teka stainless steel induction stove', ' Teka stainless steel oven', ' Teka stove', ' Teufel sound system with aux', ' Thai  conditioner', ' Thai body soap', ' Thai brand  body soap', ' Thai brand  conditioner', ' Thai brand  shampoo', ' Thai brand body soap', ' Thai herb body soap', ' Thai local brand  body soap', ' Thai local brand body soap]', ' Thai local brand conditioner', ' Thai local brand shampoo', ' Thai shampoo', ' Thailand body soap', ' Thailand local brand body soap', ' Thailand local brand conditioner', ' Theraphy Lab body soap', ' Theraphy Lab conditioner', ' Theraphy Lab shampoo', ' Tlc refrigerator', ' Toaster', ' Tochiba refrigerator', ' Toiletries', ' Toshiba  refrigerator', ' Toshiba Inverter refrigerator', ' Toshiba oven', ' Toshiba refrigerator', ' Toshoba oven', ' Trash compactor', ' Tresemme conditioner', ' Tresemme shampoo', ' Valley view', ' Various body soap', ' Various conditioner', ' Various shampoo', ' Washer', ' Washer \\\\u2013\\\\u00a0In building', ' Washer \\\\u2013\\\\u00a0In unit', ' Washer]', ' Wasson shampoo', ' Waterfront', ' Watson  body soap', ' Watson Shampoo shampoo', ' Watson body soap', ' Watson conditioner', ' Watson or Sunsilk shampoo', ' Watson shampoo', ' Watsons  body soap', ' Watsons body soap', ' Watsons conditioner', ' Watsons or Sunsilk shampoo', ' Watsons shampoo', ' White ivory body soap', ' White ivory conditioner', ' Wifi', ' Wifi \\\\u2013 10 Mbps', ' Wifi \\\\u2013 11 Mbps', ' Wifi \\\\u2013 12 Mbps', ' Wifi \\\\u2013 13 Mbps', ' Wifi \\\\u2013 14 Mbps', ' Wifi \\\\u2013 15 Mbps', ' Wifi \\\\u2013 15 Mbps]', ' Wifi \\\\u2013 16 Mbps', ' Wifi \\\\u2013 19 Mbps', ' Wifi \\\\u2013 22 Mbps', ' Wifi \\\\u2013 24 Mbps', ' Wifi \\\\u2013 25 Mbps', ' Wifi \\\\u2013 26 Mbps', ' Wifi \\\\u2013 27 Mbps', ' Wifi \\\\u2013 28 Mbps', ' Wifi \\\\u2013 29 Mbps', ' Wifi \\\\u2013 30 Mbps', ' Wifi \\\\u2013 31 Mbps', ' Wifi \\\\u2013 33 Mbps', ' Wifi \\\\u2013 34 Mbps', ' Wifi \\\\u2013 35 Mbps', ' Wifi \\\\u2013 36 Mbps', ' Wifi \\\\u2013 37 Mbps', ' Wifi \\\\u2013 38 Mbps', ' Wifi \\\\u2013 39 Mbps', ' Wifi \\\\u2013 40 Mbps', ' Wifi \\\\u2013 41 Mbps', ' Wifi \\\\u2013 42 Mbps', ' Wifi \\\\u2013 43 Mbps', ' Wifi \\\\u2013 44 Mbps', ' Wifi \\\\u2013 45 Mbps]', ' Wifi \\\\u2013 46 Mbps', ' Wifi \\\\u2013 48 Mbps', ' Wifi \\\\u2013 48 Mbps]', ' Wifi \\\\u2013 49 Mbps', ' Wifi \\\\u2013 5 Mbps', ' Wifi \\\\u2013 9 Mbps', ' Wifi]', ' Window AC unit', ' Window AC unit]', ' Window guards', ' Window guards]', ' Wine glasses', ' Wine glasses]', ' With a frozen compartment inside refrigerator', ' X body soap', ' Xiaomi  stainless steel oven', ' Xiaomi Soundbar sound system with Bluetooth and aux', ' Xiaomi induction stove', ' Xiaomi sound system with Bluetooth and aux', ' Xmen or some thing good shampoo', ' Yamaha home theater  sound system', ' ZHENXIU shampoo', ' \\\\u0e0b\\\\u0e31\\\\u0e19\\\\u0e0b\\\\u0e34\\\\u0e25 conditioner', ' \\\\u0e0b\\\\u0e31\\\\u0e19\\\\u0e0b\\\\u0e34\\\\u0e25 shampoo', ' \\\\u0e0b\\\\u0e31\\\\u0e21\\\\u0e0b\\\\u0e38\\\\u0e07 7.6 \\\\u0e04\\\\u0e34\\\\u0e27 refrigerator', ' \\\\u0e0b\\\\u0e31\\\\u0e21\\\\u0e0b\\\\u0e38\\\\u0e07 refrigerator', ' \\\\u0e0b\\\\u0e31\\\\u0e25\\\\u0e0b\\\\u0e34\\\\u0e25 shampoo', ' \\\\u0e17\\\\u0e31\\\\u0e48\\\\u0e27\\\\u0e44\\\\u0e1b body soap', ' \\\\u0e17\\\\u0e31\\\\u0e48\\\\u0e27\\\\u0e44\\\\u0e1b conditioner', ' \\\\u0e17\\\\u0e31\\\\u0e48\\\\u0e27\\\\u0e44\\\\u0e1b shampoo', ' \\\\u0e25\\\\u0e31\\\\u0e01\\\\u0e29\\\\u0e4c body soap', ' \\\\u0e2a\\\\u0e1a\\\\u0e39\\\\u0e48\\\\u0e19\\\\u0e49\\\\u0e33 \\\\u0e02\\\\u0e2d\\\\u0e07boots body soap', ' \\\\u0e2d\\\\u0e37\\\\u0e48\\\\u0e19\\\\u0e46 stainless steel electric stove', ' \\\\u0e37None refrigerator', ' \\\\u0e3aBath Cream body soap', ' \\\\u0e40\\\\u0e15\\\\u0e32\\\\u0e44\\\\u0e1f\\\\u0e1f\\\\u0e49\\\\u0e32 stove', ' \\\\u0e41\\\\u0e1e\\\\u0e19\\\\u0e17\\\\u0e35\\\\u0e19 shampoo', ' \\\\u0e47Head &Shoulder conditioner', ' \\\\u0e49HAFELE induction stove', ' \\\\u4e09\\\\u661f oven', ' \\\\u4e09\\\\u661f refrigerator', ' \\\\u4e1c\\\\u829d refrigerator', ' \\\\u4f0a\\\\u83b1\\\\u514b\\\\u65af refrigerator', ' \\\\u5176\\\\u4ed6 stainless steel induction stove', ' \\\\u65e5\\\\u672c\\\\u4e1c\\\\u829d refrigerator', ' \\\\u65e5\\\\u7acb refrigerator', ' \\\\u65e5\\\\u7acb stainless steel oven', ' \\\\u6765\\\\u81ea\\\\u5c48\\\\u81e3\\\\u6c0f shampoo', ' \\\\u7a7a\\\\u6c14\\\\u70b8\\\\u9505 oven', ' and 10+ years old', ' and 5-10 years old', ' and 5-10 years old]', ' and closet', ' and closet]', ' and dresser', ' and dresser]', ' and walk-in closet', ' and walk-in closet]', ' and wardrobe', ' closet', ' dresser', ' espresso machine', ' free weights', ' french press', ' good for warm pie and pizza stainless steel oven', ' head&shoulder shampoo]', ' heated', ' herbal type  shampoo', ' herbal type conditioner', ' infinity', ' infinity]', ' lap pool', ' olympic-sized', ' open 24 hours', ' open 24 hours]', ' open specific hours', ' organic soap body soap', ' pantene', ' pool cover', ' pool toys', ' pour-over coffee', ' premium cable', ' premium cable]', ' rejoice', ' rooftop', ' rooftop]', ' saltwater', ' saltwater]', ' standard cable', ' standard cable]', ' stationary bike', ' treadmill', ' walk-in closet', ' wardrobe', ' xmen body soap', ' yoga mat', ' yoga mat]', '[26\\\\ HDTV with premium cable', '[36\\\\ HDTV with Netflix', '[40\\\\ HDTV with Netflix', '[40\\\\ TV with Disney+', '[40\\\\ TV with standard cable', '[43\\\\ HDTV with Apple TV', '[44\\\\ TV with Netflix', '[45\\\\ TV with standard cable', '[48\\\\ HDTV with Netflix', '[48\\\\ TV', '[50\\\\ HDTV with Apple TV', '[50\\\\ TV', '[50\\\\ TV with Netflix', '[53\\\\ HDTV with Chromecast', '[AC - split type ductless system', '[Air conditioning', '[Aro body soap', '[Bed linens', '[Bidet', '[Blender', '[Boots or Watson house brand body soap', '[Boots shampoo', '[Bottled water', '[Bread maker', '[Breakfast', '[Building staff', '[Carbon monoxide alarm', '[Ceiling fan', '[Clinix conditioner', '[Clothing storage: closet', '[Clothing storage: closet and dresser', '[Clothing storage: dresser', '[Clothing storage: dresser and wardrobe', '[Clothing storage: walk-in closet', '[Clothing storage: walk-in closet and closet', '[Clothing storage: wardrobe', '[Clothing storage: wardrobe and dresser', '[Coffee', '[Coffee maker: Nespresso', '[Coffee maker: pour-over coffee', '[Cooking basics', '[Crib', '[Custom conditioner', '[Dedicated workspace', '[Double ovens oven', '[Dryer', '[Dryer \\\\u2013 In building', '[Drying rack for clothing', '[Electrolux refrigerator', '[Essentials', '[Ethernet connection', '[Exercise equipment', '[Exercise equipment: free weights', '[FRANKE electric stove', '[Fast wifi \\\\u2013 104 Mbps', '[Fast wifi \\\\u2013 128 Mbps', '[Fast wifi \\\\u2013 151 Mbps', '[Fast wifi \\\\u2013 296 Mbps', '[Fast wifi \\\\u2013 338 Mbps', '[Fast wifi \\\\u2013 343 Mbps', '[Fast wifi \\\\u2013 456 Mbps', '[Fast wifi \\\\u2013 461 Mbps', '[Fast wifi \\\\u2013 514 Mbps', '[Fast wifi \\\\u2013 523 Mbps', '[Fast wifi \\\\u2013 564 Mbps', '[Fast wifi \\\\u2013 605 Mbps', '[Fast wifi \\\\u2013 92 Mbps', '[Fire extinguisher', '[First aid kit', '[For Daily stay only ( Not provided for monthly Stay) shampoo', '[Franke stainless steel gas stove', '[Free carport on premises', '[Free dryer \\\\u2013 In unit', '[Free parking garage on premises \\\\u2013 5 spaces', '[Free parking on premises', '[Free residential garage on premises \\\\u2013 40 spaces', '[Free resort access', '[Free street parking', '[Full kitchen', '[Game console', '[Gym', '[HDTV with Disney+', '[HDTV with standard cable', '[Hair dryer', '[Hammock', '[Hangers', '[Head & Shoulder shampoo', '[Heating', '[Home made conditioner', '[Hot water', '[Kitchen', '[Local shampoo', '[Lockbox', '[Long term stays allowed', '[Long term stays allowed]', '[Luggage dropoff allowed', '[MITSUBISHI refrigerator', '[Mosquito net', '[Multi Brand shampoo', '[Not specific  body soap', '[Other electric stove', '[Outdoor dining area', '[Outdoor shower', '[Outlet covers', '[Paid dryer \\\\u2013 In building', '[Paid dryer \\\\u2013 In unit', '[Paid parking lot off premises', '[Paid parking lot on premises', '[Paid parking lot on premises \\\\u2013 40 spaces', '[Paid parking on premises', '[Paid resort access', '[Pantene shampoo', '[Park view', '[Patio or balcony', '[Pets allowed', '[Pool', '[Pool view', '[Portable air conditioning', '[Private entrance', '[Private gym in building', '[Protect body soap', '[Refrigerator', '[SMEG electric stove', '[Samsung sound system with Bluetooth and aux', '[Security cameras on property', '[Self check-in', '[Shampoo', '[Shared backyard \\\\u2013 Fully fenced', '[Shared backyard \\\\u2013 Not fully fenced', '[Shared gym nearby', '[Shared hot tub', '[Shared outdoor pool - available all year', '[Shared outdoor pool - open specific hours', '[Shared patio or balcony', '[Shared pool', '[Sharp  refrigerator', '[Shower gel', '[Small grill oven  oven', '[Smoke alarm', '[Smoking allowed', '[Sumsuug refrigerator', '[TV with Chromecast', '[TV with Netflix', '[TV with standard cable', '[Teka hot plate stainless steel electric stove', '[Toshiba refrigerator', '[Tresume conditioner', '[Unknown refrigerator', '[Varies conditioner', '[Washer', '[Waterfront', '[Wifi', '[Wifi \\\\u2013 26 Mbps', '[Wifi \\\\u2013 47 Mbps', '[Wifi \\\\u2013 8 Mbps', '[Wifi]', '[Window AC unit', '[Window guards', '[Xx conditioner', '[\\\\u4e09\\\\u661f stainless steel oven', '[\\\\u4e2d\\\\u56fd\\\\u7f8e\\\\u7684 induction stove', '[]', 'price_clean', '', '. body soap', '. conditioner', '. q refrigerator', '. shampoo', '.q refrigerator', '\\\\\\\\ hdtv', '\\\\\\\\ hdtv with amazon prime video', '\\\\\\\\ hdtv with apple tv', '\\\\\\\\ hdtv with chromecast', '\\\\\\\\ hdtv with disney+', '\\\\\\\\ hdtv with dvd player', '\\\\\\\\ hdtv with fire tv', '\\\\\\\\ hdtv with hbo max', '\\\\\\\\ hdtv with hulu', '\\\\\\\\ hdtv with netflix', '\\\\\\\\ hdtv with premium cable', '\\\\\\\\ hdtv with roku', '\\\\\\\\ hdtv with standard cable', '\\\\\\\\ tv', '\\\\\\\\ tv with apple tv', '\\\\\\\\ tv with chromecast', '\\\\\\\\ tv with disney+', '\\\\\\\\ tv with fire tv', '\\\\\\\\ tv with netflix', '\\\\\\\\ tv with premium cable', '\\\\\\\\ tv with standard cable', '\\\\\\\\ea\\\\c\\\\e\\\\cf shampoo', '\\\\\\\\ed stainless steel induction stove', '\\\\aa\\\\c\\\\b\\\\ oven', '\\\\e\\\\acb refrigerator', '\\\\e\\\\acb stainless steel oven', '\\\\e\\\\c\\\\ec\\\\d refrigerator', '\\\\e\\\\e\\\\e\\\\e\\\\e\\\\eb body soap', '\\\\e\\\\e\\\\e\\\\e\\\\e\\\\eb conditioner', '\\\\e\\\\e\\\\e\\\\e\\\\e\\\\eb shampoo', '\\\\e\\\\e\\\\e\\\\e\\\\ec body soap', '\\\\e\\\\e\\\\e\\\\e\\\\ef\\\\ef\\\\e\\\\e stove', '\\\\e\\\\ee\\\\e\\\\e\\\\e\\\\e shampoo', '\\\\e\\\\f oven', '\\\\e\\\\f refrigerator', '\\\\e\\\\f stainless steel oven', '\\\\ea\\\\ea\\\\e\\\\e\\\\e\\\\e\\\\e \\\\e\\\\ed\\\\eboots body soap', '\\\\eabath cream body soap', '\\\\eb\\\\e\\\\e\\\\eb\\\\e\\\\e . \\\\e\\\\e\\\\e refrigerator', '\\\\eb\\\\e\\\\e\\\\eb\\\\e\\\\e conditioner', '\\\\eb\\\\e\\\\e\\\\eb\\\\e\\\\e refrigerator', '\\\\eb\\\\e\\\\e\\\\eb\\\\e\\\\e shampoo', '\\\\ec\\\\d refrigerator', '\\\\ed\\\\e\\\\e\\\\e\\\\e stainless steel electric stove', '\\\\ed\\\\fd\\\\fe\\\\ induction stove', '\\\\ehafele induction stove', '\\\\ehead &shoulder conditioner', '\\\\enone refrigerator', '\\\\fa\\\\b\\\\b\\\\af refrigerator', 'a l oven', 'ac  split type ductless system', 'aeg induction stove', 'aeg stainless steel electric stove', 'aesop body soap', 'air conditioning', 'air flyer oven', 'airport shuttle', 'altro induction stove', 'amazon prime video', 'amet oven', 'amzchef stainless steel induction stove', 'and  years old', 'and + years old', 'and closet', 'and dresser', 'and walkin closet', 'and wardrobe', 'any body soap', 'apple tv', 'ariston  oven', 'ariston stainless steel electric stove', 'ariston stainless steel oven', 'aro body soap', 'aro conditioner', 'aro shampoo', 'aromatheraphy body soap', 'aromatheraphy conditioner', 'aromatheraphy shampoo', 'aromatherapy  body soap', 'aromatherapy  conditioner', 'aromatherapy  shampoo', 'aspira body soap', 'aspira conditioner', 'aspira shampoo', 'baby bath', 'baby monitor', 'baby safety gates', 'baby soap', 'babysitter recommendations', 'backyard', 'backyard  not fully fenced', 'baking sheet', 'barbecue utensils', 'bathrobes', 'bathroom essentials', 'bathtub', 'bay view', 'bbq grill', 'bbq grill: charcoal', 'bbq grill: electric', 'beach access', 'beach access \\\\ beachfront', 'beach essentials', 'bed linens', 'bed sheets and pillows', 'bedroom comforts', 'beko  refrigerator', 'beko inverter .q refrigerator', 'beko refrigerator', 'benice body soap', 'bidet', 'big samsung refrigerator refrigerator', 'bikes', 'blender', 'bluetooth sound system', 'board games', 'boat slip', 'body soap', 'books and reading material', 'boost body soap', 'booster seat high chair  always at the listing', 'boot body soap', 'boots  shampoo', 'boots body soap', 'boots conditioner', 'boots or watson body soap', 'boots or watson brand conditioner', 'boots or watson house brand body soap', 'boots or watson house brand conditioner', 'boots or watson house brand shampoo', 'boots or watson shampoo', 'boots shampoo', 'bosch induction stove', 'bose  sound system', 'bose bluetooth sound system', 'bose google bluetooth sound system', 'bose sound system', 'bottled water', 'brand host body soap', 'brand host conditioner', 'brand host shampoo', 'branded  shampoo', 'branded body soap', 'branded conditioner', 'bread maker', 'breakfast', 'building staff', 'burners stove', 'canal view', 'carbon monoxide alarm', 'ceiling fan', 'central air conditioning', 'central heating', 'ceramic hob top electric stove', 'changing table', 'children\\\\s books and toys', 'children\\\\s books and toys for ages  years old', 'children\\\\s books and toys for ages  years old and  years old', 'children\\\\s books and toys for ages  years old and + years old', 'children\\\\s books and toys for ages + years old', 'children\\\\s dinnerware', 'chromecast', 'chula hospital  body soap', 'chula hospital  shampoo', 'city skyline view', 'cleaning available during stay', 'cleaning products', 'clear men', 'clinix conditioner', 'closet', 'clothing storage', 'clothing storage: closet', 'clothing storage: closet and dresser', 'clothing storage: closet and walkin closet', 'clothing storage: closet and wardrobe', 'clothing storage: dresser', 'clothing storage: dresser and closet', 'clothing storage: dresser and walkin closet', 'clothing storage: dresser and wardrobe', 'clothing storage: walkin closet', 'clothing storage: walkin closet and closet', 'clothing storage: walkin closet and wardrobe', 'clothing storage: wardrobe', 'clothing storage: wardrobe and closet', 'clothing storage: wardrobe and dresser', 'clothing storage: wardrobe and walkin closet', 'coffee', 'coffee maker', 'coffee maker: drip coffee maker', 'coffee maker: espresso machine', 'coffee maker: french press', 'coffee maker: keurig coffee machine', 'coffee maker: nespresso', 'coffee maker: pourover coffee', 'common ground body soap', 'common ground conditioner', 'common ground organic shampoo', 'common ground shampoo', 'commonground body soap', 'commonground shampoo', 'complimentary self parking', 'concierge', 'conditioner', 'continental breakfast available \\\\ \\\\ef per person per day', 'cooking basics', 'courtesy set shampoo', 'courtyard view', 'crib', 'crib  always at the listing', 'crib  available upon request', 'cusino induction stove', 'cussons', 'custom body soap', 'custom conditioner', 'custom shampoo', 'daikin conditioner', 'dedicated workspace', 'denon player & bose speakers sound system with aux', 'depends  body soap', 'desert view', 'dettol  body soap', 'dettol body soap', 'diana', 'dining table', 'dishes and silverware', 'dishwasher', 'disney+', 'done', 'door sharp refrigerator', 'doors fridge refrigerator', 'double ovens oven', 'double porte avec espace congelation refrigerator', 'dovd conditioner', 'dove', 'dove  body soap', 'dove body soap', 'dove conditioner', 'dove lux protex body soap', 'dove shampoo', 'dove.  xmen shampoo', 'dresser', 'dryer', 'dryer \\\\ in building', 'dryer \\\\\\\\ain unit', 'drying rack for clothing', 'dvd player', 'electric stove', 'electrolux  refrigerator', 'electrolux  stainless steel oven', 'electrolux electric stove', 'electrolux gas stove', 'electrolux induction stove', 'electrolux refrigerator', 'electrolux stainless steel electric stove', 'electrolux stainless steel induction stove', 'electrolux stainless steel oven', 'eletrolux refrigerator', 'elevator', 'elextrolux refrigerator', 'elextrolux stainless steel electric stove', 'elextrolux stainless steel oven', 'erb ( thai herbs \\\\dc\\\\dff) body soap', 'erb shampoo', 'espresso machine', 'essentials', 'essentials body soap', 'estee lauder conditioner', 'estee lauder shampoo', 'ethernet connection', 'ev charger', 'eve electric stove', 'eve stainless steel electric stove', 'everyday karmakamet body soap', 'exercise equipment', 'exercise equipment: elliptical', 'exercise equipment: free weights', 'exercise equipment: stationary bike', 'exercise equipment: treadmill', 'exercise equipment: yoga mat', 'exlectrolux electric stove', 'extra pillows and blankets', 'fagor electric stove', 'fagor stainless steel electric stove', 'fagor stainless steel oven', 'fast wifi \\\\', 'filtered  conditioner', 'fire extinguisher', 'fire pit', 'fire tv', 'fireplace guards', 'first aid kit', 'fisher & paykel refrigerator', 'fitness center', 'flexible body soap', 'flexible conditioner', 'flexible refrigerator', 'flexible shampoo', 'folding or convertible high chair  available upon request', 'for daily stay only ( not provided for monthly stay) shampoo', 'frank electric stove', 'franke  stove', 'franke electric stove', 'franke stainless steel electric stove', 'franke stainless steel gas stove', 'franke stainless steel oven', 'franke stove', 'free carport on premises', 'free carport on premises \\\\  space', 'free carport on premises \\\\  spaces', 'free driveway parking on premises', 'free driveway parking on premises \\\\  space', 'free driveway parking on premises \\\\  spaces', 'free dryer', 'free dryer \\\\ in building', 'free dryer \\\\ in unit', 'free parking garage on premises', 'free parking garage on premises \\\\  space', 'free parking garage on premises \\\\  spaces', 'free parking on premises', 'free parking on premises \\\\  space', 'free parking on premises \\\\  spaces', 'free residential garage on premises', 'free residential garage on premises \\\\  space', 'free residential garage on premises \\\\  spaces', 'free resort access', 'free street parking', 'free washer', 'free washer \\\\ in building', 'free washer \\\\ in unit', 'free weights', 'free wifi', 'freezer', 'french press', 'frigidaire induction stove', 'full kitchen', 'game console', 'game console: ps', 'game console: ps and ps', 'garden view', 'gas stove', 'general body soap', 'general brand body soap', 'general conditioner', 'general shampoo', 'generic  body soap', 'generic body soap', 'generic conditioner', 'generic shampoo', 'germany brand  electric stove', 'gla conditioner', 'global brands body soap', 'global brands shampoo', 'golf course view', 'good for warm pie and pizza stainless steel oven', 'good quality local brand in thailand  body soap', 'good quality local brand in thailand  conditioner', 'good quality local brand in thailand  shampoo', 'gorenja stainless steel induction stove', 'gorenje induction stove', 'gorenje stainless steel oven', 'green tea', 'gym', 'gym in building', 'gym nearby', 'hafele electric stove', 'hafele gas stove', 'hafele stainless steel electric stove', 'hafele stainless steel oven', 'haier refrigerator', 'hair dryer', 'hammock', 'hangers', 'harbor view', 'harman kardon bluetooth sound system', 'harnn body soap', 'harnn conditioner', 'harnn shampoo', 'hbo max', 'hdtv', 'hdtv with amazon prime video', 'hdtv with apple tv', 'hdtv with chromecast', 'hdtv with disney+', 'hdtv with dvd player', 'hdtv with fire tv', 'hdtv with hbo max', 'hdtv with netflix', 'hdtv with premium cable', 'hdtv with standard cable', 'head & shoulder  shampoo', 'head & shoulder shampoo', 'head & shoulders conditioner', 'head & shoulders shampoo', 'head &shoulder shampoo', 'head and shoulder conditioner', 'head and shoulder shampoo', 'head&shoulder', 'head&shoulder conditioner', 'head&shoulder shampoo', 'heated', 'heating', 'heating  split type ductless system', 'herb shampoo', 'herbal type  shampoo', 'herbal type conditioner', 'hier refrigerator', 'high chair', 'high chair  available upon request', 'hisene refrigerator', 'hitac refrigerator', 'hitachi  refrigerator', 'hitachi refrigerator', 'home made body soap', 'home made conditioner', 'home made shampoo', 'home stainless steel electric stove', 'homemade body soap', 'host greets you', 'hostmaker\\\\bby\\\\e\\\\e\\\\ed\\\\e\\\\e\\\\e\\\\e\\\\e\\\\e\\\\e shampoo', 'hostmakerby\\\\e\\\\e\\\\ed\\\\e\\\\e\\\\e\\\\e\\\\e\\\\e\\\\e body soap', 'hot tub', 'hot water', 'hot water kettle', 'hotel amenities shampoo', 'hotel brand body soap', 'hotel brand conditioner', 'hotel brand shampoo', 'hotel grade body soap', 'hotel grade shampoo', 'hotel specific brand  body soap', 'hotel supplies body soap', 'hotel supplies shampoo', 'hotel type  body soap', 'hotel type  shampoo', 'house brand shampoo', 'household brand induction stove', 'hub organic shampoo', 'hulu', 'indoor fireplace', 'indoor fireplace: electric', 'indoor fireplace: gas', 'induction stove', 'infinite body soap', 'infinite shampoo', 'infinity', 'iron', 'japan conditioner', 'japan shampoo', 'japanese brand refrigerator', 'japanese refrigerator', 'jasmine rice soap  body soap', 'jbl bluetooth  sound system with bluetooth and aux', 'jbl bluetooth sound system', 'jbl sound system with bluetooth and aux', 'johnson baby head to toe body soap', 'johnson baby head to toe shampoo', 'johnson\\\\s & johnson  body soap', 'johnson\\\\s & johnson  shampoo', 'k\\\\fcppersbush oven', 'karmakamet shampoo', 'kayak', 'keurig coffee machine', 'keypad', 'kitchen', 'kitchenette', 'korean', 'korean or japanese brand refrigerator', 'krk  monitor speaker  sound system with aux', 'l\\\\oreal conditioner', 'l\\\\oreal shampoo', 'lake access', 'lake view', 'lap pool', 'large refrigerator', 'large samsung frige will a sperate frezer  refrigerator', 'laundromat nearby', 'lemongrass and jasminmint hotel fragrance selected products body soap', 'lemongrass and jasminmint hotel fragrance selected products conditioner', 'lg . q refrigerator', 'lg .q refrigerator', 'lg bluetooth sound system', 'lg induction stove', 'lg inverter  doors no fros refrigerator', 'lg inverter refrigerator', 'lg inveter refrigerator', 'lg refrigerator', 'liew body soap', 'liew shampoo', 'limited housekeeping \\\\ on request', 'liquid body soap body soap', 'liquid soap body soap', 'local body soap', 'local brand', 'local brand  body soap', 'local brand  shampoo', 'local brand body soap', 'local brand conditioner', 'local brand refrigerator', 'local brand shampoo', 'local brand stainless steel induction stove', 'local brand stainless steel oven', 'local brands  body soap', 'local brands  conditioner', 'local brands  shampoo', 'local brands body soap', 'local brands conditioner', 'local conditioner', 'local products body soap', 'local shampoo', 'local spa  conditioner', 'local spa body soap', 'local spa shampoo', 'local thai brand body soap', 'local thai brand shampoo', 'lock on bedroom door', 'lockbox', 'loland shampoo', 'long term stays allowed', 'lotus body soap', 'lotus conditioner', 'lucky stainless steel gas stove', 'luggage dropoff allowed', 'luk body soap', 'lux  body soap', 'lux  shampoo', 'lux body soap', 'lux conditioner', 'lux or dove body soap', 'lux shampoo', 'made in london  body soap', 'makro body soap', 'makro conditioner', 'makro shampoo', 'makro stainless steel oven', 'makro stainless steel stove', 'marina view', 'marshall bluetooth sound system', 'marshall sound system with bluetooth and aux', 'marshalls sound system with bluetooth and aux', 'meg stainless steel electric stove', 'meg stove', 'mex electric stove', 'mex induction stove', 'mex stainless steel electric stove', 'mex stainless steel induction stove', 'mex stove', 'mexx electric stove', 'mi induction stove', 'microwave', 'microwave oven oven', 'mini fridge', 'minibar fridge refrigerator', 'misubishi refrigerator', 'mitsubish refrigerator', 'mitsubishi  conditioner', 'mitsubishi  refrigerator', 'mitsubishi electric refrigerator', 'mitsubishi refrigerator', 'mitsubisi refrigerator', 'mitzubishi refrigerator', 'mosquito net', 'multi brand body soap', 'multi brand conditioner', 'multi brand shampoo', 'multi brands. shampoo', 'n/a body soap', 'n/a conditioner', 'n/a refrigerator', 'n/a shampoo', 'na electric stove', 'natural body soap', 'natural conditioner', 'natural product  body soap', 'natural soap body soap', 'natural soap conditioner', 'nespresso', 'netflix', 'nivea  body soap', 'nivea body soap', 'no brand bluetooth sound system', 'non body soap', 'non conditioner', 'not specific  body soap', 'not yet specific brand  shampoo', 'nutricential conditioner', 'nvpp body soap', 'nvpp conditioner', 'o refrigerator', 'ocean view', 'oem brand body soap', 'oh  electric stove', 'ok google bluetooth sound system', 'olympicsized', 'one fridge on f refrigerator', 'one shared fridge on rd floor (private items inside) refrigerator', 'one shared fridge on rd floor refrigerator', 'onkyo sound system with bluetooth and aux', 'onsite restaurant \\\\ restaurant', 'open  hours', 'open specific hours', 'organic conditioner', 'organic lux body soap', 'organic soap body soap', 'organics buddy  conditioner', 'organics buddy body soap', 'organics buddy shampoo', 'oriental princess body soap', 'oriental princess shampoo', 'other body soap', 'other conditioner', 'other electric stove', 'other gas stove', 'other induction stove', 'other stainless steel electric stove', 'other stainless steel gas stove', 'other stainless steel induction stove', 'outdoor dining area', 'outdoor furniture', 'outdoor kitchen', 'outdoor pool  available all year', 'outdoor pool  infinity', 'outdoor pool  saltwater', 'outdoor shower', 'outlet covers', 'oven', 'own brand body soap', 'own brand conditioner', 'own brand shampoo', 'pack \\\\n play/travel crib', 'pack \\\\n play/travel crib  always at the listing', 'pack \\\\n play/travel crib  available upon request', 'paid crib  available upon request', 'paid dryer', 'paid dryer \\\\ in building', 'paid dryer \\\\ in unit', 'paid pack \\\\n play/travel crib  available upon request', 'paid parking garage off premises', 'paid parking garage on premises', 'paid parking garage on premises \\\\  space', 'paid parking garage on premises \\\\  spaces', 'paid parking lot off premises', 'paid parking lot on premises', 'paid parking lot on premises \\\\  space', 'paid parking lot on premises \\\\  spaces', 'paid parking off premises', 'paid parking on premises', 'paid parking on premises \\\\  space', 'paid parking on premises \\\\  spaces', 'paid resort access', 'paid street parking off premises', 'paid valet parking on premises', 'paid valet parking on premises \\\\  space', 'paid washer', 'paid washer \\\\ in building', 'paid washer \\\\ in unit', 'palm olive body soap', 'panasonic  refrigerator', 'panasonic conditioner', 'panasonic microwave conventional  stainless steel oven', 'panasonic refrigerator', 'panasonic sound system with bluetooth and aux', 'panasonic soundbar + subwoofer bluetooth sound system', 'panpuri body soap', 'panpuri shampoo', 'pantee conditioner', 'pantee shampoo', 'panteen conditioner', 'panteen shampoo', 'pantene', 'pantene  shampoo', 'pantene conditioner', 'pantene shampoo', 'park view', 'parrot body soap', 'patio or balcony', 'perfum body soap', 'perfume body soap', 'pets allowed', 'philips  induction stove', 'phillip conditioner', 'piano', 'ping pong table', 'pocket wifi', 'pool', 'pool  available all year', 'pool  open specific hours', 'pool cover', 'pool table', 'pool toys', 'pool view', 'portable air conditioning', 'portable fans', 'portable heater', 'pourover coffee', 'premium cable', 'private backyard', 'private backyard \\\\ fully fenced', 'private backyard \\\\ not fully fenced', 'private entrance', 'private gym', 'private gym in building', 'private gym nearby', 'private hot tub', 'private hot tub  available all year', 'private hot tub  open  hours', 'private indoor pool  available all year', 'private living room', 'private outdoor kitchen', 'private outdoor pool  available all year', 'private outdoor pool  saltwater', 'private patio or balcony', 'private pool', 'private pool  available all year', 'private sauna', 'protect body soap', 'public or shared beach access \\\\ beachfront', 'radiant heating', 'random shampoo', 'razr bluetooth sound system', 'record player', 'reddoorz body soap', 'reddoorz conditioner', 'reddoorz shampoo', 'refrigerator', 'rejoice', 'rejoice  conditioner', 'rejoice  shampoo', 'rejoice conditioner', 'resort access', 'resort view', 'rice maker', 'river view', 'roku', 'rooftop', 'rooftop pool \\\\ outdoor', 'roomdarkening shades', 'saag sound system with aux', 'safe', 'saltwater', 'samsung  door  cu.ft refrigerator  refrigerator', 'samsung  refrigerator', 'samsung  sound system', 'samsung  sqft refrigerator', 'samsung bluetooth sound system', 'samsung electric stove', 'samsung inverter  refrigerator', 'samsung oven', 'samsung refrigerator', 'samsung sound system with bluetooth and aux', 'samsung stainless steel oven', 'samsung stove', 'sanyo nano ferrite system  doors no fros refrigerator', 'sasung refrigerator', 'sauna', 'scct refrigerator', 'schon stainless steel induction stove', 'sea view', 'security cameras on property', 'self checkin', 'sg shampoo', 'shampoo', 'shampoo body soap', 'shampoo shampoo', 'shared backyard', 'shared backyard \\\\ fully fenced', 'shared backyard \\\\ not fully fenced', 'shared gym', 'shared gym in building', 'shared gym nearby', 'shared hot tub', 'shared hot tub  available all year', 'shared hot tub  available seasonally', 'shared in common area refrigerator', 'shared in common areas  gas stove', 'shared indoor pool', 'shared indoor pool  available all year', 'shared indoor pool  open specific hours', 'shared indoor pool  rooftop', 'shared outdoor kitchen', 'shared outdoor pool', 'shared outdoor pool  available all year', 'shared outdoor pool  available seasonally', 'shared outdoor pool  infinity', 'shared outdoor pool  lap pool', 'shared outdoor pool  olympicsized', 'shared outdoor pool  open specific hours', 'shared outdoor pool  rooftop', 'shared outdoor pool  saltwater', 'shared patio or balcony', 'shared pool', 'shared pool  available all year', 'shared pool  open specific hours', 'shared pool  rooftop', 'shared refrigerator', 'shared sauna', 'sharing with other  refrigerator', 'sharp  refrigerator', 'sharp electric stove', 'sharp refrigerator', 'sharp stainless steel oven', 'sherman sound system', 'shokobushi body soap', 'shokubushi shampoo', 'shokubutsu', 'shokubutsu  body soap', 'shokubutsu body soap', 'shower cream body soap', 'shower gel', 'shukubutsu body soap', 'siemen induction stove', 'siemen refrigerator', 'siemens  refrigerator', 'siemens refrigerator', 'siemens stainless steel oven', 'signature body soap', 'signature conditioner', 'single level home', 'skg sound system', 'skiin/skiout', 'skiin/skiout \\\\ near ski lifts', 'skiin/skiout \\\\ on a ski run', 'slippers', 'small grill oven  oven', 'smart lock', 'smeg  oven', 'smeg  stainless steel oven', 'smeg electric stove', 'smeg induction stove', 'smeg oven', 'smeg stainless steel electric stove', 'smeg stainless steel induction stove', 'smeg stainless steel oven', 'smeg stove', 'smile club cuctom sound system', 'smoke alarm', 'smoking allowed', 'sonos bluetooth sound system', 'sonos sound system', 'sonstiges stainless steel electric stove', 'sony  sound system with bluetooth and aux', 'sony sound system', 'sony sound system with bluetooth and aux', 'sony soundbar sound system', 'sound system', 'sound system with aux', 'sound system with bluetooth and aux', 'st ives body soap', 'stainless steel electric stove', 'stainless steel gas stove', 'stainless steel induction stove', 'stainless steel oven', 'stainless steel stove', 'standalone high chair', 'standalone high chair  always at the listing', 'standalone high chair  available upon request', 'standard  body soap', 'standard cable', 'standard conditioner', 'standard shampoo', 'stationary bike', 'stove', 'sumsung refrigerator', 'sumsuug refrigerator', 'sun loungers', 'sun silk shampoo', 'sunday bluetooth sound system', 'sunday sound system with bluetooth and aux', 'sunsilk', 'sunsilk body soap', 'sunsilk conditioner', 'sunsilk shampoo', 'sunzilk shampoo', 'table corner guards', 'targa stainless steel electric stove', 'tcl refrigerator', 'teka  cm gas stove', 'teka electric stove', 'teka halogen electric stove', 'teka hot plate stainless steel electric stove', 'teka induction stove', 'teka oven', 'teka stainless steel electric stove', 'teka stainless steel gas stove', 'teka stainless steel induction stove', 'teka stainless steel oven', 'teka stove', 'teufel sound system with aux', 'thai  conditioner', 'thai body soap', 'thai brand  body soap', 'thai brand  conditioner', 'thai brand  shampoo', 'thai brand body soap', 'thai herb body soap', 'thai local brand  body soap', 'thai local brand body soap', 'thai local brand conditioner', 'thai local brand shampoo', 'thai shampoo', 'thailand body soap', 'thailand local brand body soap', 'thailand local brand conditioner', 'theraphy lab body soap', 'theraphy lab conditioner', 'theraphy lab shampoo', 'thess body soap', 'tlc refrigerator', 'toaster', 'tochiba refrigerator', 'toiletries', 'toshiba  refrigerator', 'toshiba inverter refrigerator', 'toshiba oven', 'toshiba refrigerator', 'toshoba oven', 'trash compactor', 'treadmill', 'tresemme conditioner', 'tresemme shampoo', 'tresume conditioner', 'tv', 'tv with amazon prime video', 'tv with apple tv', 'tv with chromecast', 'tv with disney+', 'tv with fire tv', 'tv with netflix', 'tv with premium cable', 'tv with roku', 'tv with standard cable', 'unknown refrigerator', 'valley view', 'varies conditioner', 'various body soap', 'various conditioner', 'various shampoo', 'walkin closet', 'wardrobe', 'washer', 'washer \\\\\\\\ain building', 'washer \\\\\\\\ain unit', 'wasson shampoo', 'waterfront', 'watson  body soap', 'watson body soap', 'watson conditioner', 'watson or sunsilk shampoo', 'watson shampoo', 'watson shampoo shampoo', 'watsons  body soap', 'watsons body soap', 'watsons conditioner', 'watsons or sunsilk shampoo', 'watsons shampoo', 'white ivory body soap', 'white ivory conditioner', 'wifi', 'wifi \\\\', 'window ac unit', 'window guards', 'wine glasses', 'with a frozen compartment inside refrigerator', 'x body soap', 'xiaomi  stainless steel oven', 'xiaomi induction stove', 'xiaomi sound system with bluetooth and aux', 'xiaomi soundbar sound system with bluetooth and aux', 'xmen body soap', 'xmen or some thing good shampoo', 'xx conditioner', 'yamaha home theater  sound system', 'years old', 'yoga mat', 'zhenxiu shampoo', '', '. body soap', '. conditioner', '. q refrigerator', '. shampoo', '.q refrigerator', '\\\\\\\\ hdtv', '\\\\\\\\ hdtv with amazon prime video', '\\\\\\\\ hdtv with apple tv', '\\\\\\\\ hdtv with chromecast', '\\\\\\\\ hdtv with disney+', '\\\\\\\\ hdtv with dvd player', '\\\\\\\\ hdtv with fire tv', '\\\\\\\\ hdtv with hbo max', '\\\\\\\\ hdtv with hulu', '\\\\\\\\ hdtv with netflix', '\\\\\\\\ hdtv with premium cable', '\\\\\\\\ hdtv with roku', '\\\\\\\\ hdtv with standard cable', '\\\\\\\\ tv', '\\\\\\\\ tv with apple tv', '\\\\\\\\ tv with chromecast', '\\\\\\\\ tv with disney+', '\\\\\\\\ tv with fire tv', '\\\\\\\\ tv with netflix', '\\\\\\\\ tv with premium cable', '\\\\\\\\ tv with standard cable', '\\\\\\\\ea\\\\c\\\\e\\\\cf shampoo', '\\\\\\\\ed stainless steel induction stove', '\\\\aa\\\\c\\\\b\\\\ oven', '\\\\e\\\\acb refrigerator', '\\\\e\\\\acb stainless steel oven', '\\\\e\\\\c\\\\ec\\\\d refrigerator', '\\\\e\\\\e\\\\e\\\\e\\\\e\\\\eb body soap', '\\\\e\\\\e\\\\e\\\\e\\\\e\\\\eb conditioner', '\\\\e\\\\e\\\\e\\\\e\\\\e\\\\eb shampoo', '\\\\e\\\\e\\\\e\\\\e\\\\ec body soap', '\\\\e\\\\e\\\\e\\\\e\\\\ef\\\\ef\\\\e\\\\e stove', '\\\\e\\\\ee\\\\e\\\\e\\\\e\\\\e shampoo', '\\\\e\\\\f oven', '\\\\e\\\\f refrigerator', '\\\\e\\\\f stainless steel oven', '\\\\ea\\\\ea\\\\e\\\\e\\\\e\\\\e\\\\e \\\\e\\\\ed\\\\eboots body soap', '\\\\eabath cream body soap', '\\\\eb\\\\e\\\\e\\\\eb\\\\e\\\\e . \\\\e\\\\e\\\\e refrigerator', '\\\\eb\\\\e\\\\e\\\\eb\\\\e\\\\e conditioner', '\\\\eb\\\\e\\\\e\\\\eb\\\\e\\\\e refrigerator', '\\\\eb\\\\e\\\\e\\\\eb\\\\e\\\\e shampoo', '\\\\ec\\\\d refrigerator', '\\\\ed\\\\e\\\\e\\\\e\\\\e stainless steel electric stove', '\\\\ed\\\\fd\\\\fe\\\\ induction stove', '\\\\ehafele induction stove', '\\\\ehead &shoulder conditioner', '\\\\enone refrigerator', '\\\\fa\\\\b\\\\b\\\\af refrigerator', 'a l oven', 'ac  split type ductless system', 'aeg induction stove', 'aeg stainless steel electric stove', 'aesop body soap', 'air conditioning', 'air flyer oven', 'airport shuttle', 'altro induction stove', 'amazon prime video', 'amet oven', 'amzchef stainless steel induction stove', 'and  years old', 'and + years old', 'and closet', 'and dresser', 'and walkin closet', 'and wardrobe', 'any body soap', 'apple tv', 'ariston  oven', 'ariston stainless steel electric stove', 'ariston stainless steel oven', 'aro body soap', 'aro conditioner', 'aro shampoo', 'aromatheraphy body soap', 'aromatheraphy conditioner', 'aromatheraphy shampoo', 'aromatherapy  body soap', 'aromatherapy  conditioner', 'aromatherapy  shampoo', 'aspira body soap', 'aspira conditioner', 'aspira shampoo', 'baby bath', 'baby monitor', 'baby safety gates', 'baby soap', 'babysitter recommendations', 'backyard', 'backyard  not fully fenced', 'baking sheet', 'barbecue utensils', 'bathrobes', 'bathroom essentials', 'bathtub', 'bay view', 'bbq grill', 'bbq grill: charcoal', 'bbq grill: electric', 'beach access', 'beach access \\\\ beachfront', 'beach essentials', 'bed linens', 'bed sheets and pillows', 'bedroom comforts', 'beko  refrigerator', 'beko inverter .q refrigerator', 'beko refrigerator', 'benice body soap', 'bidet', 'big samsung refrigerator refrigerator', 'bikes', 'blender', 'bluetooth sound system', 'board games', 'boat slip', 'body soap', 'books and reading material', 'boost body soap', 'booster seat high chair  always at the listing', 'boot body soap', 'boots  shampoo', 'boots body soap', 'boots conditioner', 'boots or watson body soap', 'boots or watson brand conditioner', 'boots or watson house brand body soap', 'boots or watson house brand conditioner', 'boots or watson house brand shampoo', 'boots or watson shampoo', 'boots shampoo', 'bosch induction stove', 'bose  sound system', 'bose bluetooth sound system', 'bose google bluetooth sound system', 'bose sound system', 'bottled water', 'brand host body soap', 'brand host conditioner', 'brand host shampoo', 'branded  shampoo', 'branded body soap', 'branded conditioner', 'bread maker', 'breakfast', 'building staff', 'burners stove', 'canal view', 'carbon monoxide alarm', 'ceiling fan', 'central air conditioning', 'central heating', 'ceramic hob top electric stove', 'changing table', 'children\\\\s books and toys', 'children\\\\s books and toys for ages  years old', 'children\\\\s books and toys for ages  years old and  years old', 'children\\\\s books and toys for ages  years old and + years old', 'children\\\\s books and toys for ages + years old', 'children\\\\s dinnerware', 'chromecast', 'chula hospital  body soap', 'chula hospital  shampoo', 'city skyline view', 'cleaning available during stay', 'cleaning products', 'clear men', 'clinix conditioner', 'closet', 'clothing storage', 'clothing storage: closet', 'clothing storage: closet and dresser', 'clothing storage: closet and walkin closet', 'clothing storage: closet and wardrobe', 'clothing storage: dresser', 'clothing storage: dresser and closet', 'clothing storage: dresser and walkin closet', 'clothing storage: dresser and wardrobe', 'clothing storage: walkin closet', 'clothing storage: walkin closet and closet', 'clothing storage: walkin closet and wardrobe', 'clothing storage: wardrobe', 'clothing storage: wardrobe and closet', 'clothing storage: wardrobe and dresser', 'clothing storage: wardrobe and walkin closet', 'coffee', 'coffee maker', 'coffee maker: drip coffee maker', 'coffee maker: espresso machine', 'coffee maker: french press', 'coffee maker: keurig coffee machine', 'coffee maker: nespresso', 'coffee maker: pourover coffee', 'common ground body soap', 'common ground conditioner', 'common ground organic shampoo', 'common ground shampoo', 'commonground body soap', 'commonground shampoo', 'complimentary self parking', 'concierge', 'conditioner', 'continental breakfast available \\\\ \\\\ef per person per day', 'cooking basics', 'courtesy set shampoo', 'courtyard view', 'crib', 'crib  always at the listing', 'crib  available upon request', 'cusino induction stove', 'cussons', 'custom body soap', 'custom conditioner', 'custom shampoo', 'daikin conditioner', 'dedicated workspace', 'denon player & bose speakers sound system with aux', 'depends  body soap', 'desert view', 'dettol  body soap', 'dettol body soap', 'diana', 'dining table', 'dishes and silverware', 'dishwasher', 'disney+', 'done', 'door sharp refrigerator', 'doors fridge refrigerator', 'double ovens oven', 'double porte avec espace congelation refrigerator', 'dovd conditioner', 'dove', 'dove  body soap', 'dove body soap', 'dove conditioner', 'dove lux protex body soap', 'dove shampoo', 'dove.  xmen shampoo', 'dresser', 'dryer', 'dryer \\\\ in building', 'dryer \\\\\\\\ain unit', 'drying rack for clothing', 'dvd player', 'electric stove', 'electrolux  refrigerator', 'electrolux  stainless steel oven', 'electrolux electric stove', 'electrolux gas stove', 'electrolux induction stove', 'electrolux refrigerator', 'electrolux stainless steel electric stove', 'electrolux stainless steel induction stove', 'electrolux stainless steel oven', 'eletrolux refrigerator', 'elevator', 'elextrolux refrigerator', 'elextrolux stainless steel electric stove', 'elextrolux stainless steel oven', 'erb ( thai herbs \\\\dc\\\\dff) body soap', 'erb shampoo', 'espresso machine', 'essentials', 'essentials body soap', 'estee lauder conditioner', 'estee lauder shampoo', 'ethernet connection', 'ev charger', 'eve electric stove', 'eve stainless steel electric stove', 'everyday karmakamet body soap', 'exercise equipment', 'exercise equipment: elliptical', 'exercise equipment: free weights', 'exercise equipment: stationary bike', 'exercise equipment: treadmill', 'exercise equipment: yoga mat', 'exlectrolux electric stove', 'extra pillows and blankets', 'fagor electric stove', 'fagor stainless steel electric stove', 'fagor stainless steel oven', 'fast wifi \\\\', 'filtered  conditioner', 'fire extinguisher', 'fire pit', 'fire tv', 'fireplace guards', 'first aid kit', 'fisher & paykel refrigerator', 'fitness center', 'flexible body soap', 'flexible conditioner', 'flexible refrigerator', 'flexible shampoo', 'folding or convertible high chair  available upon request', 'for daily stay only ( not provided for monthly stay) shampoo', 'frank electric stove', 'franke  stove', 'franke electric stove', 'franke stainless steel electric stove', 'franke stainless steel gas stove', 'franke stainless steel oven', 'franke stove', 'free carport on premises', 'free carport on premises \\\\  space', 'free carport on premises \\\\  spaces', 'free driveway parking on premises', 'free driveway parking on premises \\\\  space', 'free driveway parking on premises \\\\  spaces', 'free dryer', 'free dryer \\\\ in building', 'free dryer \\\\ in unit', 'free parking garage on premises', 'free parking garage on premises \\\\  space', 'free parking garage on premises \\\\  spaces', 'free parking on premises', 'free parking on premises \\\\  space', 'free parking on premises \\\\  spaces', 'free residential garage on premises', 'free residential garage on premises \\\\  space', 'free residential garage on premises \\\\  spaces', 'free resort access', 'free street parking', 'free washer', 'free washer \\\\ in building', 'free washer \\\\ in unit', 'free weights', 'free wifi', 'freezer', 'french press', 'frigidaire induction stove', 'full kitchen', 'game console', 'game console: ps', 'game console: ps and ps', 'garden view', 'gas stove', 'general body soap', 'general brand body soap', 'general conditioner', 'general shampoo', 'generic  body soap', 'generic body soap', 'generic conditioner', 'generic shampoo', 'germany brand  electric stove', 'gla conditioner', 'global brands body soap', 'global brands shampoo', 'golf course view', 'good for warm pie and pizza stainless steel oven', 'good quality local brand in thailand  body soap', 'good quality local brand in thailand  conditioner', 'good quality local brand in thailand  shampoo', 'gorenja stainless steel induction stove', 'gorenje induction stove', 'gorenje stainless steel oven', 'green tea', 'gym', 'gym in building', 'gym nearby', 'hafele electric stove', 'hafele gas stove', 'hafele stainless steel electric stove', 'hafele stainless steel oven', 'haier refrigerator', 'hair dryer', 'hammock', 'hangers', 'harbor view', 'harman kardon bluetooth sound system', 'harnn body soap', 'harnn conditioner', 'harnn shampoo', 'hbo max', 'hdtv', 'hdtv with amazon prime video', 'hdtv with apple tv', 'hdtv with chromecast', 'hdtv with disney+', 'hdtv with dvd player', 'hdtv with fire tv', 'hdtv with hbo max', 'hdtv with netflix', 'hdtv with premium cable', 'hdtv with standard cable', 'head & shoulder  shampoo', 'head & shoulder shampoo', 'head & shoulders conditioner', 'head & shoulders shampoo', 'head &shoulder shampoo', 'head and shoulder conditioner', 'head and shoulder shampoo', 'head&shoulder', 'head&shoulder conditioner', 'head&shoulder shampoo', 'heated', 'heating', 'heating  split type ductless system', 'herb shampoo', 'herbal type  shampoo', 'herbal type conditioner', 'hier refrigerator', 'high chair', 'high chair  available upon request', 'hisene refrigerator', 'hitac refrigerator', 'hitachi  refrigerator', 'hitachi refrigerator', 'home made body soap', 'home made conditioner', 'home made shampoo', 'home stainless steel electric stove', 'homemade body soap', 'host greets you', 'hostmaker\\\\bby\\\\e\\\\e\\\\ed\\\\e\\\\e\\\\e\\\\e\\\\e\\\\e\\\\e shampoo', 'hostmakerby\\\\e\\\\e\\\\ed\\\\e\\\\e\\\\e\\\\e\\\\e\\\\e\\\\e body soap', 'hot tub', 'hot water', 'hot water kettle', 'hotel amenities shampoo', 'hotel brand body soap', 'hotel brand conditioner', 'hotel brand shampoo', 'hotel grade body soap', 'hotel grade shampoo', 'hotel specific brand  body soap', 'hotel supplies body soap', 'hotel supplies shampoo', 'hotel type  body soap', 'hotel type  shampoo', 'house brand shampoo', 'household brand induction stove', 'hub organic shampoo', 'hulu', 'indoor fireplace', 'indoor fireplace: electric', 'indoor fireplace: gas', 'induction stove', 'infinite body soap', 'infinite shampoo', 'infinity', 'iron', 'japan conditioner', 'japan shampoo', 'japanese brand refrigerator', 'japanese refrigerator', 'jasmine rice soap  body soap', 'jbl bluetooth  sound system with bluetooth and aux', 'jbl bluetooth sound system', 'jbl sound system with bluetooth and aux', 'johnson baby head to toe body soap', 'johnson baby head to toe shampoo', 'johnson\\\\s & johnson  body soap', 'johnson\\\\s & johnson  shampoo', 'k\\\\fcppersbush oven', 'karmakamet shampoo', 'kayak', 'keurig coffee machine', 'keypad', 'kitchen', 'kitchenette', 'korean', 'korean or japanese brand refrigerator', 'krk  monitor speaker  sound system with aux', 'l\\\\oreal conditioner', 'l\\\\oreal shampoo', 'lake access', 'lake view', 'lap pool', 'large refrigerator', 'large samsung frige will a sperate frezer  refrigerator', 'laundromat nearby', 'lemongrass and jasminmint hotel fragrance selected products body soap', 'lemongrass and jasminmint hotel fragrance selected products conditioner', 'lg . q refrigerator', 'lg .q refrigerator', 'lg bluetooth sound system', 'lg induction stove', 'lg inverter  doors no fros refrigerator', 'lg inverter refrigerator', 'lg inveter refrigerator', 'lg refrigerator', 'liew body soap', 'liew shampoo', 'limited housekeeping \\\\ on request', 'liquid body soap body soap', 'liquid soap body soap', 'local body soap', 'local brand', 'local brand  body soap', 'local brand  shampoo', 'local brand body soap', 'local brand conditioner', 'local brand refrigerator', 'local brand shampoo', 'local brand stainless steel induction stove', 'local brand stainless steel oven', 'local brands  body soap', 'local brands  conditioner', 'local brands  shampoo', 'local brands body soap', 'local brands conditioner', 'local conditioner', 'local products body soap', 'local shampoo', 'local spa  conditioner', 'local spa body soap', 'local spa shampoo', 'local thai brand body soap', 'local thai brand shampoo', 'lock on bedroom door', 'lockbox', 'loland shampoo', 'long term stays allowed', 'lotus body soap', 'lotus conditioner', 'lucky stainless steel gas stove', 'luggage dropoff allowed', 'luk body soap', 'lux  body soap', 'lux  shampoo', 'lux body soap', 'lux conditioner', 'lux or dove body soap', 'lux shampoo', 'made in london  body soap', 'makro body soap', 'makro conditioner', 'makro shampoo', 'makro stainless steel oven', 'makro stainless steel stove', 'marina view', 'marshall bluetooth sound system', 'marshall sound system with bluetooth and aux', 'marshalls sound system with bluetooth and aux', 'meg stainless steel electric stove', 'meg stove', 'mex electric stove', 'mex induction stove', 'mex stainless steel electric stove', 'mex stainless steel induction stove', 'mex stove', 'mexx electric stove', 'mi induction stove', 'microwave', 'microwave oven oven', 'mini fridge', 'minibar fridge refrigerator', 'misubishi refrigerator', 'mitsubish refrigerator', 'mitsubishi  conditioner', 'mitsubishi  refrigerator', 'mitsubishi electric refrigerator', 'mitsubishi refrigerator', 'mitsubisi refrigerator', 'mitzubishi refrigerator', 'mosquito net', 'multi brand body soap', 'multi brand conditioner', 'multi brand shampoo', 'multi brands. shampoo', 'n/a body soap', 'n/a conditioner', 'n/a refrigerator', 'n/a shampoo', 'na electric stove', 'natural body soap', 'natural conditioner', 'natural product  body soap', 'natural soap body soap', 'natural soap conditioner', 'nespresso', 'netflix', 'nivea  body soap', 'nivea body soap', 'no brand bluetooth sound system', 'non body soap', 'non conditioner', 'not specific  body soap', 'not yet specific brand  shampoo', 'nutricential conditioner', 'nvpp body soap', 'nvpp conditioner', 'o refrigerator', 'ocean view', 'oem brand body soap', 'oh  electric stove', 'ok google bluetooth sound system', 'olympicsized', 'one fridge on f refrigerator', 'one shared fridge on rd floor (private items inside) refrigerator', 'one shared fridge on rd floor refrigerator', 'onkyo sound system with bluetooth and aux', 'onsite restaurant \\\\ restaurant', 'open  hours', 'open specific hours', 'organic conditioner', 'organic lux body soap', 'organic soap body soap', 'organics buddy  conditioner', 'organics buddy body soap', 'organics buddy shampoo', 'oriental princess body soap', 'oriental princess shampoo', 'other body soap', 'other conditioner', 'other electric stove', 'other gas stove', 'other induction stove', 'other stainless steel electric stove', 'other stainless steel gas stove', 'other stainless steel induction stove', 'outdoor dining area', 'outdoor furniture', 'outdoor kitchen', 'outdoor pool  available all year', 'outdoor pool  infinity', 'outdoor pool  saltwater', 'outdoor shower', 'outlet covers', 'oven', 'own brand body soap', 'own brand conditioner', 'own brand shampoo', 'pack \\\\n play/travel crib', 'pack \\\\n play/travel crib  always at the listing', 'pack \\\\n play/travel crib  available upon request', 'paid crib  available upon request', 'paid dryer', 'paid dryer \\\\ in building', 'paid dryer \\\\ in unit', 'paid pack \\\\n play/travel crib  available upon request', 'paid parking garage off premises', 'paid parking garage on premises', 'paid parking garage on premises \\\\  space', 'paid parking garage on premises \\\\  spaces', 'paid parking lot off premises', 'paid parking lot on premises', 'paid parking lot on premises \\\\  space', 'paid parking lot on premises \\\\  spaces', 'paid parking off premises', 'paid parking on premises', 'paid parking on premises \\\\  space', 'paid parking on premises \\\\  spaces', 'paid resort access', 'paid street parking off premises', 'paid valet parking on premises', 'paid valet parking on premises \\\\  space', 'paid washer', 'paid washer \\\\ in building', 'paid washer \\\\ in unit', 'palm olive body soap', 'panasonic  refrigerator', 'panasonic conditioner', 'panasonic microwave conventional  stainless steel oven', 'panasonic refrigerator', 'panasonic sound system with bluetooth and aux', 'panasonic soundbar + subwoofer bluetooth sound system', 'panpuri body soap', 'panpuri shampoo', 'pantee conditioner', 'pantee shampoo', 'panteen conditioner', 'panteen shampoo', 'pantene', 'pantene  shampoo', 'pantene conditioner', 'pantene shampoo', 'park view', 'parrot body soap', 'patio or balcony', 'perfum body soap', 'perfume body soap', 'pets allowed', 'philips  induction stove', 'phillip conditioner', 'piano', 'ping pong table', 'pocket wifi', 'pool', 'pool  available all year', 'pool  open specific hours', 'pool cover', 'pool table', 'pool toys', 'pool view', 'portable air conditioning', 'portable fans', 'portable heater', 'pourover coffee', 'premium cable', 'private backyard', 'private backyard \\\\ fully fenced', 'private backyard \\\\ not fully fenced', 'private entrance', 'private gym', 'private gym in building', 'private gym nearby', 'private hot tub', 'private hot tub  available all year', 'private hot tub  open  hours', 'private indoor pool  available all year', 'private living room', 'private outdoor kitchen', 'private outdoor pool  available all year', 'private outdoor pool  saltwater', 'private patio or balcony', 'private pool', 'private pool  available all year', 'private sauna', 'protect body soap', 'public or shared beach access \\\\ beachfront', 'radiant heating', 'random shampoo', 'razr bluetooth sound system', 'record player', 'reddoorz body soap', 'reddoorz conditioner', 'reddoorz shampoo', 'refrigerator', 'rejoice', 'rejoice  conditioner', 'rejoice  shampoo', 'rejoice conditioner', 'resort access', 'resort view', 'rice maker', 'river view', 'roku', 'rooftop', 'rooftop pool \\\\ outdoor', 'roomdarkening shades', 'saag sound system with aux', 'safe', 'saltwater', 'samsung  door  cu.ft refrigerator  refrigerator', 'samsung  refrigerator', 'samsung  sound system', 'samsung  sqft refrigerator', 'samsung bluetooth sound system', 'samsung electric stove', 'samsung inverter  refrigerator', 'samsung oven', 'samsung refrigerator', 'samsung sound system with bluetooth and aux', 'samsung stainless steel oven', 'samsung stove', 'sanyo nano ferrite system  doors no fros refrigerator', 'sasung refrigerator', 'sauna', 'scct refrigerator', 'schon stainless steel induction stove', 'sea view', 'security cameras on property', 'self checkin', 'sg shampoo', 'shampoo', 'shampoo body soap', 'shampoo shampoo', 'shared backyard', 'shared backyard \\\\ fully fenced', 'shared backyard \\\\ not fully fenced', 'shared gym', 'shared gym in building', 'shared gym nearby', 'shared hot tub', 'shared hot tub  available all year', 'shared hot tub  available seasonally', 'shared in common area refrigerator', 'shared in common areas  gas stove', 'shared indoor pool', 'shared indoor pool  available all year', 'shared indoor pool  open specific hours', 'shared indoor pool  rooftop', 'shared outdoor kitchen', 'shared outdoor pool', 'shared outdoor pool  available all year', 'shared outdoor pool  available seasonally', 'shared outdoor pool  infinity', 'shared outdoor pool  lap pool', 'shared outdoor pool  olympicsized', 'shared outdoor pool  open specific hours', 'shared outdoor pool  rooftop', 'shared outdoor pool  saltwater', 'shared patio or balcony', 'shared pool', 'shared pool  available all year', 'shared pool  open specific hours', 'shared pool  rooftop', 'shared refrigerator', 'shared sauna', 'sharing with other  refrigerator', 'sharp  refrigerator', 'sharp electric stove', 'sharp refrigerator', 'sharp stainless steel oven', 'sherman sound system', 'shokobushi body soap', 'shokubushi shampoo', 'shokubutsu', 'shokubutsu  body soap', 'shokubutsu body soap', 'shower cream body soap', 'shower gel', 'shukubutsu body soap', 'siemen induction stove', 'siemen refrigerator', 'siemens  refrigerator', 'siemens refrigerator', 'siemens stainless steel oven', 'signature body soap', 'signature conditioner', 'single level home', 'skg sound system', 'skiin/skiout', 'skiin/skiout \\\\ near ski lifts', 'skiin/skiout \\\\ on a ski run', 'slippers', 'small grill oven  oven', 'smart lock', 'smeg  oven', 'smeg  stainless steel oven', 'smeg electric stove', 'smeg induction stove', 'smeg oven', 'smeg stainless steel electric stove', 'smeg stainless steel induction stove', 'smeg stainless steel oven', 'smeg stove', 'smile club cuctom sound system', 'smoke alarm', 'smoking allowed', 'sonos bluetooth sound system', 'sonos sound system', 'sonstiges stainless steel electric stove', 'sony  sound system with bluetooth and aux', 'sony sound system', 'sony sound system with bluetooth and aux', 'sony soundbar sound system', 'sound system', 'sound system with aux', 'sound system with bluetooth and aux', 'st ives body soap', 'stainless steel electric stove', 'stainless steel gas stove', 'stainless steel induction stove', 'stainless steel oven', 'stainless steel stove', 'standalone high chair', 'standalone high chair  always at the listing', 'standalone high chair  available upon request', 'standard  body soap', 'standard cable', 'standard conditioner', 'standard shampoo', 'stationary bike', 'stove', 'sumsung refrigerator', 'sumsuug refrigerator', 'sun loungers', 'sun silk shampoo', 'sunday bluetooth sound system', 'sunday sound system with bluetooth and aux', 'sunsilk', 'sunsilk body soap', 'sunsilk conditioner', 'sunsilk shampoo', 'sunzilk shampoo', 'table corner guards', 'targa stainless steel electric stove', 'tcl refrigerator', 'teka  cm gas stove', 'teka electric stove', 'teka halogen electric stove', 'teka hot plate stainless steel electric stove', 'teka induction stove', 'teka oven', 'teka stainless steel electric stove', 'teka stainless steel gas stove', 'teka stainless steel induction stove', 'teka stainless steel oven', 'teka stove', 'teufel sound system with aux', 'thai  conditioner', 'thai body soap', 'thai brand  body soap', 'thai brand  conditioner', 'thai brand  shampoo', 'thai brand body soap', 'thai herb body soap', 'thai local brand  body soap', 'thai local brand body soap', 'thai local brand conditioner', 'thai local brand shampoo', 'thai shampoo', 'thailand body soap', 'thailand local brand body soap', 'thailand local brand conditioner', 'theraphy lab body soap', 'theraphy lab conditioner', 'theraphy lab shampoo', 'thess body soap', 'tlc refrigerator', 'toaster', 'tochiba refrigerator', 'toiletries', 'toshiba  refrigerator', 'toshiba inverter refrigerator', 'toshiba oven', 'toshiba refrigerator', 'toshoba oven', 'trash compactor', 'treadmill', 'tresemme conditioner', 'tresemme shampoo', 'tresume conditioner', 'tv', 'tv with amazon prime video', 'tv with apple tv', 'tv with chromecast', 'tv with disney+', 'tv with fire tv', 'tv with netflix', 'tv with premium cable', 'tv with roku', 'tv with standard cable', 'unknown refrigerator', 'valley view', 'varies conditioner', 'various body soap', 'various conditioner', 'various shampoo', 'walkin closet', 'wardrobe', 'washer', 'washer \\\\\\\\ain building', 'washer \\\\\\\\ain unit', 'wasson shampoo', 'waterfront', 'watson  body soap', 'watson body soap', 'watson conditioner', 'watson or sunsilk shampoo', 'watson shampoo', 'watson shampoo shampoo', 'watsons  body soap', 'watsons body soap', 'watsons conditioner', 'watsons or sunsilk shampoo', 'watsons shampoo', 'white ivory body soap', 'white ivory conditioner', 'wifi', 'wifi \\\\', 'window ac unit', 'window guards', 'wine glasses', 'with a frozen compartment inside refrigerator', 'x body soap', 'xiaomi  stainless steel oven', 'xiaomi induction stove', 'xiaomi sound system with bluetooth and aux', 'xiaomi soundbar sound system with bluetooth and aux', 'xmen body soap', 'xmen or some thing good shampoo', 'xx conditioner', 'yamaha home theater  sound system', 'years old', 'yoga mat', 'zhenxiu shampoo', 'f_property_type']\n"
     ]
    }
   ],
   "source": [
    "print(df.columns.tolist())"
   ]
  },
  {
   "cell_type": "code",
   "execution_count": 40,
   "id": "60ee6010",
   "metadata": {},
   "outputs": [
    {
     "data": {
      "text/plain": [
       "Bang Kapi               46\n",
       "Bang Sue                42\n",
       "Phasi Charoen           34\n",
       "Thon buri               28\n",
       "Pom Prap Sattru Phai    25\n",
       "Bangkok Yai             21\n",
       "Bang Khen               19\n",
       "Pra Wet                 18\n",
       "Bang Khae               15\n",
       "Chom Thong              15\n",
       "Rat Burana              13\n",
       "Phra Nakhon             13\n",
       "Wang Thong Lang         13\n",
       "Lak Si                  12\n",
       "Min Buri                12\n",
       "Bangkok Noi             10\n",
       "Bueng Kum                9\n",
       "Khan Na Yao              7\n",
       "Don Mueang               7\n",
       "Saphan Sung              6\n",
       "Lat Krabang              6\n",
       "Samphanthawong           5\n",
       "Lat Phrao                4\n",
       "Thung khru               4\n",
       "Taling Chan              4\n",
       "Sai Mai                  3\n",
       "Thawi Watthana           1\n",
       "Bang Khun thain          1\n",
       "Name: neighbourhood_cleansed, dtype: int64"
      ]
     },
     "execution_count": 40,
     "metadata": {},
     "output_type": "execute_result"
    }
   ],
   "source": [
    "df[\"neighbourhood_cleansed\"].value_counts().loc[lambda x: x<50]"
   ]
  },
  {
   "cell_type": "code",
   "execution_count": 41,
   "id": "203c5331",
   "metadata": {},
   "outputs": [],
   "source": [
    "df[\"neighbourhood_cleansed\"] = np.where(\n",
    "    df[\"neighbourhood_cleansed\"].isin(\n",
    "        df[\"neighbourhood_cleansed\"]\n",
    "        .value_counts()\n",
    "        .loc[lambda x: x < 50]\n",
    "        .index.tolist()\n",
    "    ),\n",
    "    \"Other\",\n",
    "    df[\"neighbourhood_cleansed\"],\n",
    ")"
   ]
  },
  {
   "cell_type": "code",
   "execution_count": 42,
   "id": "0ddc6b91",
   "metadata": {},
   "outputs": [],
   "source": [
    "# neighbourhood_cleansed as factors\n",
    "\n",
    "df[\"f_neighbourhood_cleansed\"] = df[\"neighbourhood_cleansed\"].astype(\"category\")"
   ]
  },
  {
   "cell_type": "code",
   "execution_count": 43,
   "id": "f29c582d",
   "metadata": {},
   "outputs": [
    {
     "data": {
      "text/plain": [
       "Khlong Toei      682\n",
       "Vadhana          662\n",
       "Huai Khwang      452\n",
       "Other            393\n",
       "Ratchathewi      369\n",
       "Sathon           333\n",
       "Bang Rak         186\n",
       "Phaya Thai       137\n",
       "Phra Khanong     134\n",
       "Din Daeng        121\n",
       "Parthum Wan      103\n",
       "Suanluang         92\n",
       "Chatu Chak        91\n",
       "Khlong San        90\n",
       "Bang Na           86\n",
       "Bang Kho laen     59\n",
       "Bang Phlat        57\n",
       "Yan na wa         52\n",
       "Name: f_neighbourhood_cleansed, dtype: int64"
      ]
     },
     "execution_count": 43,
     "metadata": {},
     "output_type": "execute_result"
    }
   ],
   "source": [
    "df[\"f_neighbourhood_cleansed\"].value_counts()"
   ]
  },
  {
   "cell_type": "code",
   "execution_count": 44,
   "id": "bc4497be",
   "metadata": {},
   "outputs": [
    {
     "data": {
      "text/plain": [
       "accommodates               0\n",
       "review_scores_rating    1070\n",
       "number_of_reviews          0\n",
       "reviews_per_month       1070\n",
       "minimum_nights             0\n",
       "host_response_rate       446\n",
       "beds                      43\n",
       "dtype: int64"
      ]
     },
     "execution_count": 44,
     "metadata": {},
     "output_type": "execute_result"
    }
   ],
   "source": [
    "df[\n",
    "    [\n",
    "        \"accommodates\",\n",
    "        \"review_scores_rating\",\n",
    "        \"number_of_reviews\",\n",
    "        \"reviews_per_month\",\n",
    "        \"minimum_nights\",\n",
    "        \"host_response_rate\",\n",
    "        \"beds\",\n",
    "    ]\n",
    "].isnull().sum()"
   ]
  },
  {
   "cell_type": "code",
   "execution_count": 45,
   "id": "f279bd12",
   "metadata": {},
   "outputs": [
    {
     "data": {
      "text/plain": [
       "1 bath       2965\n",
       "2 baths       534\n",
       "1.5 baths     386\n",
       "2.5 baths      68\n",
       "3 baths        64\n",
       "4 baths        23\n",
       "3.5 baths      19\n",
       "6 baths        16\n",
       "8 baths         5\n",
       "4.5 baths       5\n",
       "Half-bath       3\n",
       "0 baths         3\n",
       "5 baths         3\n",
       "23 baths        1\n",
       "Name: bathrooms_text, dtype: int64"
      ]
     },
     "execution_count": 45,
     "metadata": {},
     "output_type": "execute_result"
    }
   ],
   "source": [
    "df.bathrooms_text.value_counts()"
   ]
  },
  {
   "cell_type": "code",
   "execution_count": 46,
   "id": "7dcd17d9",
   "metadata": {},
   "outputs": [],
   "source": [
    "df.bathrooms_text = np.where(df.bathrooms_text == \"Half-bath\", \"0.5 baths\",df.bathrooms_text)"
   ]
  },
  {
   "cell_type": "code",
   "execution_count": 47,
   "id": "68a6b560",
   "metadata": {},
   "outputs": [],
   "source": [
    "df[\"n_bathrooms\"] = df.bathrooms_text.str.split().str[0].apply(float)"
   ]
  },
  {
   "cell_type": "code",
   "execution_count": 48,
   "id": "c2a0545d",
   "metadata": {},
   "outputs": [
    {
     "data": {
      "text/plain": [
       "0.0        3\n",
       "0.5        3\n",
       "1.0     2965\n",
       "1.5      386\n",
       "2.0      534\n",
       "2.5       68\n",
       "3.0       64\n",
       "3.5       19\n",
       "4.0       23\n",
       "4.5        5\n",
       "5.0        3\n",
       "6.0       16\n",
       "8.0        5\n",
       "23.0       1\n",
       "NaN        4\n",
       "Name: n_bathrooms, dtype: int64"
      ]
     },
     "execution_count": 48,
     "metadata": {},
     "output_type": "execute_result"
    }
   ],
   "source": [
    "df[\"n_bathrooms\"].value_counts(dropna=False).sort_index()"
   ]
  },
  {
   "cell_type": "code",
   "execution_count": 50,
   "id": "0e7c3c68",
   "metadata": {},
   "outputs": [],
   "source": [
    "\n",
    "df[\"n_bathrooms\"] = df[\"n_bathrooms\"].fillna(df[\"n_bathrooms\"].median())"
   ]
  },
  {
   "cell_type": "code",
   "execution_count": 51,
   "id": "adf7c6ba",
   "metadata": {},
   "outputs": [],
   "source": [
    "# add new numeric columns from certain columns\n",
    "\n",
    "numericals = [\n",
    "    \"accommodates\",\n",
    "    \"review_scores_rating\",\n",
    "    \"number_of_reviews\",\n",
    "    \"reviews_per_month\",\n",
    "    \"minimum_nights\",\n",
    "    \"beds\",\n",
    "    'maximum_nights',\n",
    "]\n",
    "\n",
    "for col in numericals:\n",
    "    df[\"n_\" + col] = pd.to_numeric(df[col], errors=\"coerce\")"
   ]
  },
  {
   "cell_type": "code",
   "execution_count": 55,
   "id": "79125d01",
   "metadata": {},
   "outputs": [],
   "source": [
    "# create days since first review\n",
    "\n",
    "df[\"n_days_since\"] = (\n",
    "    df.calendar_last_scraped.apply(lambda x: datetime.strptime(x, \"%Y-%m-%d\"))\n",
    "    - df.first_review.fillna(\"1950-01-01\").apply(\n",
    "        lambda x: datetime.strptime(x, \"%Y-%m-%d\")\n",
    "    )\n",
    ").dt.days\n",
    "\n",
    "df[\"n_days_since\"] = np.where(df.first_review.isnull(), np.nan, df.n_days_since)"
   ]
  },
  {
   "cell_type": "code",
   "execution_count": 56,
   "id": "be17aa02",
   "metadata": {},
   "outputs": [],
   "source": [
    "amenities_to_keep = pd.read_pickle(\"amenities_to_keep.pkl\")"
   ]
  },
  {
   "cell_type": "code",
   "execution_count": 64,
   "id": "35a6e7ac",
   "metadata": {},
   "outputs": [
    {
     "ename": "KeyError",
     "evalue": "\"None of [Index(['long term stays allowed', 'wifi', 'air conditioning', 'essentials',\\n       'hangers', 'shampoo', 'hair dryer', 'kitchen', 'smoke alarm',\\n       'hot water',\\n       ...\\n       'golf course view', 'clothing storage: walkin closet and closet',\\n       'electrolux electric stove',\\n       'folding or convertible high chair  available upon request',\\n       'sunsilk shampoo', 'nespresso', 'harbor view', 'hulu',\\n       'aro conditioner', 'pack \\\\n play/travel crib  available upon request'],\\n      dtype='object', length=323)] are in the [columns]\"",
     "output_type": "error",
     "traceback": [
      "\u001b[1;31m---------------------------------------------------------------------------\u001b[0m",
      "\u001b[1;31mKeyError\u001b[0m                                  Traceback (most recent call last)",
      "\u001b[1;32m<ipython-input-64-1b27ef55a3a6>\u001b[0m in \u001b[0;36m<module>\u001b[1;34m\u001b[0m\n\u001b[0;32m      1\u001b[0m \u001b[1;31m# create dummy variables for the amenities column\u001b[0m\u001b[1;33m\u001b[0m\u001b[1;33m\u001b[0m\u001b[1;33m\u001b[0m\u001b[0m\n\u001b[1;32m----> 2\u001b[1;33m \u001b[0mdummy_vars\u001b[0m \u001b[1;33m=\u001b[0m \u001b[0mpd\u001b[0m\u001b[1;33m.\u001b[0m\u001b[0mget_dummies\u001b[0m\u001b[1;33m(\u001b[0m\u001b[0mdf\u001b[0m\u001b[1;33m[\u001b[0m\u001b[0mamenities_to_keep\u001b[0m\u001b[1;33m.\u001b[0m\u001b[0mindex\u001b[0m\u001b[1;33m.\u001b[0m\u001b[0mtolist\u001b[0m\u001b[1;33m(\u001b[0m\u001b[1;33m)\u001b[0m\u001b[1;33m]\u001b[0m\u001b[1;33m)\u001b[0m\u001b[1;33m\u001b[0m\u001b[1;33m\u001b[0m\u001b[0m\n\u001b[0m\u001b[0;32m      3\u001b[0m \u001b[1;33m\u001b[0m\u001b[0m\n\u001b[0;32m      4\u001b[0m \u001b[1;31m# add the dummy variables to the data frame\u001b[0m\u001b[1;33m\u001b[0m\u001b[1;33m\u001b[0m\u001b[1;33m\u001b[0m\u001b[0m\n\u001b[0;32m      5\u001b[0m \u001b[0mdf\u001b[0m \u001b[1;33m=\u001b[0m \u001b[0mpd\u001b[0m\u001b[1;33m.\u001b[0m\u001b[0mconcat\u001b[0m\u001b[1;33m(\u001b[0m\u001b[1;33m[\u001b[0m\u001b[0mdf\u001b[0m\u001b[1;33m,\u001b[0m \u001b[0mdummy_vars\u001b[0m\u001b[1;33m]\u001b[0m\u001b[1;33m,\u001b[0m \u001b[0maxis\u001b[0m\u001b[1;33m=\u001b[0m\u001b[1;36m1\u001b[0m\u001b[1;33m)\u001b[0m\u001b[1;33m\u001b[0m\u001b[1;33m\u001b[0m\u001b[0m\n",
      "\u001b[1;32m~\\anaconda3\\lib\\site-packages\\pandas\\core\\frame.py\u001b[0m in \u001b[0;36m__getitem__\u001b[1;34m(self, key)\u001b[0m\n\u001b[0;32m   3811\u001b[0m             \u001b[1;32mif\u001b[0m \u001b[0mis_iterator\u001b[0m\u001b[1;33m(\u001b[0m\u001b[0mkey\u001b[0m\u001b[1;33m)\u001b[0m\u001b[1;33m:\u001b[0m\u001b[1;33m\u001b[0m\u001b[1;33m\u001b[0m\u001b[0m\n\u001b[0;32m   3812\u001b[0m                 \u001b[0mkey\u001b[0m \u001b[1;33m=\u001b[0m \u001b[0mlist\u001b[0m\u001b[1;33m(\u001b[0m\u001b[0mkey\u001b[0m\u001b[1;33m)\u001b[0m\u001b[1;33m\u001b[0m\u001b[1;33m\u001b[0m\u001b[0m\n\u001b[1;32m-> 3813\u001b[1;33m             \u001b[0mindexer\u001b[0m \u001b[1;33m=\u001b[0m \u001b[0mself\u001b[0m\u001b[1;33m.\u001b[0m\u001b[0mcolumns\u001b[0m\u001b[1;33m.\u001b[0m\u001b[0m_get_indexer_strict\u001b[0m\u001b[1;33m(\u001b[0m\u001b[0mkey\u001b[0m\u001b[1;33m,\u001b[0m \u001b[1;34m\"columns\"\u001b[0m\u001b[1;33m)\u001b[0m\u001b[1;33m[\u001b[0m\u001b[1;36m1\u001b[0m\u001b[1;33m]\u001b[0m\u001b[1;33m\u001b[0m\u001b[1;33m\u001b[0m\u001b[0m\n\u001b[0m\u001b[0;32m   3814\u001b[0m \u001b[1;33m\u001b[0m\u001b[0m\n\u001b[0;32m   3815\u001b[0m         \u001b[1;31m# take() does not accept boolean indexers\u001b[0m\u001b[1;33m\u001b[0m\u001b[1;33m\u001b[0m\u001b[1;33m\u001b[0m\u001b[0m\n",
      "\u001b[1;32m~\\anaconda3\\lib\\site-packages\\pandas\\core\\indexes\\base.py\u001b[0m in \u001b[0;36m_get_indexer_strict\u001b[1;34m(self, key, axis_name)\u001b[0m\n\u001b[0;32m   6068\u001b[0m             \u001b[0mkeyarr\u001b[0m\u001b[1;33m,\u001b[0m \u001b[0mindexer\u001b[0m\u001b[1;33m,\u001b[0m \u001b[0mnew_indexer\u001b[0m \u001b[1;33m=\u001b[0m \u001b[0mself\u001b[0m\u001b[1;33m.\u001b[0m\u001b[0m_reindex_non_unique\u001b[0m\u001b[1;33m(\u001b[0m\u001b[0mkeyarr\u001b[0m\u001b[1;33m)\u001b[0m\u001b[1;33m\u001b[0m\u001b[1;33m\u001b[0m\u001b[0m\n\u001b[0;32m   6069\u001b[0m \u001b[1;33m\u001b[0m\u001b[0m\n\u001b[1;32m-> 6070\u001b[1;33m         \u001b[0mself\u001b[0m\u001b[1;33m.\u001b[0m\u001b[0m_raise_if_missing\u001b[0m\u001b[1;33m(\u001b[0m\u001b[0mkeyarr\u001b[0m\u001b[1;33m,\u001b[0m \u001b[0mindexer\u001b[0m\u001b[1;33m,\u001b[0m \u001b[0maxis_name\u001b[0m\u001b[1;33m)\u001b[0m\u001b[1;33m\u001b[0m\u001b[1;33m\u001b[0m\u001b[0m\n\u001b[0m\u001b[0;32m   6071\u001b[0m \u001b[1;33m\u001b[0m\u001b[0m\n\u001b[0;32m   6072\u001b[0m         \u001b[0mkeyarr\u001b[0m \u001b[1;33m=\u001b[0m \u001b[0mself\u001b[0m\u001b[1;33m.\u001b[0m\u001b[0mtake\u001b[0m\u001b[1;33m(\u001b[0m\u001b[0mindexer\u001b[0m\u001b[1;33m)\u001b[0m\u001b[1;33m\u001b[0m\u001b[1;33m\u001b[0m\u001b[0m\n",
      "\u001b[1;32m~\\anaconda3\\lib\\site-packages\\pandas\\core\\indexes\\base.py\u001b[0m in \u001b[0;36m_raise_if_missing\u001b[1;34m(self, key, indexer, axis_name)\u001b[0m\n\u001b[0;32m   6128\u001b[0m                 \u001b[1;32mif\u001b[0m \u001b[0muse_interval_msg\u001b[0m\u001b[1;33m:\u001b[0m\u001b[1;33m\u001b[0m\u001b[1;33m\u001b[0m\u001b[0m\n\u001b[0;32m   6129\u001b[0m                     \u001b[0mkey\u001b[0m \u001b[1;33m=\u001b[0m \u001b[0mlist\u001b[0m\u001b[1;33m(\u001b[0m\u001b[0mkey\u001b[0m\u001b[1;33m)\u001b[0m\u001b[1;33m\u001b[0m\u001b[1;33m\u001b[0m\u001b[0m\n\u001b[1;32m-> 6130\u001b[1;33m                 \u001b[1;32mraise\u001b[0m \u001b[0mKeyError\u001b[0m\u001b[1;33m(\u001b[0m\u001b[1;34mf\"None of [{key}] are in the [{axis_name}]\"\u001b[0m\u001b[1;33m)\u001b[0m\u001b[1;33m\u001b[0m\u001b[1;33m\u001b[0m\u001b[0m\n\u001b[0m\u001b[0;32m   6131\u001b[0m \u001b[1;33m\u001b[0m\u001b[0m\n\u001b[0;32m   6132\u001b[0m             \u001b[0mnot_found\u001b[0m \u001b[1;33m=\u001b[0m \u001b[0mlist\u001b[0m\u001b[1;33m(\u001b[0m\u001b[0mensure_index\u001b[0m\u001b[1;33m(\u001b[0m\u001b[0mkey\u001b[0m\u001b[1;33m)\u001b[0m\u001b[1;33m[\u001b[0m\u001b[0mmissing_mask\u001b[0m\u001b[1;33m.\u001b[0m\u001b[0mnonzero\u001b[0m\u001b[1;33m(\u001b[0m\u001b[1;33m)\u001b[0m\u001b[1;33m[\u001b[0m\u001b[1;36m0\u001b[0m\u001b[1;33m]\u001b[0m\u001b[1;33m]\u001b[0m\u001b[1;33m.\u001b[0m\u001b[0munique\u001b[0m\u001b[1;33m(\u001b[0m\u001b[1;33m)\u001b[0m\u001b[1;33m)\u001b[0m\u001b[1;33m\u001b[0m\u001b[1;33m\u001b[0m\u001b[0m\n",
      "\u001b[1;31mKeyError\u001b[0m: \"None of [Index(['long term stays allowed', 'wifi', 'air conditioning', 'essentials',\\n       'hangers', 'shampoo', 'hair dryer', 'kitchen', 'smoke alarm',\\n       'hot water',\\n       ...\\n       'golf course view', 'clothing storage: walkin closet and closet',\\n       'electrolux electric stove',\\n       'folding or convertible high chair  available upon request',\\n       'sunsilk shampoo', 'nespresso', 'harbor view', 'hulu',\\n       'aro conditioner', 'pack \\\\n play/travel crib  available upon request'],\\n      dtype='object', length=323)] are in the [columns]\""
     ]
    }
   ],
   "source": [
    "# create dummy variables for the amenities column\n",
    "dummy_vars = pd.get_dummies(df[amenities_to_keep.index.tolist()])\n",
    "\n",
    "# add the dummy variables to the data frame\n",
    "df = pd.concat([df, dummy_vars], axis=1)\n"
   ]
  },
  {
   "cell_type": "code",
   "execution_count": 65,
   "id": "40c7006e",
   "metadata": {},
   "outputs": [
    {
     "ename": "KeyError",
     "evalue": "'long term stays allowed'",
     "output_type": "error",
     "traceback": [
      "\u001b[1;31m---------------------------------------------------------------------------\u001b[0m",
      "\u001b[1;31mKeyError\u001b[0m                                  Traceback (most recent call last)",
      "\u001b[1;32m~\\anaconda3\\lib\\site-packages\\pandas\\core\\indexes\\base.py\u001b[0m in \u001b[0;36mget_loc\u001b[1;34m(self, key, method, tolerance)\u001b[0m\n\u001b[0;32m   3801\u001b[0m             \u001b[1;32mtry\u001b[0m\u001b[1;33m:\u001b[0m\u001b[1;33m\u001b[0m\u001b[1;33m\u001b[0m\u001b[0m\n\u001b[1;32m-> 3802\u001b[1;33m                 \u001b[1;32mreturn\u001b[0m \u001b[0mself\u001b[0m\u001b[1;33m.\u001b[0m\u001b[0m_engine\u001b[0m\u001b[1;33m.\u001b[0m\u001b[0mget_loc\u001b[0m\u001b[1;33m(\u001b[0m\u001b[0mcasted_key\u001b[0m\u001b[1;33m)\u001b[0m\u001b[1;33m\u001b[0m\u001b[1;33m\u001b[0m\u001b[0m\n\u001b[0m\u001b[0;32m   3803\u001b[0m             \u001b[1;32mexcept\u001b[0m \u001b[0mKeyError\u001b[0m \u001b[1;32mas\u001b[0m \u001b[0merr\u001b[0m\u001b[1;33m:\u001b[0m\u001b[1;33m\u001b[0m\u001b[1;33m\u001b[0m\u001b[0m\n",
      "\u001b[1;32m~\\anaconda3\\lib\\site-packages\\pandas\\_libs\\index.pyx\u001b[0m in \u001b[0;36mpandas._libs.index.IndexEngine.get_loc\u001b[1;34m()\u001b[0m\n",
      "\u001b[1;32m~\\anaconda3\\lib\\site-packages\\pandas\\_libs\\index.pyx\u001b[0m in \u001b[0;36mpandas._libs.index.IndexEngine.get_loc\u001b[1;34m()\u001b[0m\n",
      "\u001b[1;32mpandas\\_libs\\hashtable_class_helper.pxi\u001b[0m in \u001b[0;36mpandas._libs.hashtable.PyObjectHashTable.get_item\u001b[1;34m()\u001b[0m\n",
      "\u001b[1;32mpandas\\_libs\\hashtable_class_helper.pxi\u001b[0m in \u001b[0;36mpandas._libs.hashtable.PyObjectHashTable.get_item\u001b[1;34m()\u001b[0m\n",
      "\u001b[1;31mKeyError\u001b[0m: 'long term stays allowed'",
      "\nThe above exception was the direct cause of the following exception:\n",
      "\u001b[1;31mKeyError\u001b[0m                                  Traceback (most recent call last)",
      "\u001b[1;32m<ipython-input-65-d0887be275ee>\u001b[0m in \u001b[0;36m<module>\u001b[1;34m\u001b[0m\n\u001b[0;32m      3\u001b[0m \u001b[1;33m\u001b[0m\u001b[0m\n\u001b[0;32m      4\u001b[0m \u001b[1;32mfor\u001b[0m \u001b[0mcol\u001b[0m \u001b[1;32min\u001b[0m \u001b[0mdummies\u001b[0m\u001b[1;33m:\u001b[0m\u001b[1;33m\u001b[0m\u001b[1;33m\u001b[0m\u001b[0m\n\u001b[1;32m----> 5\u001b[1;33m     \u001b[0mdf\u001b[0m\u001b[1;33m[\u001b[0m\u001b[1;34m\"d_\"\u001b[0m \u001b[1;33m+\u001b[0m \u001b[1;33m(\u001b[0m\u001b[0mre\u001b[0m\u001b[1;33m.\u001b[0m\u001b[0msub\u001b[0m\u001b[1;33m(\u001b[0m\u001b[1;34m\"/|\\s|-\"\u001b[0m\u001b[1;33m,\u001b[0m \u001b[1;34m\"\"\u001b[0m\u001b[1;33m,\u001b[0m \u001b[0mcol\u001b[0m\u001b[1;33m)\u001b[0m\u001b[1;33m)\u001b[0m\u001b[1;33m.\u001b[0m\u001b[0mreplace\u001b[0m\u001b[1;33m(\u001b[0m\u001b[1;34m\"(s)\"\u001b[0m\u001b[1;33m,\u001b[0m \u001b[1;34m\"s\"\u001b[0m\u001b[1;33m)\u001b[0m\u001b[1;33m.\u001b[0m\u001b[0mlower\u001b[0m\u001b[1;33m(\u001b[0m\u001b[1;33m)\u001b[0m\u001b[1;33m]\u001b[0m \u001b[1;33m=\u001b[0m \u001b[0mdf\u001b[0m\u001b[1;33m[\u001b[0m\u001b[0mcol\u001b[0m\u001b[1;33m]\u001b[0m\u001b[1;33m\u001b[0m\u001b[1;33m\u001b[0m\u001b[0m\n\u001b[0m",
      "\u001b[1;32m~\\anaconda3\\lib\\site-packages\\pandas\\core\\frame.py\u001b[0m in \u001b[0;36m__getitem__\u001b[1;34m(self, key)\u001b[0m\n\u001b[0;32m   3805\u001b[0m             \u001b[1;32mif\u001b[0m \u001b[0mself\u001b[0m\u001b[1;33m.\u001b[0m\u001b[0mcolumns\u001b[0m\u001b[1;33m.\u001b[0m\u001b[0mnlevels\u001b[0m \u001b[1;33m>\u001b[0m \u001b[1;36m1\u001b[0m\u001b[1;33m:\u001b[0m\u001b[1;33m\u001b[0m\u001b[1;33m\u001b[0m\u001b[0m\n\u001b[0;32m   3806\u001b[0m                 \u001b[1;32mreturn\u001b[0m \u001b[0mself\u001b[0m\u001b[1;33m.\u001b[0m\u001b[0m_getitem_multilevel\u001b[0m\u001b[1;33m(\u001b[0m\u001b[0mkey\u001b[0m\u001b[1;33m)\u001b[0m\u001b[1;33m\u001b[0m\u001b[1;33m\u001b[0m\u001b[0m\n\u001b[1;32m-> 3807\u001b[1;33m             \u001b[0mindexer\u001b[0m \u001b[1;33m=\u001b[0m \u001b[0mself\u001b[0m\u001b[1;33m.\u001b[0m\u001b[0mcolumns\u001b[0m\u001b[1;33m.\u001b[0m\u001b[0mget_loc\u001b[0m\u001b[1;33m(\u001b[0m\u001b[0mkey\u001b[0m\u001b[1;33m)\u001b[0m\u001b[1;33m\u001b[0m\u001b[1;33m\u001b[0m\u001b[0m\n\u001b[0m\u001b[0;32m   3808\u001b[0m             \u001b[1;32mif\u001b[0m \u001b[0mis_integer\u001b[0m\u001b[1;33m(\u001b[0m\u001b[0mindexer\u001b[0m\u001b[1;33m)\u001b[0m\u001b[1;33m:\u001b[0m\u001b[1;33m\u001b[0m\u001b[1;33m\u001b[0m\u001b[0m\n\u001b[0;32m   3809\u001b[0m                 \u001b[0mindexer\u001b[0m \u001b[1;33m=\u001b[0m \u001b[1;33m[\u001b[0m\u001b[0mindexer\u001b[0m\u001b[1;33m]\u001b[0m\u001b[1;33m\u001b[0m\u001b[1;33m\u001b[0m\u001b[0m\n",
      "\u001b[1;32m~\\anaconda3\\lib\\site-packages\\pandas\\core\\indexes\\base.py\u001b[0m in \u001b[0;36mget_loc\u001b[1;34m(self, key, method, tolerance)\u001b[0m\n\u001b[0;32m   3802\u001b[0m                 \u001b[1;32mreturn\u001b[0m \u001b[0mself\u001b[0m\u001b[1;33m.\u001b[0m\u001b[0m_engine\u001b[0m\u001b[1;33m.\u001b[0m\u001b[0mget_loc\u001b[0m\u001b[1;33m(\u001b[0m\u001b[0mcasted_key\u001b[0m\u001b[1;33m)\u001b[0m\u001b[1;33m\u001b[0m\u001b[1;33m\u001b[0m\u001b[0m\n\u001b[0;32m   3803\u001b[0m             \u001b[1;32mexcept\u001b[0m \u001b[0mKeyError\u001b[0m \u001b[1;32mas\u001b[0m \u001b[0merr\u001b[0m\u001b[1;33m:\u001b[0m\u001b[1;33m\u001b[0m\u001b[1;33m\u001b[0m\u001b[0m\n\u001b[1;32m-> 3804\u001b[1;33m                 \u001b[1;32mraise\u001b[0m \u001b[0mKeyError\u001b[0m\u001b[1;33m(\u001b[0m\u001b[0mkey\u001b[0m\u001b[1;33m)\u001b[0m \u001b[1;32mfrom\u001b[0m \u001b[0merr\u001b[0m\u001b[1;33m\u001b[0m\u001b[1;33m\u001b[0m\u001b[0m\n\u001b[0m\u001b[0;32m   3805\u001b[0m             \u001b[1;32mexcept\u001b[0m \u001b[0mTypeError\u001b[0m\u001b[1;33m:\u001b[0m\u001b[1;33m\u001b[0m\u001b[1;33m\u001b[0m\u001b[0m\n\u001b[0;32m   3806\u001b[0m                 \u001b[1;31m# If we have a listlike key, _check_indexing_error will raise\u001b[0m\u001b[1;33m\u001b[0m\u001b[1;33m\u001b[0m\u001b[1;33m\u001b[0m\u001b[0m\n",
      "\u001b[1;31mKeyError\u001b[0m: 'long term stays allowed'"
     ]
    }
   ],
   "source": [
    "# create dummy vars\n",
    "dummies = amenities_to_keep.index.tolist()\n",
    "\n",
    "for col in dummies:\n",
    "    df[\"d_\" + (re.sub(\"/|\\s|-\", \"\", col)).replace(\"(s)\", \"s\").lower()] = df[col]"
   ]
  },
  {
   "cell_type": "code",
   "execution_count": 66,
   "id": "f41e8064",
   "metadata": {},
   "outputs": [],
   "source": [
    "# create distance to Grand Palace, the most important historical building in Bangkok\n",
    "# it is a good approximation of the city center"
   ]
  },
  {
   "cell_type": "code",
   "execution_count": 59,
   "id": "5a8950f4",
   "metadata": {},
   "outputs": [],
   "source": [
    "distances = []\n",
    "for hostel_coord in np.array(df[['latitude', 'longitude']]):\n",
    "    coords_grand_palace = (13.750300, 100.491180)\n",
    "    # this function calculates distance of coordinates (in km)\n",
    "    distances.append(geopy.distance.distance(coords_grand_palace, hostel_coord).km)"
   ]
  },
  {
   "cell_type": "code",
   "execution_count": 60,
   "id": "2b12151b",
   "metadata": {},
   "outputs": [],
   "source": [
    "df[\"n_dist_to_grand_palace\"] = distances"
   ]
  },
  {
   "cell_type": "code",
   "execution_count": 61,
   "id": "213d1784",
   "metadata": {},
   "outputs": [
    {
     "data": {
      "text/plain": [
       "<AxesSubplot: >"
      ]
     },
     "execution_count": 61,
     "metadata": {},
     "output_type": "execute_result"
    },
    {
     "data": {
      "image/png": "[encoded data removed]",
      "text/plain": [
       "<Figure size 432x288 with 1 Axes>"
      ]
     },
     "metadata": {
      "needs_background": "light"
     },
     "output_type": "display_data"
    }
   ],
   "source": [
    "df.n_dist_to_grand_palace.hist(bins=30)"
   ]
  },
  {
   "cell_type": "code",
   "execution_count": 62,
   "id": "f1153912",
   "metadata": {},
   "outputs": [],
   "source": [
    "# keep columns if contain d_, n_,f_, p_, usd_ and some others\n",
    "\n",
    "df = df.filter(regex=\"^d_.*|^n_.*|^f_.*|^p_.*|^price.*\").assign(id = df.id)"
   ]
  },
  {
   "cell_type": "code",
   "execution_count": 63,
   "id": "84682301",
   "metadata": {},
   "outputs": [],
   "source": [
    "#these are for the lasso\n"
   ]
  },
  {
   "cell_type": "code",
   "execution_count": 67,
   "id": "795aacc4",
   "metadata": {},
   "outputs": [],
   "source": [
    "# Squares and further values to create\n",
    "df = df.assign(\n",
    "    n_accommodates2=lambda x: x[\"n_accommodates\"] ** 2,\n",
    "    n_dist_to_grand_palace2=lambda x: x[\"n_dist_to_grand_palace\"] ** 2,\n",
    "    ln_accommodates=lambda x: np.log(x[\"n_accommodates\"]),\n",
    "    ln_accommodates2=lambda x: np.log(x[\"n_accommodates\"]) ** 2,\n",
    "    ln_beds=lambda x: np.log(x[\"n_beds\"]),\n",
    "    ln_number_of_reviews=lambda x: np.log(x[\"n_number_of_reviews\"] + 1),\n",
    ")"
   ]
  },
  {
   "cell_type": "code",
   "execution_count": 69,
   "id": "17487924",
   "metadata": {},
   "outputs": [
    {
     "data": {
      "text/plain": [
       "1      2392\n",
       "0      1070\n",
       "2       636\n",
       "NaN       1\n",
       "Name: f_number_of_reviews, dtype: int64"
      ]
     },
     "execution_count": 69,
     "metadata": {},
     "output_type": "execute_result"
    }
   ],
   "source": [
    "# Pool num of reviews to 3 categories: none, 1-51 and >51\n",
    "\n",
    "bins = pd.IntervalIndex.from_tuples(\n",
    "    [(0, 1), (1, 51), (51, max(df.n_number_of_reviews))], closed=\"left\"\n",
    ")\n",
    "fnor = pd.cut(df[\"n_number_of_reviews\"].to_list(), bins, labels=[\"0\", \"1\", \"2\"])\n",
    "fnor.categories = [0, 1, 2]\n",
    "df[\"f_number_of_reviews\"] = fnor\n",
    "df[\"f_number_of_reviews\"].value_counts(dropna=False)"
   ]
  },
  {
   "cell_type": "code",
   "execution_count": 70,
   "id": "bb4436fc",
   "metadata": {},
   "outputs": [
    {
     "data": {
      "text/plain": [
       "3      1878\n",
       "1      1705\n",
       "2       515\n",
       "NaN       1\n",
       "Name: f_minimum_nights, dtype: int64"
      ]
     },
     "execution_count": 70,
     "metadata": {},
     "output_type": "execute_result"
    }
   ],
   "source": [
    "# Pool and categorize the number of minimum nights: 1,2,3, 3+\n",
    "\n",
    "bins = pd.IntervalIndex.from_tuples(\n",
    "    [(1, 2), (2, 3), (3, max(df.n_minimum_nights))], closed=\"left\"\n",
    ")\n",
    "f_min_n = pd.cut(df[\"n_minimum_nights\"].to_list(), bins, labels=[\"1\", \"2\", \"3\"])\n",
    "f_min_n.categories = [1, 2, 3]\n",
    "df[\"f_minimum_nights\"] = f_min_n\n",
    "df[\"f_minimum_nights\"].value_counts(dropna=False)"
   ]
  },
  {
   "cell_type": "code",
   "execution_count": 71,
   "id": "7bb9b8fd",
   "metadata": {},
   "outputs": [],
   "source": [
    "# Change Infinite values with NaNs\n",
    "df = df.replace([np.inf, -np.inf], np.nan)"
   ]
  },
  {
   "cell_type": "code",
   "execution_count": 72,
   "id": "7a5b78b3",
   "metadata": {},
   "outputs": [
    {
     "data": {
      "text/plain": [
       "n_review_scores_rating    1070\n",
       "n_reviews_per_month       1070\n",
       "n_beds                      43\n",
       "n_days_since              1070\n",
       "ln_beds                     43\n",
       "f_number_of_reviews          1\n",
       "f_minimum_nights             1\n",
       "dtype: int64"
      ]
     },
     "execution_count": 72,
     "metadata": {},
     "output_type": "execute_result"
    }
   ],
   "source": [
    "# ------------------------------------------------------------------------------------------------\n",
    "# where do we have missing variables now?\n",
    "to_filter = df.isna().sum()\n",
    "to_filter[to_filter > 0]"
   ]
  },
  {
   "cell_type": "code",
   "execution_count": 73,
   "id": "a6073971",
   "metadata": {},
   "outputs": [],
   "source": [
    "# what to do with missing values?"
   ]
  },
  {
   "cell_type": "code",
   "execution_count": 74,
   "id": "4be752aa",
   "metadata": {},
   "outputs": [
    {
     "data": {
      "text/plain": [
       "0"
      ]
     },
     "execution_count": 74,
     "metadata": {},
     "output_type": "execute_result"
    }
   ],
   "source": [
    "df.price.isnull().sum()"
   ]
  },
  {
   "cell_type": "code",
   "execution_count": 75,
   "id": "0de4450d",
   "metadata": {},
   "outputs": [],
   "source": [
    "# 2. imput when few, not that important\n",
    "df = df.assign(\n",
    "    n_beds=lambda x: np.where(x[\"n_beds\"].isnull(), x[\"n_accommodates\"], x[\"n_beds\"]),\n",
    "    f_minimum_nights=lambda x: x[\"f_minimum_nights\"].fillna(1),\n",
    "    f_number_of_reviews=lambda x: x[\"f_number_of_reviews\"].fillna(1),\n",
    "    ln_beds=lambda x: x[\"ln_beds\"].fillna(0),\n",
    ")"
   ]
  },
  {
   "cell_type": "code",
   "execution_count": 76,
   "id": "cecbd030",
   "metadata": {},
   "outputs": [
    {
     "data": {
      "text/plain": [
       "n_review_scores_rating    1070\n",
       "n_reviews_per_month       1070\n",
       "n_days_since              1070\n",
       "dtype: int64"
      ]
     },
     "execution_count": 76,
     "metadata": {},
     "output_type": "execute_result"
    }
   ],
   "source": [
    "to_filter = df.isna().sum()\n",
    "to_filter[to_filter > 0]"
   ]
  },
  {
   "cell_type": "code",
   "execution_count": 79,
   "id": "bdd3cd78",
   "metadata": {},
   "outputs": [],
   "source": [
    "# 4. Replace missing variables re reviews with zero, when no review + add flags\n",
    "df = df.assign(\n",
    "    flag_days_since=np.multiply(df.n_days_since.isna(), 1),\n",
    "    n_days_since=df.n_days_since.fillna(np.median(df.n_days_since.dropna())),\n",
    "    flag_review_scores_rating=np.multiply(df.n_review_scores_rating.isna(), 1),\n",
    "    n_review_scores_rating=df.n_review_scores_rating.fillna(\n",
    "        np.median(df.n_review_scores_rating.dropna())\n",
    "    ),\n",
    "    flag_reviews_per_month=np.multiply(df.n_reviews_per_month.isna(), 1),\n",
    "    n_reviews_per_month=df.n_reviews_per_month.fillna(\n",
    "        np.median(df.n_reviews_per_month.dropna())\n",
    "    ),\n",
    "    flag_n_number_of_reviews=np.multiply(df.n_number_of_reviews.isna(), 1),\n",
    ")"
   ]
  },
  {
   "cell_type": "code",
   "execution_count": 80,
   "id": "9b8b342c",
   "metadata": {},
   "outputs": [
    {
     "data": {
      "text/plain": [
       "0    3029\n",
       "1    1070\n",
       "Name: flag_days_since, dtype: int64"
      ]
     },
     "execution_count": 80,
     "metadata": {},
     "output_type": "execute_result"
    }
   ],
   "source": [
    "df.flag_days_since.value_counts()"
   ]
  },
  {
   "cell_type": "code",
   "execution_count": 81,
   "id": "4f47c228",
   "metadata": {},
   "outputs": [],
   "source": [
    "# Create variables, measuring the time since: squared, cubic, logs\n",
    "df = df.assign(\n",
    "    ln_days_since=lambda x: np.log(x[\"n_days_since\"] + 1),\n",
    "    ln_days_since2=lambda x: np.log(x[\"n_days_since\"] + 1) ** 2,\n",
    "    ln_days_since3=lambda x: np.log(x[\"n_days_since\"] + 1) ** 3,\n",
    "    n_days_since2=lambda x: x[\"n_days_since\"] ** 2,\n",
    "    n_days_since3=lambda x: x[\"n_days_since\"] ** 3,\n",
    "    ln_review_scores_rating=lambda x: np.log(x[\"n_review_scores_rating\"]),\n",
    ")"
   ]
  },
  {
   "cell_type": "code",
   "execution_count": 82,
   "id": "5c994015",
   "metadata": {},
   "outputs": [],
   "source": [
    "df.ln_days_since = df[\"ln_days_since\"].fillna(0)\n",
    "df.ln_days_since2 = df[\"ln_days_since2\"].fillna(0)\n",
    "df.ln_days_since3 = df[\"ln_days_since3\"].fillna(0)"
   ]
  },
  {
   "cell_type": "code",
   "execution_count": 83,
   "id": "e0169d1e",
   "metadata": {},
   "outputs": [
    {
     "data": {
      "text/plain": [
       "Series([], dtype: int64)"
      ]
     },
     "execution_count": 83,
     "metadata": {},
     "output_type": "execute_result"
    }
   ],
   "source": [
    "to_filter = df.isna().sum()\n",
    "to_filter[to_filter > 0]"
   ]
  },
  {
   "cell_type": "code",
   "execution_count": 84,
   "id": "f952c56d",
   "metadata": {},
   "outputs": [],
   "source": [
    "df.to_csv(\"Bangkok_dataset.csv\", index=False)"
   ]
  },
  {
   "cell_type": "code",
   "execution_count": null,
   "id": "fc1e5e45",
   "metadata": {},
   "outputs": [],
   "source": []
  }
 ],
 "metadata": {
  "kernelspec": {
   "display_name": "Python 3",
   "language": "python",
   "name": "python3"
  },
  "language_info": {
   "codemirror_mode": {
    "name": "ipython",
    "version": 3
   },
   "file_extension": ".py",
   "mimetype": "text/x-python",
   "name": "python",
   "nbconvert_exporter": "python",
   "pygments_lexer": "ipython3",
   "version": "3.8.8"
  }
 },
 "nbformat": 4,
 "nbformat_minor": 5
}
